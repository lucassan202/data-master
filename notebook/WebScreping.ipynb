{
 "cells": [
  {
   "cell_type": "code",
   "execution_count": 252,
   "id": "661a7320",
   "metadata": {},
   "outputs": [],
   "source": [
    "from selenium import webdriver\n",
    "from selenium.webdriver.common.keys import Keys\n",
    "from selenium.webdriver.common.by import By\n",
    "from selenium.webdriver.support.ui import WebDriverWait\n",
    "from selenium.webdriver.support import expected_conditions as EC"
   ]
  },
  {
   "cell_type": "code",
   "execution_count": 253,
   "id": "9d133949",
   "metadata": {},
   "outputs": [],
   "source": [
    "driver = webdriver.Firefox()"
   ]
  },
  {
   "cell_type": "code",
   "execution_count": 254,
   "id": "5de79811",
   "metadata": {},
   "outputs": [],
   "source": [
    "driver.get(\"https://consumidor.gov.br/pages/indicador/geral/abrir\")"
   ]
  },
  {
   "cell_type": "code",
   "execution_count": 255,
   "id": "6408d7ba",
   "metadata": {},
   "outputs": [],
   "source": [
    "wait = WebDriverWait(driver, 10)"
   ]
  },
  {
   "cell_type": "code",
   "execution_count": 256,
   "id": "94b09599",
   "metadata": {},
   "outputs": [
    {
     "data": {
      "text/plain": [
       "<selenium.webdriver.remote.webelement.WebElement (session=\"74ed6f68-c6ea-457d-abc8-9fef9401f71b\", element=\"1f8c923b-8a48-4ea8-acea-4773ddeeee8f\")>"
      ]
     },
     "execution_count": 256,
     "metadata": {},
     "output_type": "execute_result"
    }
   ],
   "source": [
    "wait.until(EC.element_to_be_clickable((By.ID, 'li_tab_relatos')))"
   ]
  },
  {
   "cell_type": "code",
   "execution_count": 257,
   "id": "e0336350",
   "metadata": {},
   "outputs": [],
   "source": [
    "tab_relatos = driver.find_element(By.ID, \"li_tab_relatos\")"
   ]
  },
  {
   "cell_type": "code",
   "execution_count": 258,
   "id": "c59b478f",
   "metadata": {},
   "outputs": [],
   "source": [
    "tab_relatos.click()"
   ]
  },
  {
   "cell_type": "code",
   "execution_count": 259,
   "id": "994d97eb",
   "metadata": {},
   "outputs": [],
   "source": [
    "btn_mais_resultados = driver.find_element(By.ID, \"btn-mais-resultados\")"
   ]
  },
  {
   "cell_type": "code",
   "execution_count": 260,
   "id": "b727f072",
   "metadata": {},
   "outputs": [],
   "source": [
    "btn_mais_resultados.click()"
   ]
  },
  {
   "cell_type": "code",
   "execution_count": 261,
   "id": "26a53f12",
   "metadata": {},
   "outputs": [],
   "source": [
    "resultados = driver.find_element(By.ID, 'resultados')"
   ]
  },
  {
   "cell_type": "code",
   "execution_count": 262,
   "id": "209a64c5",
   "metadata": {},
   "outputs": [],
   "source": [
    "nom_empresas = resultados.find_elements(By.CLASS_NAME, 'relatos-nome-empresa')\n"
   ]
  },
  {
   "cell_type": "code",
   "execution_count": 263,
   "id": "9b38915e",
   "metadata": {},
   "outputs": [],
   "source": [
    "empresas = []"
   ]
  },
  {
   "cell_type": "code",
   "execution_count": 264,
   "id": "5e6d4853",
   "metadata": {},
   "outputs": [],
   "source": [
    "for empresa in nom_empresas:\n",
    "    empresas.append(empresa.find_element(By.TAG_NAME, 'a').text)    "
   ]
  },
  {
   "cell_type": "code",
   "execution_count": 265,
   "id": "d3a9063c",
   "metadata": {},
   "outputs": [],
   "source": [
    "rel_status = resultados.find_elements(By.TAG_NAME, 'h4')"
   ]
  },
  {
   "cell_type": "code",
   "execution_count": 266,
   "id": "c7e798b9",
   "metadata": {},
   "outputs": [],
   "source": [
    "lst_status = []"
   ]
  },
  {
   "cell_type": "code",
   "execution_count": 267,
   "id": "ee23ff1f",
   "metadata": {},
   "outputs": [],
   "source": [
    "for status in rel_status:\n",
    "    lst_status.append(status.text)        "
   ]
  },
  {
   "cell_type": "code",
   "execution_count": 268,
   "id": "24a138fd",
   "metadata": {},
   "outputs": [],
   "source": [
    "rel_datas = resultados.find_elements(By.CLASS_NAME, 'relatos-data')"
   ]
  },
  {
   "cell_type": "code",
   "execution_count": 269,
   "id": "1e365567",
   "metadata": {},
   "outputs": [],
   "source": [
    "tempo_respostas = []\n",
    "datas = []\n",
    "cidades = []\n",
    "ufs = []\n",
    "count = 1"
   ]
  },
  {
   "cell_type": "code",
   "execution_count": 270,
   "id": "196d7cca",
   "metadata": {},
   "outputs": [],
   "source": [
    "for data in rel_datas:\n",
    "    if count % 2 == 0:\n",
    "        tempo_respostas.append(data.text.replace('(','').replace(')',''))   \n",
    "    else:\n",
    "        datas.append(data.text.split(',')[0])\n",
    "        cidades.append(data.text.split(',')[1].split('-')[0].strip())\n",
    "        ufs.append(data.text.split(',')[1].split('-')[1].strip())\n",
    "    count=count+1"
   ]
  },
  {
   "cell_type": "code",
   "execution_count": 271,
   "id": "047a4185",
   "metadata": {},
   "outputs": [],
   "source": [
    "lst_relatos = resultados.find_elements(By.XPATH, \"//div[3]/p\")\n",
    "lst_respostas = resultados.find_elements(By.XPATH, \"//div[4]/p\")\n",
    "lst_notas_comentarios = resultados.find_elements(By.XPATH, \"//div[5]/p\")"
   ]
  },
  {
   "cell_type": "code",
   "execution_count": 272,
   "id": "deeb0d20",
   "metadata": {},
   "outputs": [],
   "source": [
    "relatos = []\n",
    "respostas = []\n",
    "notas = []\n",
    "comentarios = []"
   ]
  },
  {
   "cell_type": "code",
   "execution_count": 273,
   "id": "f2921c7d",
   "metadata": {},
   "outputs": [],
   "source": [
    "for relato in lst_relatos:\n",
    "    relatos.append(relato.text)        "
   ]
  },
  {
   "cell_type": "code",
   "execution_count": 274,
   "id": "95a79863",
   "metadata": {},
   "outputs": [],
   "source": [
    "for resposta in lst_respostas:\n",
    "    respostas.append(resposta.text)     "
   ]
  },
  {
   "cell_type": "code",
   "execution_count": 275,
   "id": "43de1392",
   "metadata": {},
   "outputs": [],
   "source": [
    "count = 1\n",
    "for nota in lst_notas_comentarios:\n",
    "    if count % 2 == 0:\n",
    "        comentarios.append(nota.text)\n",
    "    else:\n",
    "        notas.append(nota.text)\n",
    "    count=count+1"
   ]
  },
  {
   "cell_type": "code",
   "execution_count": 276,
   "id": "72b95fea",
   "metadata": {},
   "outputs": [],
   "source": [
    "relatos = list(zip(empresas,lst_status,tempo_respostas, datas, cidades, ufs, relatos, respostas, notas, comentarios))"
   ]
  },
  {
   "cell_type": "code",
   "execution_count": 277,
   "id": "3613b3c8",
   "metadata": {},
   "outputs": [
    {
     "data": {
      "text/plain": [
       "[('Cemig',\n",
       "  'Resolvido',\n",
       "  'no mesmo dia',\n",
       "  '10/10/2024',\n",
       "  'Ibirité',\n",
       "  'MG',\n",
       "  'Quero saber quais são os canais digitais da Cemig.',\n",
       "  'Olá, Ketlen ! Boa Noite, Tudo bem? Em resposta a sua manifestação no site consumidor.gov, SERVIÇOS POR CANAL DE ATENDIMENTO Conheça os canais de atendimento da Cemig e os serviços disponíveis em cada um. Pensando na proteção e comodidade dos clientes, os nossos serviços estão disponíveis nos canais digitais de atendimento. Confira abaixo o passo a passo para acessá-los. CANAIS DIGITAIS DE ATENDIMENTO: Cemig Atende Web App Cemig Atende – disponível para Android e iOS. WhatsApp: (31) XXXXX-X160 Telegram: @cemigbot Central de atendimento 116: prioridade para emergências (alguns serviços continuam disponíveis no atendimento eletrônico). Agendamento para atendimento presencial ou vídeo atendimento: Reiteramos que permanecemos à disposição para quaisquer esclarecimentos que se façam necessários também nos canais de atendimento abaixo: Cemig Atende APP WhatsApp: 31 XXXXX-X160 Agência virtual: www.cemigatende.com.br Central de atendimento: Ligue 116 Central de Atendimento para Deficientes Auditivos: 0800 723 8007 Te convido a participar da avaliação sobre meu atendimento, pois é muito importante para mim e é sobre nossa interação nesse atendimento. Se tiver ficado satisfeito, a nota que representa sua satisfação é 5 A Cemig agradece sua confiança!',\n",
       "  'Nota 5',\n",
       "  'bom'),\n",
       " ('Cemig',\n",
       "  'Resolvido',\n",
       "  'no mesmo dia',\n",
       "  '10/10/2024',\n",
       "  'Contagem',\n",
       "  'MG',\n",
       "  'Qual o processo para ligação nova?',\n",
       "  'Olá, Filipe! Boa Noite, tudo bem? Em resposta a sua manifestação no site consumidor.gov, Para realizar o pedido basta apresentar os documentos pessoais do titular da nova unidade consumidora e do imóvel. DOCUMENTOS PESSOAIS Pessoa Física: – CPF e um documento oficial com foto (apresentar os documentos); – Se o solicitante não for o titular da unidade consumidora, será preciso uma procuração; Pessoa Jurídica: – Documentos relativos à constituição da empresa, como o contrato social, requerimento de empresário ou o CCMEI; – Registro da empresa na junta comercial; – Documentos dos seus representantes legais, que são os mesmos exigidos para uma ligação nova de pessoa física. – Se o solicitante não for o representante legal da unidade consumidora, será preciso uma procuração; Pessoa Jurídica Poder Público: – Documento dos seus representantes legais, que são os mesmos exigidos para uma ligação nova de pessoa física. Se, por ventura, o novo titular, pessoa física ou jurídica, possuir algum débito com a Cemig, será necessário fazer a quitação antes de solicitar o pedido de Conexão Nova (ligação nova). DOCUMENTOS DO IMÓVEL – ÁREA URBANA Documento de Regularidade: Informe o endereço completo do imóvel. É importante informar o endereço conforme consta em documento do poder público local para comprovar a localização regular do imóvel e ainda facilitar a localização da unidade consumidora pelas equipes da Cemig. Exemplo de documento do imóvel que deve ser apresentado. Podendo ser qualquer um desses: Certidão de Número, habite-se ou declaração semelhante emitida pela Prefeitura Municipal, constando os números de lote e quadra e bairro; IPTU; Registro de Imóvel; Escritura Pública; Alvará de construção; Alvará de licença de localização; Planta de Arquitetura aprovada pela prefeitura Licença ou declaração emitida pelo órgão competente quando a unidade consumidora, sob a responsabilidade do interessado, ocupar área protegida pela legislação, tais como unidade de conservação, reservas legais, áreas de preservação permanente, territórios indígenas e quilombolas áreas dos poderes municipal, estadual e federal; Observação 1: Em cumprimento à Lei municipal nº 14.067 de 28/07/20, de Juiz de Fora, o documento de comprovação da localização regular do imóvel não precisa ser apresentado, somente para o município de Juiz de Fora. Observação 2: Cliente do Poder Público não precisa apresentar documento de comprovação da localização regular do imóvel. Para as autarquias vinculadas ao Poder Público, será necessário apresentar o contrato social ou estatuto social da Pessoa Jurídica. Reiteramos que permanecemos à disposição para quaisquer esclarecimentos que se façam necessários também nos canais de atendimento abaixo: Cemig Atende APP WhatsApp: 31 XXXXX-X160 Agência virtual: www.cemigatende.com.br Central de atendimento: Ligue 116 Central de Atendimento para Deficientes Auditivos: 0800 723 8007 Te convido a participar',\n",
       "  'Nota 5',\n",
       "  '<não há comentários do consumidor>'),\n",
       " ('Cemig',\n",
       "  'Resolvido',\n",
       "  'no mesmo dia',\n",
       "  '10/10/2024',\n",
       "  'Belo Horizonte',\n",
       "  'MG',\n",
       "  'Quero saber sobre ligação nova rural.',\n",
       "  'Olá, Fernanda ! Boa Tarde, tudo bem? Em resposta a sua manifestação no site consumidor.gov, Para realizar o pedido basta apresentar os documentos pessoais do titular da nova unidade consumidora e do imóvel. DOCUMENTOS PESSOAIS Pessoa Física: – CPF e um documento oficial com foto (apresentar os documentos); – Se o solicitante não for o titular da unidade consumidora, será preciso uma procuração; Pessoa Jurídica: – Documentos relativos à constituição da empresa, como o contrato social, requerimento de empresário ou o CCMEI; – Registro da empresa na junta comercial; – Documentos dos seus representantes legais, que são os mesmos exigidos para uma ligação nova de pessoa física. – Se o solicitante não for o representante legal da unidade consumidora, será preciso uma procuração; Pessoa Jurídica Poder Público: – Documento dos seus representantes legais, que são os mesmos exigidos para uma ligação nova de pessoa física. Se, por ventura, o novo titular, pessoa física ou jurídica, possuir algum débito com a Cemig, será necessário fazer a quitação antes de solicitar o pedido de Conexão Nova (ligação nova). DOCUMENTOS DO IMÓVEL – ÁREA RURAL 1. Documento de Posse / Propriedade: Deverá ser apresentado um documento de propriedade ou posse do imóvel, contendo o endereço completo do imóvel, que pode ser: Escritura Pública ou Registro do Imóvel, ou; Contrato de compra e venda, ou; Contrato de locação, ou; Termo de doação, ou; Termo de permissão de uso, ou; Contrato de arrendamento / comodato, ou; Formal de partilha. Vale ressaltar algumas verificações importantes para dar validade aos contratos de qualquer natureza: 1. Em caso de falecimento do proprietário do imóvel, poderá ser considerado como novo interessado o cônjuge ou filhos, desde que seja apresentada a certidão de óbito; 2. Deve constar a assinatura de todas as partes envolvidas no contrato (contratante e contratado); 3. O contrato deve conter as informações dos documentos pessoais das partes (CPF e/ou RG); 4. O contrato deve informar a data de sua celebração; 5. O contrato deve conter informações do imóvel objeto da contratação de forma clara para não deixar dúvidas (endereço completo, com logradouro, número predial, bairro e cidade ou se imóvel rural). Na ausência destas informações deve ser apresentado outro documento ou uma declaração da prefeitura informando o endereço completo. 6. A assinatura das testemunhas e dos avalistas/fiadores é obrigatória no contrato, somente se essas pessoas forem citadas no documento. Ao apresentar os documentos, é importante informar seu número de telefone celular e e-mail. Assim, ficará mais fácil para as equipes da Cemig fazerem contato com você sobre o andamento do serviço. Reiteramos que permanecemos à disposição para quaisquer esclarecimentos que se façam necessários também nos canais de atendimento abaixo: Cemig Atende APP WhatsApp: 31 XXXXX-X160 Agência virtual: www.cemigatende.com.br Cent',\n",
       "  'Nota 5',\n",
       "  'bom...'),\n",
       " ('Cemig',\n",
       "  'Resolvido',\n",
       "  'no mesmo dia',\n",
       "  '10/10/2024',\n",
       "  'Belo Horizonte',\n",
       "  'MG',\n",
       "  'QUAIS OS CANAIS DE ATENDIMENTO DISPONIBILIZADOS PELA CEMIG?:',\n",
       "  'Olá, Ana ! Boa Noite, Tudo bem? Em resposta a sua manifestação no site consumidor.gov, SERVIÇOS POR CANAL DE ATENDIMENTO Conheça os canais de atendimento da Cemig e os serviços disponíveis em cada um. Pensando na proteção e comodidade dos clientes, os nossos serviços estão disponíveis nos canais digitais de atendimento. Confira abaixo o passo a passo para acessá-los. CANAIS DIGITAIS DE ATENDIMENTO: Cemig Atende Web App Cemig Atende – disponível para Android e iOS. WhatsApp: (31) XXXXX-X160 Telegram: @cemigbot Central de atendimento 116: prioridade para emergências (alguns serviços continuam disponíveis no atendimento eletrônico). Agendamento para atendimento presencial ou vídeo atendimento: Reiteramos que permanecemos à disposição para quaisquer esclarecimentos que se façam necessários também nos canais de atendimento abaixo: Cemig Atende APP WhatsApp: 31 XXXXX-X160 Agência virtual: www.cemigatende.com.br Central de atendimento: Ligue 116 Central de Atendimento para Deficientes Auditivos: 0800 723 8007 Te convido a participar da avaliação sobre meu atendimento, pois é muito importante para mim e é sobre nossa interação nesse atendimento. Se tiver ficado satisfeito, a nota que representa sua satisfação é 5 A Cemig agradece sua confiança!',\n",
       "  'Nota 5',\n",
       "  '<não há comentários do consumidor>'),\n",
       " ('Cemig',\n",
       "  'Resolvido',\n",
       "  'no mesmo dia',\n",
       "  '10/10/2024',\n",
       "  'Ibirité',\n",
       "  'MG',\n",
       "  'Quero saber sobre ligação nova rural.',\n",
       "  'Olá, Ketlen ! Boa Noite, tudo bem? Em resposta a sua manifestação no site consumidor.gov, Para realizar o pedido basta apresentar os documentos pessoais do titular da nova unidade consumidora e do imóvel. DOCUMENTOS PESSOAIS Pessoa Física: – CPF e um documento oficial com foto (apresentar os documentos); – Se o solicitante não for o titular da unidade consumidora, será preciso uma procuração; Pessoa Jurídica: – Documentos relativos à constituição da empresa, como o contrato social, requerimento de empresário ou o CCMEI; – Registro da empresa na junta comercial; – Documentos dos seus representantes legais, que são os mesmos exigidos para uma ligação nova de pessoa física. – Se o solicitante não for o representante legal da unidade consumidora, será preciso uma procuração; Pessoa Jurídica Poder Público: – Documento dos seus representantes legais, que são os mesmos exigidos para uma ligação nova de pessoa física. Se, por ventura, o novo titular, pessoa física ou jurídica, possuir algum débito com a Cemig, será necessário fazer a quitação antes de solicitar o pedido de Conexão Nova (ligação nova). DOCUMENTOS DO IMÓVEL – ÁREA RURAL 1. Documento de Posse / Propriedade: Deverá ser apresentado um documento de propriedade ou posse do imóvel, contendo o endereço completo do imóvel, que pode ser: Escritura Pública ou Registro do Imóvel, ou; Contrato de compra e venda, ou; Contrato de locação, ou; Termo de doação, ou; Termo de permissão de uso, ou; Contrato de arrendamento / comodato, ou; Formal de partilha. Vale ressaltar algumas verificações importantes para dar validade aos contratos de qualquer natureza: 1. Em caso de falecimento do proprietário do imóvel, poderá ser considerado como novo interessado o cônjuge ou filhos, desde que seja apresentada a certidão de óbito; 2. Deve constar a assinatura de todas as partes envolvidas no contrato (contratante e contratado); 3. O contrato deve conter as informações dos documentos pessoais das partes (CPF e/ou RG); 4. O contrato deve informar a data de sua celebração; 5. O contrato deve conter informações do imóvel objeto da contratação de forma clara para não deixar dúvidas (endereço completo, com logradouro, número predial, bairro e cidade ou se imóvel rural). Na ausência destas informações deve ser apresentado outro documento ou uma declaração da prefeitura informando o endereço completo. 6. A assinatura das testemunhas e dos avalistas/fiadores é obrigatória no contrato, somente se essas pessoas forem citadas no documento. Ao apresentar os documentos, é importante informar seu número de telefone celular e e-mail. Assim, ficará mais fácil para as equipes da Cemig fazerem contato com você sobre o andamento do serviço. Reiteramos que permanecemos à disposição para quaisquer esclarecimentos que se façam necessários também nos canais de atendimento abaixo: Cemig Atende APP WhatsApp: 31 XXXXX-X160 Agência virtual: www.cemigatende.com.br Central',\n",
       "  'Nota 5',\n",
       "  'Bom!'),\n",
       " ('Cemig',\n",
       "  'Resolvido',\n",
       "  'no mesmo dia',\n",
       "  '10/10/2024',\n",
       "  'Ibirité',\n",
       "  'MG',\n",
       "  'como realizo o reset da minha senha na AGV?',\n",
       "  'Olá, Pablio! Boa Noite, Tudo bem? Em resposta a sua manifestação no site consumidor.gov, Em atenção a sua manifestação, estamos encaminhando para o senhor os links para que seja feito o reset de sua senha e possa ter acesso novamente ao aplicativo. https://www.youtube.com/watch?v=4cs_8Y11Rwk Aplicativo Cemig Atende - Como recuperar a sua senha a partir do e-mail cadastrado. – YouTube https://www.youtube.com/watch?v=eQcdoF1wH1A Aplicativo Cemig Atende - Como recuperar sua senha de acesso mesmo sem o e-mail de login - YouTube Estamos respondendo a sua manifestação visto que a sua solicitação foi gerada, pedimos que a senhora avalie a atuação da nossa equipe de 1 a 5 sendo 1 mal atendido e 5 bem atendido sua opinião é muito importante para a melhoria dos nossos serviços! Reiteramos que permanecemos à disposição para quaisquer esclarecimentos que se façam necessários também nos canais de atendimento abaixo: Cemig Atende APP WhatsApp: 31 XXXXX-X160 Agência virtual: www.cemigatende.com.br Central de atendimento: Ligue 116 Central de Atendimento para Deficientes Auditivos: 0800 723 8007',\n",
       "  'Nota 5',\n",
       "  '<não há comentários do consumidor>'),\n",
       " ('Cemig',\n",
       "  'Resolvido',\n",
       "  'no mesmo dia',\n",
       "  '10/10/2024',\n",
       "  'Ibirité',\n",
       "  'MG',\n",
       "  'qual o processo de tarifa social.',\n",
       "  'Olá, Ketlen ! Boa Tarde, Tudo bem? Em resposta a sua manifestação no site consumidor.gov, O Cadastro Único foi criado pelo Governo Federal, mas é operado pelas prefeituras. Para se inscrever, procure o Centro de Referência de Assistência Social (CRAS) ou a prefeitura da sua cidade para saber como o serviço está funcionando durante o período de pandemia. Para mais informações sobre o programa, acesse o site oficial clicando aqui. Para que o benefício seja concedido, é necessário que um dos membros da família já seja cadastrado como cliente da CEMIG, mesmo que não tenha uma conta de luz em seu nome. Neste caso a solicitação deve ser realizada utilizando seus dados. Para os clientes não cadastrados, é possível realizar o cadastro no site da companhia. O benefício poderá ser solicitado em nossos canais de atendimento preferencialmente pelo responsável familiar. Na solicitação de ligação nova ou na troca de titularidade da unidade consumidora, o benefício será concedido automaticamente, a partir da primeira fatura a ser emitida para o novo titular, desde que atendidos os critérios previstos na legislação. Reiteramos que permanecemos à disposição para quaisquer esclarecimentos que se façam necessários também nos canais de atendimento abaixo: Cemig Atende APP WhatsApp: 31 XXXXX-X160 Agência virtual: www.cemigatende.com.br Central de atendimento: Ligue 116 Central de Atendimento para Deficientes Auditivos: 0800 723 8007 Te convido a participar da avaliação sobre meu atendimento, pois é muito importante para mim e é sobre nossa interação nesse atendimento. Se tiver ficado satisfeito, a nota que representa sua satisfação é 5 A Cemig agradece sua confiança!',\n",
       "  'Nota 5',\n",
       "  'Bom'),\n",
       " ('Cemig',\n",
       "  'Resolvido',\n",
       "  'no mesmo dia',\n",
       "  '10/10/2024',\n",
       "  'Belo Horizonte',\n",
       "  'MG',\n",
       "  'Quero saber sobre troca de titularidade.',\n",
       "  'Olá, Fernanda ! Boa Noite, Tudo bem? Em resposta a sua manifestação no site consumidor.gov, O serviço de alteração de titularidade pode ser solicitado pelo cliente responsável da unidade consumidora ou por seu representante legal, devidamente qualificado por meio de procuração. Para solicitar a alteração da titularidade, devem ser apresentados os seguintes documentos: Documentos do novo cliente: Pessoa Física: CPF e um documento oficial com foto. Pessoa Jurídica: CNPJ, documentos de constituição da empresa (Contrato Social); Documentos pessoais do representante legal (Pessoa Física). Documentos do imóvel: Caso exista algum débito, deverá ser apresentado um documento de propriedade ou posse do imóvel, contendo o endereço completo do imóvel, que pode ser: Escritura Pública ou Registro do Imóvel, ou; Contrato de compra e venda, ou; Contrato de locação, ou; Termo de doação, ou; Termo de permissão de uso, ou; Contrato de arrendamento / comodato, ou; Formal de partilha Vale ressaltar algumas verificações importantes para dar validade aos contratos de qualquer natureza: Deve constar a assinatura de todas as partes envolvidas no contrato (contratante e contratado); O contrato deve conter as informações dos documentos pessoais das partes (CPF e/ou RG); O contrato deve informar a data de sua celebração; O contrato deve conter informações do imóvel objeto da contratação de forma clara para não deixar dúvidas (endereço completo, com logradouro, número predial, bairro e cidade ou se imóvel rural). Na ausência destas informações deve ser apresentado outro documento ou uma declaração da prefeitura informando o endereço completo. A assinatura das testemunhas e dos avalistas/fiadores é obrigatória no contrato, somente se essas pessoas forem citadas no documento. Caso não tenha débito no imóvel, é dispensada a documentação acima. Reiteramos que permanecemos à disposição para quaisquer esclarecimentos que se façam necessários também nos canais de atendimento abaixo: Cemig Atende APP WhatsApp: 31 XXXXX-X160 Agência virtual: www.cemigatende.com.br Central de atendimento: Ligue 116 Central de Atendimento para Deficientes Auditivos: 0800 723 8007 Te convido a participar da avaliação sobre meu atendimento, pois é muito importante para mim e é sobre nossa interação nesse atendimento. Se tiver ficado satisfeito, a nota que representa sua satisfação é 5 A Cemig agradece sua confiança!',\n",
       "  'Nota 5',\n",
       "  'Muito bom!'),\n",
       " ('Cemig',\n",
       "  'Resolvido',\n",
       "  'no mesmo dia',\n",
       "  '10/10/2024',\n",
       "  'Belo Horizonte',\n",
       "  'MG',\n",
       "  'como faço pra acessar o vídeo chat ?',\n",
       "  'Olá, Ana Luiza! Boa Tarde, Tudo bem? Em resposta a sua manifestação no site consumidor.gov, A partir de agora você pode agendar seu atendimento, seja de forma presencial ou por vídeo on-line. Para o atendimento presencial, o agendamento não é obrigatório. No entanto, é recomendado, pois, trata-se de uma facilidade oferecida para reduzir o tempo de espera em que será atendido. Se você já é cadastrado no Cemig Atende, faça login (Cemig.com.br), escolha a opção Agendar Atendimento e siga as instruções disponibilizadas na página. Mas caso ainda não tenha cadastro no Cemig Atende, faça seu agendamento clicando aqui (Cemig.com.br. Os passos para agendar o atendimento são os seguintes: Preencha os dados de contato solicitados (CPF/CNPJ, nome, telefone e e-mail). Selecione o botão de verificação “Não sou um robô”, e então clique no botão “Enviar”. Será enviado um e-mail com um link para dar prosseguimento ao agendamento do atendimento. Acesse seu e-mail para prosseguir com a solicitação. Se o e-mail não estiver em sua caixa de entrada em até 5 (cinco) minutos, verifique a sua caixa de spam. Ao receber o e-mail, clique no link enviado, ele te levará de volta ao formulário para o agendamento. Selecione a opção “vídeo atendimento”. Escolha o dia e horário e confirme. Após esses passos, você receberá novo email com as informações para o atendimento, incluíndo o link para acesso ao atendimento no dia e horário escolhidos. O e-mail enviado será proveniente do endereço eletrônico XXXXXXXXXXX@XXXXX.XXX. No dia e horário solicitados, acesse o link enviado por email e tenha o seu atendimento. Reiteramos que permanecemos à disposição para quaisquer esclarecimentos que se façam necessários também nos canais de atendimento abaixo: Cemig Atende APP WhatsApp: 31 XXXXX-X160 Agência virtual: www.cemigatende.com.br Central de atendimento: Ligue 116 Central de Atendimento para Deficientes Auditivos: 0800 723 8007 Te convido a participar da avaliação sobre meu atendimento, pois é muito importante para mim e é sobre nossa interação nesse atendimento. Se tiver ficado satisfeito, a nota que representa sua satisfação é 5 A Cemig agradece sua confiança! A.S /Equipe Fale com a Cemig.',\n",
       "  'Nota 5',\n",
       "  'muito obrigada'),\n",
       " ('Enel Distribuição Ceará (Coelce)',\n",
       "  'Resolvido',\n",
       "  'no mesmo dia',\n",
       "  '10/10/2024',\n",
       "  'Fortaleza',\n",
       "  'CE',\n",
       "  'SOLICITA REPARCELAMENTO E CANCELAMENTO DAS COBRANÇAS COB - PROTEÇÃO 360 – 080060005 5,99 E COB - DOUTOR 360 PREMIUM 08006 15,99',\n",
       "  'Referência: Protocolo: 2024.10/XXX.XXX.XXX-XX– Consumidor. Gov. Prezado Sr. Arthur, tudo bem? Informamos que todos os esclarecimentos acerca de sua reclamação estão descritos no espaço interagir deste site. Não esqueça de avaliar sua EXPERIÊNCIA com a OUVIDORIA da Enel Distribuição Ceará através da plataforma CONSUMIDOR.GOV. Sua AVALIAÇÃO é muito IMPORTANTE para a melhoria do NOSSO ATENDIMENTO. Atenciosamente, Relacionamento-ODC Ouvidoria da Enel Distribuição Ceará',\n",
       "  'Nota 5',\n",
       "  'ótimo atendimento. Vc é maravilhosa Se todos da Enel fosse assim como vc Seria bem mais fácil pra nós. Muito obg pela sua ajuda!'),\n",
       " ('Serasa Experian',\n",
       "  'Não Resolvido',\n",
       "  'no mesmo dia',\n",
       "  '10/10/2024',\n",
       "  'Maringá',\n",
       "  'PR',\n",
       "  'CONFORME DECISAO DO STJ, DIVIDAS COM MAIS DE 5 ANOS NÃO PODEM SER MAIS COBRADAS. SOLICITO QUE DEEM BAIXA NAS DIVIDAS EM MEU NOME LA NO SITE DO SERASA',\n",
       "  'Oi, Beatriz. Tudo bem? Acabamos de responder a sua solicitação. Por favor, acesse o campo \"Complemento da Reclamação\" e confira a resposta. Conte com o nosso apoio. Equipe Serasa Experian.',\n",
       "  'Nota 3',\n",
       "  '<não há comentários do consumidor>'),\n",
       " ('Serasa Experian',\n",
       "  'Não Resolvido',\n",
       "  'no mesmo dia',\n",
       "  '10/10/2024',\n",
       "  'São Paulo',\n",
       "  'SP',\n",
       "  'Conforme decisão do STJ dividas com mais de 5 anos não pode ser cobradas. Solicito que dêem baixa das dividas que aparecem no meu nome lá no site do Serasa',\n",
       "  'Oi, AMILCAR. Tudo bem? Acabamos de responder a sua solicitação. Por favor, acesse o campo \"Complemento da Reclamação\" e confira a resposta. Conte com o nosso apoio. Equipe Serasa Experian.',\n",
       "  'Nota 1',\n",
       "  'Segue ainda as cobranças se já passaram mais de 5 anos , não sei porque a plataforma Serasa não tira a cobrança.'),\n",
       " ('Serasa Experian',\n",
       "  'Não Resolvido',\n",
       "  'no mesmo dia',\n",
       "  '10/10/2024',\n",
       "  'São Caetano do Sul',\n",
       "  'SP',\n",
       "  'Conforme decisão do STJ, dívidas com mais de 5 anos não podem ser mais cobradas. Solicito que deem baixa nas dívidas que aparecem em meu nome lá no site do Serasa',\n",
       "  'Oi, HELLY. Tudo bem? Acabamos de responder a sua solicitação. Por favor, acesse o campo \"Complemento da Reclamação\" e confira a resposta. Conte com o nosso apoio. Equipe Serasa Experian.',\n",
       "  'Nota 1',\n",
       "  'Nao me ajudarao e nao me derao informacoes para solucionar minha dividas do serasa'),\n",
       " ('Drogasil',\n",
       "  'Resolvido',\n",
       "  'no mesmo dia',\n",
       "  '10/10/2024',\n",
       "  'Divinópolis',\n",
       "  'MG',\n",
       "  'fiz uma compra no dia 24/03/2024 no aplicativo drogasil. No dia 25 (dia seguinte), fizeram por alguma falha no sistema deles, várias compras em meu nome. assim que eu vi, reclamei e ai conseguiram parar com as compras, mas foram várias. totalizou 1157,86. esse valor foi descontado no cartao de credito e ficaram de devolver. Já se passou 7 meses e nada.',\n",
       "  'Sra. Flávia Conforme mencionada pela consumidora, estamos desconsiderando a manifestação. Formalizamos nosso pedido de desculpas pelo ocorrido e reforçamos que constantemente estamos revisando nossos processos a fim de mitigar falhas. Agradecemos o seu contato, pois contribuirá para melhorarmos os nossos processos, bem como aprimorar o treinamento dos colaboradores. Ressaltamos que o nosso compromisso é garantir o respeito e a satisfação dos nossos clientes. Colocamo-nos à disposição para quaisquer outras informações. Atenciosamente, Drogasil.',\n",
       "  'Nota 5',\n",
       "  '<não há comentários do consumidor>'),\n",
       " ('Pagseguro',\n",
       "  'Não Resolvido',\n",
       "  'no mesmo dia',\n",
       "  '10/10/2024',\n",
       "  'São Paulo',\n",
       "  'SP',\n",
       "  'Boa tarde! Em resposta ao protocolo anterior 2024.10/XXX.XXX.XXX-XX informo que tentei contato via e-mail para conseguir os boletos e não obtive retorno, tentei contato via ligação na central e tambem não obtive sucesso. solicito por gentileza os seguintes boletos: Contrato XXXXX-X 2 01/01/2025 R$ 1.155,51 Em Aberto Contrato XXXXX-X 2 01/01/2025 R$ 287,30 Em Aberto',\n",
       "  'Olá, Lucas! Conforme solicitado, segue em anexo os boletos, com vencimento para 11/10/2024. Agradecemos o contato e permanecemos à sua disposição através da nossa Ouvidoria. O telefone é 0800 728 2167 e o atendimento está disponível de segunda a sexta-feira, das 9h às 18h, exceto feriados. Atenciosamente PagBank',\n",
       "  'Nota 1',\n",
       "  'Novamente encerram a demanda sem atender oque pedi, solicitei o boleto da parcela número 2 e me enviaram o boleto de quitação de todo o empréstimo, complico demais esse banco, já tive conta em muitos bancos fisicos e digitais, mas nunca vi um banco tão complicado quanto esse. Enfim... cansei de solicitar e não ser atendido corretamente. Central não entendem, e-mail não entendem, consumidor.gov não entendem.'),\n",
       " ('Localiza Meoo',\n",
       "  'Não Resolvido',\n",
       "  'no mesmo dia',\n",
       "  '10/10/2024',\n",
       "  'Porto Alegre',\n",
       "  'RS',\n",
       "  'Possuo contrato de carro por assinatura desde 03/03/2022 - 48 meses / franquia de 3000km rodados/mês. Pagos 33/48 meses. Neste período tive diversos incômodos com a empresa, todos eles relacionados a revisões / manutenções / sinistros, com serviços incompletos ou de má qualidade e com prazos de execução muito maiores que o previsto para um carro particular. Conforme consta em contrato o carro passa por revisões preventivas a cada 10000 km em oficina indicada pela empresa. Ocorre que \"revisões\" se resumem basicamente a trocas de óleo e filtro, não contemplando minimamente o recomendado no manual do veículo. Carro está com 85000 km, nunca teve velas substituídas (conforme manual até 60000km), correias de acionamento do motor que devem ser inspecionadas periodicamente e se necessário substituídas nunca foram (correia poly arrebentou por desgaste extremo - estava desfiada). Pastilhas de freio foram substituídas 1x aos 60000km rodados, e somente após meu pedido, ao detectar barulho e informar medo de ficar sem freios. Consta em contrato troca de Pneus a cada 40000km, porém há um * onde diz que ao se atingir a quilometragem estabelecida será avaliada a necessidade de sua substituição. Aos 80000 km só foi autorizada a troca de 2 pneus - não pela marca do pneu original e sim pela mais barata possível encontrada no mercado, os outros 2 pneus irão rodar mais 10000 km para sua substituição ser reavaliada. Estão carecas. Na última semana fiquei na estrada por 2x, de noite, no escuro, em local com baixa ou nenhuma iluminação com o carro em pane devido a falta de/ou má manutenção. Em uma das vezes, não fui sequer atendido, em ocorrência noturna, pela central que deveria ser 24h para socorro e acionamento de guincho. Aqui mais uma cláusula do contrato não foi cumprida pela empresa. Foram diversas tentativas no número informado pelo app como sendo de atendimento ao cliente e por whatsapp sem sucesso. Foram quase 3h em situação de ligação em espera sem ser atendido. Contato só foi possível após as 08h da manhã do dia seguinte, através de whatsapp, em número alternativo e não divulgado. Hoje, 10/10/24, estou sem o carro por pane 08/10/24, menos de uma semana após o carro sair da oficina por outra pane, ocorrida 01/10/24. Além de estar sem o carro, há 2 dias na oficina, ainda não tive retorno da empresa de quando o serviço será finalizado. Preciso do carro para me deslocar até o meu trabalho que fica em cidade distante 60 km da minha residência. Todas estas situações tem me causado enorme transtorno e principalmente me colocado em risco extremo. A solução oferecida pela empresa tem sido oferecer uma \"proposta para amenizar o transtorno causado\", sem melhorar seus serviços prestados. Em caso de insatisfação recente, onde carro permaneceu por 40 dias em uma oficina para o conserto de dano no para-choque dianteiro, e, ainda tive uma cobrança indevida no meu cartão de crédito, me ofereceram 15% de desconto em 2 mensalidades. Uma proposta indecente.',\n",
       "  'Olá Eduardo, boa tarde! Espero que esteja bem! Recebemos seu acionamento e seu retorno seguirá através do e-mail cadastrado, combinado? Até breve!',\n",
       "  'Nota 1',\n",
       "  'Inacreditavelmente, empresa apresentou como solução: uma proposta de renovação antecipada do contrato. Visando unicamente manter o cliente e aumentar seus ganhos. Não levou em consideração seus erros cometidos que tem me trazido muito transtorno. Uma proposta minimamente aceitável seria uma rescisão contratual sem multa, já que descumpriu cláusulas do contrato. Dessa forma, estou rescindindo o contrato, atribuindo responsabilidade a empresa localiza, não devendo a mim o pagamento de multas. E se preciso for, situação será discutida na justiça.'),\n",
       " ('Neoenergia Elektro',\n",
       "  'Resolvido',\n",
       "  'no mesmo dia',\n",
       "  '10/10/2024',\n",
       "  'Estrela do Norte',\n",
       "  'SP',\n",
       "  'Via SAC ou Canais de Atendimento disponibilizado pela Companhia Neoenergia Elektro atendimento e Suporte referente a Troca de Titularidade da Unidade Consumidora N°3882802 Sobre o endereço Rua Rui Barbosa 758 CXXXXX-X Foi preenchido a solicitação de troca de Titularidade via App e também Via Site, Areá do Consumidor porém não foi tido respaldo de retorno sobre a Troca de Titular. Ao qual se faz necessário e imprescindível a prestação do atendimento sobre o problema relatado na Unidade Consumidora em questão.',\n",
       "  'Olá, Magali, boa tarde! Sua solicitação foi analisada e respondida via mensagem privada. Para verificar o retorno clique em “detalhes” na mensagem anterior. Se ficou alguma dúvida ou dificuldade, você pode nos contatar novamente através da opção “Interagir com Fornecedor”. Espero ter resolvido a sua demanda da melhor forma possível, através desse canal. Foi um prazer te atender! Se entender que meu atendimento foi satisfatório, conto com sua avaliação positiva que tem nota máxima 5 no site do consumidor.gov. Sua opinião é fundamental para a melhoria contínua do nosso atendimento. Permanecemos totalmente à disposição. Neoenergia',\n",
       "  'Nota 5',\n",
       "  '<não há comentários do consumidor>'),\n",
       " ('Águas do Rio',\n",
       "  'Não Resolvido',\n",
       "  'no mesmo dia',\n",
       "  '10/10/2024',\n",
       "  'Rio de Janeiro',\n",
       "  'RJ',\n",
       "  'Foi aberto uma conta na Aguas do Rio e está cobrando um valor de mensalidade no meu nome no valor superior a R$2.000 . A propria empresa entrou em contato via telefone alegando irregularidade no pagamento, minha residência fica localizada em comunidade na zona norte da cidade do Rio de Janeiro fiz contato via telefone e até agora não resolveram protocolo do meu atendimento XXX.XXX.XXX-XX464',\n",
       "  'Prezado Consumidor, Informamos que iniciamos as tratativas referentes à manifestação de número 2024.10/XXX.XXX.XXX-XX e que enviaremos a resposta com a conclusão através da interação na plataforma. Em breve, entraremos em contato com todas as informações pertinentes a sua reclamação. Solicitamos que aguarde o final da tratativa para realizar a avaliação, pois ao avaliar a sua reclamação é encerrada e não será mais possível a nossa comunicação através do site. Em caso de dúvida, fique à vontade para se comunicar conosco através dos nossos canais oficiais WhatsApp (0800 195 0 195), Call Center (0800 195 0 195), pelo chat no site www.aguasdorio.com.br ou na loja. Sendo o que nos cabia informar, permanecemos à disposição para eventuais esclarecimentos adicionais que possam surgir. Atenciosamente, Ouvidoria da Águas do Rio',\n",
       "  'Nota 3',\n",
       "  'Aguardando o avanço para resolver o problema o mais rápido possível'),\n",
       " ('Hurb - Hotel Urbano',\n",
       "  'Não Resolvido',\n",
       "  'no mesmo dia',\n",
       "  '10/10/2024',\n",
       "  'Brasília',\n",
       "  'DF',\n",
       "  'Em 26 de novembro de 2021, eu e mais sete amigos compramos um pacote de viagem de 7 dias para Tóquio, Japão, que incluía passagens aéreas e hospedagem, através da empresa Hurb . Estávamos todos muito animados com a viagem, mas, infelizmente, a Hurb não cumpriu com o acordo. Nos sentimos profundamente enganados e frustrados ao descobrir que a empresa não havia providenciado as passagens nem a hospedagem prometidas. A sensação de decepção foi enorme, pois todos nós havíamos investido tempo e dinheiro, além de expectativas, nessa viagem. Após percebermos que havíamos sido vítimas de uma fraude, decidimos entrar com uma ação na justiça. Felizmente, ganhamos o processo, o que nos deu um pouco de esperança de que poderíamos recuperar nosso dinheiro. No entanto, ao tentar executar a sentença, descobrimos que não havia valores disponíveis nas contas da Hurb, apesar de haver matérias na imprensa onde a empresa alegava possuir caixa. Essa experiência nos deixou não apenas financeiramente prejudicados, mas também emocionalmente abalados, pois confiamos em uma empresa que não honrou seus compromissos.',\n",
       "  'Olá, viajante! Tudo bem com você? Respondemos a sua reclamação e você pode encontrar todos os detalhes da tratativa e nossas respostas dentro do seu perfil no consumidor.gov.br. Vou encerrar esse atendimento e espero ter te atendido com todo respeito que você merece. Seguimos prezando pela escuta ativa e nos colocamos à disposição em caso de dúvidas ou esclarecimentos. Atenciosamente, Equipe HURB.',\n",
       "  'Nota 1',\n",
       "  'Não foi resolvido o problema'),\n",
       " ('Hurb - Hotel Urbano',\n",
       "  'Não Resolvido',\n",
       "  'no mesmo dia',\n",
       "  '10/10/2024',\n",
       "  'Contagem',\n",
       "  'MG',\n",
       "  'Fechei o pacote e paguei várias parcelas, porém, devido a imprevistos, decidi cancelar a viagem. Solicitei o cancelamento em 25/06 e me informaram que o prazo para reembolso seria de 60 dias úteis. No entanto, até o momento, não recebi o valor devido. Toda vez que entro em contato, recebo apenas desculpas, mas o reembolso não é efetuado. Exijo o estorno imediato do valor pago, caso contrário, tomarei medidas legais contra a empresa.',\n",
       "  'Olá, viajante! Tudo bem com você? Finalizamos a sua reclamação e você pode encontrar todos os detalhes da tratativa e nossas respostas dentro do seu perfil no consumidor.gov.br. Vou encerrar esse atendimento e espero ter te atendido com todo respeito que você merece. Seguimos prezando pela escuta ativa e nos colocamos à disposição em caso de dúvidas ou esclarecimentos. Atenciosamente, Equipe HURB.',\n",
       "  'Nota 1',\n",
       "  'Estou preparada para acionar o Procon, realizar uma queixa formal por meio do Consumidor.gov.br e, se necessário, ingressar com uma ação no Juizado Especial Cível, buscando a restituição do valor pago, bem como indenização por danos morais e materiais.')]"
      ]
     },
     "execution_count": 277,
     "metadata": {},
     "output_type": "execute_result"
    }
   ],
   "source": [
    "relatos"
   ]
  },
  {
   "cell_type": "code",
   "execution_count": 279,
   "id": "28f7b19d",
   "metadata": {},
   "outputs": [],
   "source": [
    "driver.close()"
   ]
  }
 ],
 "metadata": {
  "kernelspec": {
   "display_name": "base",
   "language": "python",
   "name": "python3"
  },
  "language_info": {
   "codemirror_mode": {
    "name": "ipython",
    "version": 3
   },
   "file_extension": ".py",
   "mimetype": "text/x-python",
   "name": "python",
   "nbconvert_exporter": "python",
   "pygments_lexer": "ipython3",
   "version": "3.8.19"
  }
 },
 "nbformat": 4,
 "nbformat_minor": 5
}
