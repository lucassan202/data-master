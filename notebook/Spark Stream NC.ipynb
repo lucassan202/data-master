{
 "cells": [
  {
   "cell_type": "code",
   "execution_count": 6,
   "id": "d1558e9c-d941-4858-80bf-566c1955e388",
   "metadata": {
    "tags": []
   },
   "outputs": [],
   "source": [
    "from pyspark.sql import SparkSession\n",
    "from pyspark.sql.functions import *\n",
    "from pyspark.sql.types import *\n",
    "\n",
    "spark = SparkSession.builder.appName(\"Teste\") \\\n",
    "    .master(\"local[*]\")\\\n",
    "    .config(\"spark.jars.packages\", \"org.apache.spark:spark-sql-kafka-0-10_2.12:3.0.0\") \\\n",
    "    .config(\"spark.sql.sources.partitionOverwriteMode\", \"dynamic\")\\\n",
    "    .config(\"hive.exe.dynamic.partition.mode\", \"nonstrict\") \\\n",
    "    .config(\"hive.metastore.uris\", \"thrift://localhost:9083\") \\\n",
    "    .enableHiveSupport() \\\n",
    "    .getOrCreate()\n",
    "    #spark://localhost:7077\n",
    "    #.master(\"local[*]\")\\\n",
    "    # .config(\"spark.dynamicAllocation.enabled\", \"true\") \\\n",
    "    # .config(\"spark.shuffle.service.enabled\", \"true\") \\\n",
    "    # .config(\"spark.executor.memory\",\"512m\") \\\n",
    "    # .config(\"spark.executor.cores\",\"2\") \\"
   ]
  },
  {
   "cell_type": "code",
   "execution_count": 22,
   "id": "e128e0dc",
   "metadata": {},
   "outputs": [],
   "source": [
    "lines = spark \\\n",
    "    .read \\\n",
    "    .format(\"kafka\") \\\n",
    "    .option(\"kafka.bootstrap.servers\", \"localhost:9092\") \\\n",
    "    .option(\"subscribe\", \"reclamacoes\") \\\n",
    "    .load()"
   ]
  },
  {
   "cell_type": "code",
   "execution_count": 23,
   "id": "fe86ec46",
   "metadata": {},
   "outputs": [
    {
     "name": "stdout",
     "output_type": "stream",
     "text": [
      "+----+--------------------+-----------+---------+------+--------------------+-------------+\n",
      "| key|               value|      topic|partition|offset|           timestamp|timestampType|\n",
      "+----+--------------------+-----------+---------+------+--------------------+-------------+\n",
      "|null|[5B 28 27 43 65 6...|reclamacoes|        0|     0|2024-10-15 16:20:...|            0|\n",
      "|null|[5B 28 27 43 65 6...|reclamacoes|        0|     1|2024-10-15 16:41:...|            0|\n",
      "+----+--------------------+-----------+---------+------+--------------------+-------------+\n",
      "\n"
     ]
    }
   ],
   "source": [
    "lines.show()"
   ]
  },
  {
   "cell_type": "code",
   "execution_count": 24,
   "id": "501bb610",
   "metadata": {},
   "outputs": [],
   "source": [
    "teste = lines.selectExpr(\"CAST(value AS STRING)\").first()[-1]"
   ]
  },
  {
   "cell_type": "code",
   "execution_count": 25,
   "id": "c46792a5",
   "metadata": {},
   "outputs": [],
   "source": [
    "relatos = eval(teste)"
   ]
  },
  {
   "cell_type": "code",
   "execution_count": 28,
   "id": "b1b172b0",
   "metadata": {},
   "outputs": [],
   "source": [
    "Schema = StructType() \\\n",
    "\t.add('nomeEmpresa', 'string') \\\n",
    "    .add('status', 'string') \\\n",
    "    .add('tempoResposta', 'string') \\\n",
    "    .add('dataOcorrido', 'string') \\\n",
    "    .add('Cidade', 'string') \\\n",
    "    .add('UF', 'string') \\\n",
    "    .add('Relato', 'string') \\\n",
    "    .add('Resposta', 'string') \\\n",
    "    .add('Nota', 'string') \\\n",
    "    .add('Comentario', 'string')"
   ]
  },
  {
   "cell_type": "code",
   "execution_count": 29,
   "id": "cfe78819",
   "metadata": {},
   "outputs": [],
   "source": [
    "df = spark.createDataFrame(relatos, schema=Schema)"
   ]
  },
  {
   "cell_type": "code",
   "execution_count": 30,
   "id": "c6b57a34",
   "metadata": {},
   "outputs": [
    {
     "name": "stdout",
     "output_type": "stream",
     "text": [
      "+--------------------+-------------+-------------+------------+--------------------+---+--------------------+--------------------+------+--------------------+\n",
      "|         nomeEmpresa|       status|tempoResposta|dataOcorrido|              Cidade| UF|              Relato|            Resposta|  Nota|          Comentario|\n",
      "+--------------------+-------------+-------------+------------+--------------------+---+--------------------+--------------------+------+--------------------+\n",
      "|               Cemig|    Resolvido| no mesmo dia|  14/10/2024|            Contagem| MG|Qual o prazo para...|Olá, Felipe! Boa ...|Nota 5|<não há comentári...|\n",
      "|               Cemig|    Resolvido| no mesmo dia|  14/10/2024|      Belo Horizonte| MG|não concordo com ...|Olá, Ana! Boa Tar...|Nota 5|      muito obrigada|\n",
      "|               Cemig|    Resolvido| no mesmo dia|  14/10/2024|      Belo Horizonte| MG|Sou obrigado a pa...|Olá, Ana! Boa Tar...|Nota 5|<não há comentári...|\n",
      "|               Cemig|    Resolvido| no mesmo dia|  14/10/2024|      Belo Horizonte| MG|informações SOBRE...|Olá Fernanda, Boa...|Nota 5|                 bom|\n",
      "|               Cemig|    Resolvido| no mesmo dia|  14/10/2024|             Ibirité| MG|Sou obrigado a pa...|Olá, Pablio! Boa ...|Nota 5|<não há comentári...|\n",
      "|        Banco Semear|Não Resolvido| no mesmo dia|  14/10/2024|            Contagem| MG|QUERO A EXCLUSÃO ...|Olá, Camila, boa ...|Nota 1|<não há comentári...|\n",
      "|   Mastercard Brasil|Não Resolvido| no mesmo dia|  14/10/2024|      Rio de Janeiro| RJ|Tenho um cartao T...|Olá, tudo bem? La...|Nota 1|                   E|\n",
      "|Enel Distribuição...|    Resolvido| no mesmo dia|  14/10/2024|           Fortaleza| CE|TIVE QUE IR PELA ...|Fortaleza, 14/10/...|Nota 5|QUE SE MANTENHAM ...|\n",
      "|   Vivo - Telefônica|    Resolvido| no mesmo dia|  14/10/2024|           São Paulo| SP|Estou ligando na ...|Olá, Karine Negoc...|Nota 5|Quero agradecer a...|\n",
      "|Enel Distribuição...|    Resolvido| no mesmo dia|  14/10/2024|           Fortaleza| CE|solicito cadastra...|Fortaleza, 14/10/...|Nota 5|atendimento excel...|\n",
      "|Neoenergia Pernam...|    Resolvido| no mesmo dia|  14/10/2024|              Recife| PE|Fui colocada no S...|Olá, Thayze! Sua ...|Nota 5|Atendimento rápid...|\n",
      "| Hurb - Hotel Urbano|Não Resolvido| no mesmo dia|  14/10/2024|           Joinville| SC|Foi realizada a c...|Olá, viajante! Tu...|Nota 1|Não foi resolvido...|\n",
      "|       Shopee Brasil|    Resolvido| no mesmo dia|  14/10/2024|             Goiânia| GO|Sou vendedor. A c...|Prezado Luis, Em ...|Nota 5|         Resolveram.|\n",
      "|          SPC Brasil|Não Resolvido| no mesmo dia|  14/10/2024|            Cascavel| CE|Uso abusivo dos m...|Olá,Adonias! Info...|Nota 1|Estão utilizando ...|\n",
      "|      LG Electronics|Não Resolvido| no mesmo dia|  14/10/2024|      Rio de Janeiro| RJ|Em 01/04/2024 rea...|Bom dia, Ary. Em ...|Nota 1|boa tarde, já exi...|\n",
      "|Enel Distribuição...|    Resolvido| no mesmo dia|  14/10/2024|           Fortaleza| CE|Solicitamos a lig...|Fortaleza, 14/10/...|Nota 5|<não há comentári...|\n",
      "|Enel Distribuição...|    Resolvido| no mesmo dia|  14/10/2024|           Fortaleza| CE|Solicitei a troca...|Fortaleza, 14/10/...|Nota 5|Resolveram rapida...|\n",
      "| Hurb - Hotel Urbano|Não Resolvido| no mesmo dia|  14/10/2024|            Contagem| MG|Comprei um pacote...|Olá, viajante! Tu...|Nota 1|O mesmo de sempre...|\n",
      "|       Shopee Brasil|Não Resolvido| no mesmo dia|  14/10/2024|             Coremas| PB|Olá fiz a compra ...|Prezado Jônatha, ...|Nota 1|Não fizeram até a...|\n",
      "|       Shopee Brasil|Não Resolvido| no mesmo dia|  14/10/2024|         Nova Iguaçu| RJ|Não querem me ree...|Prezado Rafael, E...|Nota 1|Até agora nada, m...|\n",
      "|   Gol Linhas Aéreas|    Resolvido| no mesmo dia|  14/10/2024|         João Pessoa| PB|Compramos duas pa...|Olá, Maria Julian...|Nota 5|Fui muito bem ate...|\n",
      "|Cartões Renner (R...|Não Resolvido|1 dias depois|  13/10/2024|     Duque de Caxias| RJ|Fiz pagamento de ...|Olá, tudo bem? In...|Nota 1|Estarei procurand...|\n",
      "|       Shopee Brasil|Não Resolvido|1 dias depois|  13/10/2024|               Assis| SP|Efetuei a compra ...|Prezado Gustavo, ...|Nota 1|Prezados, que car...|\n",
      "|           Luxottica|Não Resolvido|1 dias depois|  13/10/2024|Piedade de Ponte ...| MG|Boa noite, Gostar...|Olá Pedro, tudo b...|Nota 1|<não há comentári...|\n",
      "|   CEEE Distribuição|Não Resolvido|1 dias depois|  13/10/2024|              Canoas| RS|Foi emitido 2 con...|Prezado Consumido...|Nota 1|Foi aberto por mi...|\n",
      "|            Drogasil|    Resolvido|1 dias depois|  13/10/2024|            Brasília| DF|Fiz, um compra (p...|Sra. Nathalia Inf...|Nota 5|<não há comentári...|\n",
      "|Cartões Renner (R...|    Resolvido|1 dias depois|  13/10/2024|            Botucatu| SP|nao devo nada pro...|Olá, tudo bem? In...|Nota 5|Ok vou entrar em ...|\n",
      "|         Sky Airline|Não Resolvido|1 dias depois|  13/10/2024|           São Paulo| SP|Foi solicitado co...|Prezada Aime, Inf...|Nota 1|Entrei em contato...|\n",
      "| Hurb - Hotel Urbano|Não Resolvido|1 dias depois|  13/10/2024|            Contagem| MG|Já fiz VÁRIAS rec...|Olá, Viajante! Tu...|Nota 1|Responderam com o...|\n",
      "|           Pagseguro|    Resolvido|1 dias depois|  13/10/2024|         São Gonçalo| RJ|ola boa tarde est...|Prezado cliente, ...|Nota 5|<não há comentári...|\n",
      "|                 Tim|    Resolvido|1 dias depois|  13/10/2024|           São Paulo| SP|Boa tarde. Sou cl...|Prezado(a), Vagne...|Nota 5|Obrigado por aten...|\n",
      "|Banco Inter (Banc...|Não Resolvido|1 dias depois|  13/10/2024|        Porto Alegre| RS|Não tive recursos...|Olá, Jose Agradec...|Nota 1|O banco não resol...|\n",
      "|       Shopee Brasil|    Resolvido|1 dias depois|  13/10/2024|             Maringá| PR|A compra da poltr...|Prezada Ana, Em a...|Nota 4|verifiquei junto ...|\n",
      "|   Gol Linhas Aéreas|    Resolvido|1 dias depois|  13/10/2024|             Pelotas| RS|Estou tentando co...|Olá, Filipe. Espe...|Nota 5|Muito obrigado Ad...|\n",
      "|Facebook / Instagram|    Resolvido|1 dias depois|  13/10/2024|           São Paulo| SP|Boa Tarde! Meu in...|A equipe Meta agr...|Nota 5|Acesso reestabele...|\n",
      "|  Midway (Riachuelo)|    Resolvido|1 dias depois|  13/10/2024|           Joinville| SC|No dia 29/09, fui...|Olá! Tudo bem? Su...|Nota 5|Grata pelo retorn...|\n",
      "|Boa Vista Serviço...|Não Resolvido|1 dias depois|  13/10/2024|           Benevides| PA|Exijo a retirada ...|Olá, tudo bem? An...|Nota 5|Ainda n retiraram...|\n",
      "|Ademicon Administ...|Não Resolvido|1 dias depois|  13/10/2024|         Nova Iguaçu| RJ|Cliente realizou ...|Analisamos a mani...|Nota 2|Esclarece o clien...|\n",
      "|BRB - Banco de Br...|Não Resolvido|1 dias depois|  13/10/2024|        Belford Roxo| RJ|Baixei o aplicati...|Boa tarde! Seu re...|Nota 2|<não há comentári...|\n",
      "|     Serasa Experian|    Resolvido|1 dias depois|  13/10/2024|             Goiânia| GO|Meu cadastro no S...|Oi, RAFAEL. Tudo ...|Nota 4|<não há comentári...|\n",
      "|            Banco XP|Não Resolvido|1 dias depois|  13/10/2024|             Itatiba| SP|Solicito, por mei...|Olá Fernando Agra...|Nota 1|Solicito Revisão ...|\n",
      "|Boa Vista Serviço...|Não Resolvido|2 dias depois|  12/10/2024|               Natal| RN|Tenho dados negat...|Olá, tudo bem? An...|Nota 1|<não há comentári...|\n",
      "|             C&A Pay|    Resolvido|2 dias depois|  12/10/2024|            Brasília| DF|Fiz uma compra em...|👋Olá Jucélem, tu...|Nota 5|Agradeço a atençã...|\n",
      "|     Serasa Experian|Não Resolvido|2 dias depois|  12/10/2024|               Natal| RN|Há dados negativo...|Oi, WILTON. Tudo ...|Nota 1|<não há comentári...|\n",
      "|               99App|    Resolvido|2 dias depois|  12/10/2024|           Cariacica| ES|Na minha última c...|Prezado solicitan...|Nota 3|<não há comentári...|\n",
      "|          Latam Pass|Não Resolvido|2 dias depois|  12/10/2024|              Recife| PE|SAC LATAM Boa noi...|Olá Ricardo Infor...|Nota 3|É uma pena que nã...|\n",
      "|Boa Vista Serviço...|Não Resolvido|2 dias depois|  12/10/2024|      Rio de Janeiro| RJ|Tem contas de mai...|Olá, tudo bem? An...|Nota 1|A instituição com...|\n",
      "|     Serasa Experian|    Resolvido|2 dias depois|  12/10/2024|              Recife| PE|Conforme decisão ...|Oi, GEAZI. Tudo b...|Nota 5|<não há comentári...|\n",
      "|  Neoenergia Elektro|    Resolvido|2 dias depois|  12/10/2024|           São Paulo| SP|Estamos sem energ...|Olá, Alecsandro, ...|Nota 5|Foram rápidos e p...|\n",
      "| Hurb - Hotel Urbano|Não Resolvido|2 dias depois|  12/10/2024|        Campo Grande| MS|Há 1 ano que espe...|Olá, Viajante! Tu...|Nota 1|Nenhuma resolução...|\n",
      "+--------------------+-------------+-------------+------------+--------------------+---+--------------------+--------------------+------+--------------------+\n",
      "only showing top 50 rows\n",
      "\n"
     ]
    }
   ],
   "source": [
    "df.show(50)"
   ]
  },
  {
   "cell_type": "code",
   "execution_count": 31,
   "id": "f11a94d1",
   "metadata": {},
   "outputs": [
    {
     "data": {
      "text/plain": [
       "80"
      ]
     },
     "execution_count": 31,
     "metadata": {},
     "output_type": "execute_result"
    }
   ],
   "source": [
    "df.count()"
   ]
  },
  {
   "cell_type": "code",
   "execution_count": null,
   "id": "7205836e",
   "metadata": {},
   "outputs": [],
   "source": [
    "query = teste.writeStream \\\n",
    "            .format(\"parquet\") \\\n",
    "            .option(\"path\", \"hdfs://localhost:9000/data/teste\") \\\n",
    "            .option(\"checkpointLocation\", \"hdfs://localhost:9000/tmp/checkpoint\") \\\n",
    "            .start()"
   ]
  },
  {
   "cell_type": "code",
   "execution_count": null,
   "id": "219bae04",
   "metadata": {},
   "outputs": [],
   "source": [
    "query.awaitTermination()"
   ]
  }
 ],
 "metadata": {
  "kernelspec": {
   "display_name": "base",
   "language": "python",
   "name": "python3"
  },
  "language_info": {
   "codemirror_mode": {
    "name": "ipython",
    "version": 3
   },
   "file_extension": ".py",
   "mimetype": "text/x-python",
   "name": "python",
   "nbconvert_exporter": "python",
   "pygments_lexer": "ipython3",
   "version": "3.8.19"
  }
 },
 "nbformat": 4,
 "nbformat_minor": 5
}
