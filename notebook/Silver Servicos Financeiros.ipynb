{
 "cells": [
  {
   "cell_type": "code",
   "execution_count": 1,
   "id": "d7ad2263-7f60-4a99-9531-31db45fbc215",
   "metadata": {
    "tags": []
   },
   "outputs": [
    {
     "name": "stderr",
     "output_type": "stream",
     "text": [
      "Warning: Ignoring non-Spark config property: hive.exe.dynamic.partition.mode\n",
      "24/10/07 20:59:22 WARN Utils: Your hostname, besgam-Aspire-E1-471 resolves to a loopback address: 127.0.1.1; using 192.168.0.21 instead (on interface wlp9s0)\n",
      "24/10/07 20:59:22 WARN Utils: Set SPARK_LOCAL_IP if you need to bind to another address\n",
      "WARNING: An illegal reflective access operation has occurred\n",
      "WARNING: Illegal reflective access by org.apache.spark.unsafe.Platform (file:/home/besgam/anaconda3/lib/python3.8/site-packages/pyspark/jars/spark-unsafe_2.12-3.0.0.jar) to constructor java.nio.DirectByteBuffer(long,int)\n",
      "WARNING: Please consider reporting this to the maintainers of org.apache.spark.unsafe.Platform\n",
      "WARNING: Use --illegal-access=warn to enable warnings of further illegal reflective access operations\n",
      "WARNING: All illegal access operations will be denied in a future release\n",
      "Ivy Default Cache set to: /home/besgam/.ivy2/cache\n",
      "The jars for the packages stored in: /home/besgam/.ivy2/jars\n",
      ":: loading settings :: url = jar:file:/home/besgam/anaconda3/lib/python3.8/site-packages/pyspark/jars/ivy-2.4.0.jar!/org/apache/ivy/core/settings/ivysettings.xml\n",
      "io.delta#delta-core_2.12 added as a dependency\n",
      ":: resolving dependencies :: org.apache.spark#spark-submit-parent-ea524069-8fad-4624-8bd9-e2611a540faf;1.0\n",
      "\tconfs: [default]\n",
      "\tfound io.delta#delta-core_2.12;0.8.0 in central\n",
      "\tfound org.antlr#antlr4;4.7 in central\n",
      "\tfound org.antlr#antlr4-runtime;4.7 in central\n",
      "\tfound org.antlr#antlr-runtime;3.5.2 in central\n",
      "\tfound org.antlr#ST4;4.0.8 in central\n",
      "\tfound org.abego.treelayout#org.abego.treelayout.core;1.0.3 in central\n",
      "\tfound org.glassfish#javax.json;1.0.4 in central\n",
      "\tfound com.ibm.icu#icu4j;58.2 in central\n",
      ":: resolution report :: resolve 570ms :: artifacts dl 16ms\n",
      "\t:: modules in use:\n",
      "\tcom.ibm.icu#icu4j;58.2 from central in [default]\n",
      "\tio.delta#delta-core_2.12;0.8.0 from central in [default]\n",
      "\torg.abego.treelayout#org.abego.treelayout.core;1.0.3 from central in [default]\n",
      "\torg.antlr#ST4;4.0.8 from central in [default]\n",
      "\torg.antlr#antlr-runtime;3.5.2 from central in [default]\n",
      "\torg.antlr#antlr4;4.7 from central in [default]\n",
      "\torg.antlr#antlr4-runtime;4.7 from central in [default]\n",
      "\torg.glassfish#javax.json;1.0.4 from central in [default]\n",
      "\t---------------------------------------------------------------------\n",
      "\t|                  |            modules            ||   artifacts   |\n",
      "\t|       conf       | number| search|dwnlded|evicted|| number|dwnlded|\n",
      "\t---------------------------------------------------------------------\n",
      "\t|      default     |   8   |   0   |   0   |   0   ||   8   |   0   |\n",
      "\t---------------------------------------------------------------------\n",
      ":: retrieving :: org.apache.spark#spark-submit-parent-ea524069-8fad-4624-8bd9-e2611a540faf\n",
      "\tconfs: [default]\n",
      "\t0 artifacts copied, 8 already retrieved (0kB/14ms)\n",
      "24/10/07 20:59:33 WARN NativeCodeLoader: Unable to load native-hadoop library for your platform... using builtin-java classes where applicable\n",
      "Using Spark's default log4j profile: org/apache/spark/log4j-defaults.properties\n",
      "Setting default log level to \"WARN\".\n",
      "To adjust logging level use sc.setLogLevel(newLevel). For SparkR, use setLogLevel(newLevel).\n"
     ]
    }
   ],
   "source": [
    "from pyspark.sql import SparkSession\n",
    "from pyspark.sql.functions import *\n",
    "from pyspark.sql.types import *\n",
    "\n",
    "spark = SparkSession.builder.appName(\"Ingesta Silver\") \\\n",
    "    .master(\"spark://localhost:7077\")\\\n",
    "    .config(\"spark.jars.packages\", \"io.delta:delta-core_2.12:0.8.0\") \\\n",
    "    .config(\"spark.sql.extensions\", \"io.delta.sql.DeltaSparkSessionExtension\") \\\n",
    "    .config(\"spark.sql.catalog.spark_catalog\", \"org.apache.spark.sql.delta.catalog.DeltaCatalog\") \\\n",
    "    .config(\"spark.sql.sources.partitionOverwriteMode\", \"dynamic\")\\\n",
    "    .config(\"hive.exe.dynamic.partition.mode\", \"nonstrict\") \\\n",
    "    .getOrCreate()\n",
    "\n",
    "from delta.tables import *"
   ]
  },
  {
   "cell_type": "code",
   "execution_count": 2,
   "id": "5f9690d9-9476-40f9-b4c8-bc2ed147da53",
   "metadata": {
    "tags": []
   },
   "outputs": [],
   "source": [
    "anoMes = \"'2024-06'\""
   ]
  },
  {
   "cell_type": "code",
   "execution_count": 6,
   "id": "6f58dbc8",
   "metadata": {},
   "outputs": [
    {
     "data": {
      "text/plain": [
       "\"'2024-05'\""
      ]
     },
     "execution_count": 6,
     "metadata": {},
     "output_type": "execute_result"
    }
   ],
   "source": [
    "anoMes"
   ]
  },
  {
   "cell_type": "code",
   "execution_count": 3,
   "id": "3d5cb994-5aba-4b3b-938a-af487dc72a6c",
   "metadata": {
    "tags": []
   },
   "outputs": [],
   "source": [
    "def qualifyTypeColumn(df, columns, expressions):\n",
    "    for column, expression in zip(columns, expressions):\n",
    "        df = df.withColumn(column, expression)\n",
    "    return df"
   ]
  },
  {
   "cell_type": "code",
   "execution_count": 4,
   "id": "260999d1-a819-4f76-a2fe-141ff3070e93",
   "metadata": {
    "tags": []
   },
   "outputs": [],
   "source": [
    "columns = ['dataAbertura', 'dataResposta', 'dataAnalise', 'dataRecusa', 'prazoResposta', 'procurouEmpresa', 'respondida']"
   ]
  },
  {
   "cell_type": "code",
   "execution_count": 5,
   "id": "597f2431-6756-43f9-b729-a0ffccb6270c",
   "metadata": {
    "tags": []
   },
   "outputs": [],
   "source": [
    "expressions = [ from_unixtime(unix_timestamp(col('dataAbertura'), 'dd/MM/yyyy')).cast(DateType())\n",
    "               , from_unixtime(unix_timestamp(col('dataResposta'), 'dd/MM/yyyy')).cast(DateType()) \n",
    "               , from_unixtime(unix_timestamp(col('dataAnalise'), 'dd/MM/yyyy')).cast(DateType()) \n",
    "               , from_unixtime(unix_timestamp(col('dataRecusa'), 'dd/MM/yyyy')).cast(DateType())               \n",
    "               , from_unixtime(unix_timestamp(col('prazoResposta'), 'dd/MM/yyyy')).cast(DateType())\n",
    "               , when(col('procurouEmpresa') == 'S', lit(1)).otherwise(lit(0)).cast(BooleanType())\n",
    "               , when(col('respondida') == 'S', lit(1)).otherwise(lit(0)).cast(BooleanType())\n",
    "              ]"
   ]
  },
  {
   "cell_type": "code",
   "execution_count": 2,
   "id": "2910cf18-e110-4679-8820-282f2c07875a",
   "metadata": {
    "tags": []
   },
   "outputs": [
    {
     "name": "stderr",
     "output_type": "stream",
     "text": [
      "                                                                                \r"
     ]
    }
   ],
   "source": [
    "consumidor = spark.read.format('delta').load(\"hdfs://namenode:9000/data/consumidor/bronze/\")#.where(f\"datRefCarga!={anoMes}\")"
   ]
  },
  {
   "cell_type": "code",
   "execution_count": 3,
   "id": "3cc6d8a4",
   "metadata": {},
   "outputs": [
    {
     "name": "stderr",
     "output_type": "stream",
     "text": [
      "24/09/24 20:52:46 WARN package: Truncated the string representation of a plan since it was too large. This behavior can be adjusted by setting 'spark.sql.debug.maxToStringFields'.\n",
      "                                                                                \r"
     ]
    }
   ],
   "source": [
    "maxPartition = spark.read.format('delta') \\\n",
    "                       .load(\"hdfs://namenode:9000/data/consumidor/bronze/\")\\\n",
    "                       .select(\"datRefCarga\").orderBy(col(\"datProc\").desc()).first()[0]"
   ]
  },
  {
   "cell_type": "code",
   "execution_count": 4,
   "id": "377b2194",
   "metadata": {},
   "outputs": [
    {
     "data": {
      "text/plain": [
       "'2024-06'"
      ]
     },
     "execution_count": 4,
     "metadata": {},
     "output_type": "execute_result"
    }
   ],
   "source": [
    "maxPartition"
   ]
  },
  {
   "cell_type": "code",
   "execution_count": 7,
   "id": "cac644fc",
   "metadata": {},
   "outputs": [],
   "source": [
    "df = spark.read.format('delta') \\\n",
    "                       .load(\"hdfs://namenode:9000/data/consumidor/bronze/\") \\\n",
    "                       .where(f\"datRefCarga='{maxPartition}'\")"
   ]
  },
  {
   "cell_type": "code",
   "execution_count": 20,
   "id": "f5094a7e-5347-4243-ad76-9e3f68549266",
   "metadata": {
    "tags": []
   },
   "outputs": [],
   "source": [
    "consumidor = qualifyTypeColumn(consumidor, columns, expressions)"
   ]
  },
  {
   "cell_type": "code",
   "execution_count": 21,
   "id": "a1b2e55b-3cb0-4149-bea6-1a487dd7068d",
   "metadata": {
    "tags": []
   },
   "outputs": [],
   "source": [
    "consumidor = consumidor.filter((col('nomefantasia').like('Banco%')) & (col('area')=='Serviços Financeiros') )"
   ]
  },
  {
   "cell_type": "code",
   "execution_count": 22,
   "id": "95334065-de25-4183-939b-360c6256c919",
   "metadata": {
    "tags": []
   },
   "outputs": [
    {
     "name": "stderr",
     "output_type": "stream",
     "text": [
      "                                                                                \r"
     ]
    },
    {
     "name": "stderr",
     "output_type": "stream",
     "text": [
      "24/08/15 21:34:03 ERROR StandaloneSchedulerBackend: Application has been killed. Reason: Master removed our application: KILLED\n",
      "24/08/15 21:34:03 ERROR Inbox: Ignoring error\n",
      "org.apache.spark.SparkException: Exiting due to error from cluster scheduler: Master removed our application: KILLED\n",
      "\tat org.apache.spark.scheduler.TaskSchedulerImpl.error(TaskSchedulerImpl.scala:716)\n",
      "\tat org.apache.spark.scheduler.cluster.StandaloneSchedulerBackend.dead(StandaloneSchedulerBackend.scala:152)\n",
      "\tat org.apache.spark.deploy.client.StandaloneAppClient$ClientEndpoint.markDead(StandaloneAppClient.scala:258)\n",
      "\tat org.apache.spark.deploy.client.StandaloneAppClient$ClientEndpoint$$anonfun$receive$1.applyOrElse(StandaloneAppClient.scala:168)\n",
      "\tat org.apache.spark.rpc.netty.Inbox.$anonfun$process$1(Inbox.scala:115)\n",
      "\tat org.apache.spark.rpc.netty.Inbox.safelyCall(Inbox.scala:203)\n",
      "\tat org.apache.spark.rpc.netty.Inbox.process(Inbox.scala:100)\n",
      "\tat org.apache.spark.rpc.netty.MessageLoop.org$apache$spark$rpc$netty$MessageLoop$$receiveLoop(MessageLoop.scala:75)\n",
      "\tat org.apache.spark.rpc.netty.MessageLoop$$anon$1.run(MessageLoop.scala:41)\n",
      "\tat java.base/java.util.concurrent.ThreadPoolExecutor.runWorker(ThreadPoolExecutor.java:1128)\n",
      "\tat java.base/java.util.concurrent.ThreadPoolExecutor$Worker.run(ThreadPoolExecutor.java:628)\n",
      "\tat java.base/java.lang.Thread.run(Thread.java:829)\n"
     ]
    }
   ],
   "source": [
    "consumidor.write.partitionBy('datRefCarga').format(\"delta\").mode(\"append\").save(\"hdfs://namenode:9000/data/consumidor/silver\")"
   ]
  },
  {
   "cell_type": "code",
   "execution_count": 3,
   "id": "4854a3f8-be03-4b83-991d-33cfa949b7ed",
   "metadata": {},
   "outputs": [
    {
     "name": "stderr",
     "output_type": "stream",
     "text": [
      "                                                                                \r"
     ]
    }
   ],
   "source": [
    "df = spark.read.parquet('hdfs://namenode:9000/data/consumidor/silver/datRefCarga=2023-05')"
   ]
  },
  {
   "cell_type": "code",
   "execution_count": 4,
   "id": "8fefd01b",
   "metadata": {},
   "outputs": [
    {
     "name": "stdout",
     "output_type": "stream",
     "text": [
      "root\n",
      " |-- gestor: string (nullable = true)\n",
      " |-- canalOrigem: string (nullable = true)\n",
      " |-- regiao: string (nullable = true)\n",
      " |-- uf: string (nullable = true)\n",
      " |-- cidade: string (nullable = true)\n",
      " |-- sexo: string (nullable = true)\n",
      " |-- faixaEtaria: string (nullable = true)\n",
      " |-- anoAbertura: integer (nullable = true)\n",
      " |-- mesAbertura: integer (nullable = true)\n",
      " |-- dataAbertura: date (nullable = true)\n",
      " |-- dataResposta: date (nullable = true)\n",
      " |-- dataAnalise: date (nullable = true)\n",
      " |-- dataRecusa: date (nullable = true)\n",
      " |-- dataFinalizacao: date (nullable = true)\n",
      " |-- prazoResposta: date (nullable = true)\n",
      " |-- prazoAnaliseGestor: integer (nullable = true)\n",
      " |-- tempoResposta: string (nullable = true)\n",
      " |-- nomeFantasia: string (nullable = true)\n",
      " |-- segmentoMercado: string (nullable = true)\n",
      " |-- area: string (nullable = true)\n",
      " |-- assunto: string (nullable = true)\n",
      " |-- grupoProblema: string (nullable = true)\n",
      " |-- problema: string (nullable = true)\n",
      " |-- comoContratou: string (nullable = true)\n",
      " |-- procurouEmpresa: boolean (nullable = true)\n",
      " |-- respondida: boolean (nullable = true)\n",
      " |-- situacao: string (nullable = true)\n",
      " |-- avaliacaoReclamacao: string (nullable = true)\n",
      " |-- notaConsumidor: string (nullable = true)\n",
      " |-- analiseRecusa: string (nullable = true)\n",
      " |-- tempoRespostanotaConsumidor: integer (nullable = true)\n",
      "\n"
     ]
    }
   ],
   "source": [
    "df.printSchema()"
   ]
  },
  {
   "cell_type": "code",
   "execution_count": 5,
   "id": "a7235a1d",
   "metadata": {},
   "outputs": [
    {
     "name": "stderr",
     "output_type": "stream",
     "text": [
      "24/10/07 21:00:52 WARN package: Truncated the string representation of a plan since it was too large. This behavior can be adjusted by setting 'spark.sql.debug.maxToStringFields'.\n",
      "[Stage 1:>                                                          (0 + 1) / 1]\r"
     ]
    },
    {
     "name": "stdout",
     "output_type": "stream",
     "text": [
      "+--------------------+--------------+------+---+--------------------+----+------------------+-----------+-----------+------------+------------+-----------+----------+---------------+-------------+------------------+-------------+--------------------+--------------------+--------------------+--------------------+--------------------+--------------------+--------------------+---------------+----------+--------------------+-------------------+--------------+-------------+---------------------------+\n",
      "|              gestor|   canalOrigem|regiao| uf|              cidade|sexo|       faixaEtaria|anoAbertura|mesAbertura|dataAbertura|dataResposta|dataAnalise|dataRecusa|dataFinalizacao|prazoResposta|prazoAnaliseGestor|tempoResposta|        nomeFantasia|     segmentoMercado|                area|             assunto|       grupoProblema|            problema|       comoContratou|procurouEmpresa|respondida|            situacao|avaliacaoReclamacao|notaConsumidor|analiseRecusa|tempoRespostanotaConsumidor|\n",
      "+--------------------+--------------+------+---+--------------------+----+------------------+-----------+-----------+------------+------------+-----------+----------+---------------+-------------+------------------+-------------+--------------------+--------------------+--------------------+--------------------+--------------------+--------------------+--------------------+---------------+----------+--------------------+-------------------+--------------+-------------+---------------------------+\n",
      "|Instituto Municip...|Plataforma Web|    SE| RJ|      Rio de Janeiro|   M|   mais de 70 anos|       2023|          3|  2023-03-16|  2023-04-10| 2023-04-05|2023-03-21|     2023-05-01|   2023-04-10|                15|           10|           Banco BMG|Bancos, Financeir...|Serviços Financeiros|Crédito Consignad...|  Vício de Qualidade|Margem consignáve...|Não comprei / con...|          false|      true|Finalizada não av...|       Não Avaliada|          null| Improcedente|                         10|\n",
      "|Instituto Municip...|Plataforma Web|    SE| RJ|      Rio de Janeiro|   M|   mais de 70 anos|       2023|          3|  2023-03-16|  2023-04-10| 2023-04-05|2023-03-21|     2023-05-01|   2023-04-10|                15|           10|           Banco BMG|Bancos, Financeir...|Serviços Financeiros|Crédito Pessoal e...|Dados Pessoais e ...|Dificuldade de ac...|Não comprei / con...|          false|      true|Finalizada não av...|       Não Avaliada|          null| Improcedente|                         10|\n",
      "|Secretaria Nacion...|Plataforma Web|    S | RS|        Porto Alegre|   F|   mais de 70 anos|       2023|          3|  2023-03-17|  2023-04-10| 2023-04-05|2023-03-21|     2023-05-01|   2023-04-11|                15|            9|          Banco Pan |Bancos, Financeir...|Serviços Financeiros|Crédito Pessoal e...|Cobrança / Contes...|Cálculo de juros,...|         Loja física|          false|      true|Finalizada não av...|       Não Avaliada|          null| Improcedente|                          9|\n",
      "|Instituto Estadua...|Plataforma Web|    SE| ES|           Cariacica|   M|entre 31 a 40 anos|       2023|          3|  2023-03-17|  2023-04-11| 2023-04-11|2023-03-27|     2023-05-02|   2023-04-11|                15|           10|Banco Santander C...|Bancos, Financeir...|Serviços Financeiros|Cartão de Crédito...|   Atendimento / SAC|SAC - Dificuldade...|            Internet|           true|      true|Finalizada não av...|       Não Avaliada|          null| Improcedente|                         10|\n",
      "|Secretaria Nacion...|Plataforma Web|    NE| MA|Água Doce do Mara...|   F|entre 41 a 50 anos|       2023|          3|  2023-03-17|        null|       null|      null|     2023-05-16|   2023-03-27|              null|         null|Banco BV (antigo ...|Bancos, Financeir...|Serviços Financeiros|Crédito Pessoal e...|Cobrança / Contes...|Negativação indev...|Não comprei / con...|           true|     false| Finalizada avaliada|      Não Resolvida|             1|         null|                       null|\n",
      "|Secretaria Nacion...|Plataforma Web|    NE| MA|Presidente Juscelino|   M|   mais de 70 anos|       2023|          3|  2023-03-17|  2023-04-10| 2023-04-10|2023-03-27|     2023-05-01|   2023-04-10|                14|           10|Banco Agibank (Ag...|Bancos, Financeir...|Serviços Financeiros|Crédito Consignad...|Cobrança / Contes...|Cobrança indevida...|Não comprei / con...|           true|      true|Finalizada não av...|       Não Avaliada|          null| Improcedente|                         10|\n",
      "|Superintendência ...|Plataforma Web|    NE| BA|            Salvador|   M|entre 41 a 50 anos|       2023|          3|  2023-03-17|  2023-04-10| 2023-04-10|2023-03-27|     2023-05-01|   2023-04-10|                14|           10|Banco Santander C...|Bancos, Financeir...|Serviços Financeiros|Cartão de Crédito...|Cobrança / Contes...|Cobrança de compr...|            Internet|           true|      true|Finalizada não av...|       Não Avaliada|          null| Improcedente|                         10|\n",
      "|Secretaria Nacion...|Plataforma Web|    NE| MA|             Rosário|   F|entre 61 a 70 anos|       2023|          3|  2023-03-17|  2023-04-11| 2023-04-05|2023-03-21|     2023-05-02|   2023-04-11|                15|           10|          Banco Pan |Bancos, Financeir...|Serviços Financeiros|Crédito Consignad...|Cobrança / Contes...|Cobrança indevida...|Não comprei / con...|           true|      true|Finalizada não av...|       Não Avaliada|          null| Improcedente|                         10|\n",
      "|Secretaria Nacion...|Plataforma Web|    S | RS|        São Jerônimo|   F|entre 51 a 60 anos|       2023|          3|  2023-03-17|  2023-04-10| 2023-04-05|2023-03-21|     2023-05-01|   2023-04-11|                15|            9|          Banco Pan |Bancos, Financeir...|Serviços Financeiros|Financiamentos de...|   Contrato / Oferta|Não entrega do co...|         Loja física|           true|      true|Finalizada não av...|       Não Avaliada|          null| Improcedente|                          9|\n",
      "|Secretaria de Est...|Plataforma Web|    S | SC|            São José|   M|   mais de 70 anos|       2023|          3|  2023-03-18|  2023-04-10| 2023-04-04|2023-03-22|     2023-05-01|   2023-04-10|                13|           10|           Banco BMG|Bancos, Financeir...|Serviços Financeiros|Cartão de Crédito...|Cobrança / Contes...|Cartão não solici...|Não comprei / con...|           true|      true|Finalizada não av...|       Não Avaliada|          null| Improcedente|                         10|\n",
      "+--------------------+--------------+------+---+--------------------+----+------------------+-----------+-----------+------------+------------+-----------+----------+---------------+-------------+------------------+-------------+--------------------+--------------------+--------------------+--------------------+--------------------+--------------------+--------------------+---------------+----------+--------------------+-------------------+--------------+-------------+---------------------------+\n",
      "only showing top 10 rows\n",
      "\n"
     ]
    },
    {
     "name": "stderr",
     "output_type": "stream",
     "text": [
      "                                                                                \r"
     ]
    },
    {
     "name": "stderr",
     "output_type": "stream",
     "text": [
      "24/10/07 21:10:35 WARN HeartbeatReceiver: Removing executor 0 with no recent heartbeats: 121536 ms exceeds timeout 120000 ms\n",
      "24/10/07 21:10:35 ERROR TaskSchedulerImpl: Lost executor 0 on 172.18.0.10: Executor heartbeat timed out after 121536 ms\n",
      "24/10/07 21:11:01 WARN TransportChannelHandler: Exception in connection from /172.18.0.10:58360\n",
      "java.io.IOException: Connection reset by peer\n",
      "\tat java.base/sun.nio.ch.FileDispatcherImpl.read0(Native Method)\n",
      "\tat java.base/sun.nio.ch.SocketDispatcher.read(SocketDispatcher.java:39)\n",
      "\tat java.base/sun.nio.ch.IOUtil.readIntoNativeBuffer(IOUtil.java:276)\n",
      "\tat java.base/sun.nio.ch.IOUtil.read(IOUtil.java:233)\n",
      "\tat java.base/sun.nio.ch.IOUtil.read(IOUtil.java:223)\n",
      "\tat java.base/sun.nio.ch.SocketChannelImpl.read(SocketChannelImpl.java:356)\n",
      "\tat io.netty.buffer.PooledByteBuf.setBytes(PooledByteBuf.java:253)\n",
      "\tat io.netty.buffer.AbstractByteBuf.writeBytes(AbstractByteBuf.java:1133)\n",
      "\tat io.netty.channel.socket.nio.NioSocketChannel.doReadBytes(NioSocketChannel.java:350)\n",
      "\tat io.netty.channel.nio.AbstractNioByteChannel$NioByteUnsafe.read(AbstractNioByteChannel.java:148)\n",
      "\tat io.netty.channel.nio.NioEventLoop.processSelectedKey(NioEventLoop.java:714)\n",
      "\tat io.netty.channel.nio.NioEventLoop.processSelectedKeysOptimized(NioEventLoop.java:650)\n",
      "\tat io.netty.channel.nio.NioEventLoop.processSelectedKeys(NioEventLoop.java:576)\n",
      "\tat io.netty.channel.nio.NioEventLoop.run(NioEventLoop.java:493)\n",
      "\tat io.netty.util.concurrent.SingleThreadEventExecutor$4.run(SingleThreadEventExecutor.java:989)\n",
      "\tat io.netty.util.internal.ThreadExecutorMap$2.run(ThreadExecutorMap.java:74)\n",
      "\tat io.netty.util.concurrent.FastThreadLocalRunnable.run(FastThreadLocalRunnable.java:30)\n",
      "\tat java.base/java.lang.Thread.run(Thread.java:829)\n"
     ]
    }
   ],
   "source": [
    "df.show(10)"
   ]
  },
  {
   "cell_type": "code",
   "execution_count": null,
   "id": "c6fad9c6",
   "metadata": {},
   "outputs": [],
   "source": []
  }
 ],
 "metadata": {
  "kernelspec": {
   "display_name": "base",
   "language": "python",
   "name": "python3"
  },
  "language_info": {
   "codemirror_mode": {
    "name": "ipython",
    "version": 3
   },
   "file_extension": ".py",
   "mimetype": "text/x-python",
   "name": "python",
   "nbconvert_exporter": "python",
   "pygments_lexer": "ipython3",
   "version": "3.8.19"
  }
 },
 "nbformat": 4,
 "nbformat_minor": 5
}
