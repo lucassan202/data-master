{
 "cells": [
  {
   "cell_type": "code",
   "execution_count": 1,
   "id": "72e928c2-bb32-4e66-b882-dcb9076bfea4",
   "metadata": {
    "tags": []
   },
   "outputs": [
    {
     "name": "stderr",
     "output_type": "stream",
     "text": [
      "Warning: Ignoring non-Spark config property: hive.exe.dynamic.partition.mode\n",
      "24/10/06 16:55:10 WARN Utils: Your hostname, besgam-Aspire-E1-471 resolves to a loopback address: 127.0.1.1; using 192.168.0.21 instead (on interface wlp9s0)\n",
      "24/10/06 16:55:10 WARN Utils: Set SPARK_LOCAL_IP if you need to bind to another address\n",
      "WARNING: An illegal reflective access operation has occurred\n",
      "WARNING: Illegal reflective access by org.apache.spark.unsafe.Platform (file:/home/besgam/anaconda3/lib/python3.8/site-packages/pyspark/jars/spark-unsafe_2.12-3.0.0.jar) to constructor java.nio.DirectByteBuffer(long,int)\n",
      "WARNING: Please consider reporting this to the maintainers of org.apache.spark.unsafe.Platform\n",
      "WARNING: Use --illegal-access=warn to enable warnings of further illegal reflective access operations\n",
      "WARNING: All illegal access operations will be denied in a future release\n",
      "Ivy Default Cache set to: /home/besgam/.ivy2/cache\n",
      "The jars for the packages stored in: /home/besgam/.ivy2/jars\n",
      ":: loading settings :: url = jar:file:/home/besgam/anaconda3/lib/python3.8/site-packages/pyspark/jars/ivy-2.4.0.jar!/org/apache/ivy/core/settings/ivysettings.xml\n",
      "io.delta#delta-core_2.12 added as a dependency\n",
      ":: resolving dependencies :: org.apache.spark#spark-submit-parent-00fd4e2d-4622-4053-b366-faddb8df5f32;1.0\n",
      "\tconfs: [default]\n",
      "\tfound io.delta#delta-core_2.12;0.8.0 in central\n",
      "\tfound org.antlr#antlr4;4.7 in central\n",
      "\tfound org.antlr#antlr4-runtime;4.7 in central\n",
      "\tfound org.antlr#antlr-runtime;3.5.2 in central\n",
      "\tfound org.antlr#ST4;4.0.8 in central\n",
      "\tfound org.abego.treelayout#org.abego.treelayout.core;1.0.3 in central\n",
      "\tfound org.glassfish#javax.json;1.0.4 in central\n",
      "\tfound com.ibm.icu#icu4j;58.2 in central\n",
      ":: resolution report :: resolve 542ms :: artifacts dl 17ms\n",
      "\t:: modules in use:\n",
      "\tcom.ibm.icu#icu4j;58.2 from central in [default]\n",
      "\tio.delta#delta-core_2.12;0.8.0 from central in [default]\n",
      "\torg.abego.treelayout#org.abego.treelayout.core;1.0.3 from central in [default]\n",
      "\torg.antlr#ST4;4.0.8 from central in [default]\n",
      "\torg.antlr#antlr-runtime;3.5.2 from central in [default]\n",
      "\torg.antlr#antlr4;4.7 from central in [default]\n",
      "\torg.antlr#antlr4-runtime;4.7 from central in [default]\n",
      "\torg.glassfish#javax.json;1.0.4 from central in [default]\n",
      "\t---------------------------------------------------------------------\n",
      "\t|                  |            modules            ||   artifacts   |\n",
      "\t|       conf       | number| search|dwnlded|evicted|| number|dwnlded|\n",
      "\t---------------------------------------------------------------------\n",
      "\t|      default     |   8   |   0   |   0   |   0   ||   8   |   0   |\n",
      "\t---------------------------------------------------------------------\n",
      ":: retrieving :: org.apache.spark#spark-submit-parent-00fd4e2d-4622-4053-b366-faddb8df5f32\n",
      "\tconfs: [default]\n",
      "\t0 artifacts copied, 8 already retrieved (0kB/18ms)\n",
      "24/10/06 16:55:12 WARN NativeCodeLoader: Unable to load native-hadoop library for your platform... using builtin-java classes where applicable\n",
      "Using Spark's default log4j profile: org/apache/spark/log4j-defaults.properties\n",
      "Setting default log level to \"WARN\".\n",
      "To adjust logging level use sc.setLogLevel(newLevel). For SparkR, use setLogLevel(newLevel).\n"
     ]
    }
   ],
   "source": [
    "from pyspark.sql import SparkSession\n",
    "from pyspark.sql.functions import *\n",
    "from pyspark.sql.types import *\n",
    "\n",
    "spark = SparkSession.builder.appName(\"Ingesta Bronze\") \\\n",
    "    .master(\"local[*]\")\\\n",
    "    .config(\"spark.jars.packages\", \"io.delta:delta-core_2.12:0.8.0\") \\\n",
    "    .config(\"spark.sql.extensions\", \"io.delta.sql.DeltaSparkSessionExtension\") \\\n",
    "    .config(\"spark.sql.catalog.spark_catalog\", \"org.apache.spark.sql.delta.catalog.DeltaCatalog\") \\\n",
    "    .config(\"spark.sql.sources.partitionOverwriteMode\", \"dynamic\")\\\n",
    "    .config(\"hive.exe.dynamic.partition.mode\", \"nonstrict\") \\\n",
    "    .getOrCreate()\n",
    "\n",
    "from delta.tables import *"
   ]
  },
  {
   "cell_type": "code",
   "execution_count": 2,
   "id": "aa6ecabb",
   "metadata": {},
   "outputs": [
    {
     "name": "stderr",
     "output_type": "stream",
     "text": [
      "                                                                                \r"
     ]
    }
   ],
   "source": [
    "df = spark.read\\\n",
    "    .option(\"header\", True) \\\n",
    "    .option(\"sep\", \";\") \\\n",
    "    .csv(\"/home/besgam/Projetos/data-master/consumidor/csv/basecompleta2024-03.csv\")"
   ]
  },
  {
   "cell_type": "code",
   "execution_count": 3,
   "id": "7d549c3e",
   "metadata": {},
   "outputs": [
    {
     "name": "stderr",
     "output_type": "stream",
     "text": [
      "24/10/06 14:34:11 WARN package: Truncated the string representation of a plan since it was too large. This behavior can be adjusted by setting 'spark.sql.debug.maxToStringFields'.\n"
     ]
    },
    {
     "name": "stdout",
     "output_type": "stream",
     "text": [
      "+--------------------+---------------+------+---+-------------------+----+------------------+------------+------------+-------------+-------------+------------+-----------+----------------+--------------+--------------------+--------------+--------------------+--------------------+--------------------+--------------------+--------------------+--------------------+----------------------+----------------+----------+--------------------+--------------------+------------------+-----------------+\n",
      "|              Gestor|Canal de Origem|Região| UF|             Cidade|Sexo|      Faixa Etária|Ano Abertura|Mês Abertura|Data Abertura|Data Resposta|Data Análise|Data Recusa|Data Finalização|Prazo Resposta|Prazo Analise Gestor|Tempo Resposta|       Nome Fantasia| Segmento de Mercado|                Área|             Assunto|      Grupo Problema|            Problema|Como Comprou Contratou|Procurou Empresa|Respondida|            Situação|Avaliação Reclamação|Nota do Consumidor|Análise da Recusa|\n",
      "+--------------------+---------------+------+---+-------------------+----+------------------+------------+------------+-------------+-------------+------------+-----------+----------------+--------------+--------------------+--------------+--------------------+--------------------+--------------------+--------------------+--------------------+--------------------+----------------------+----------------+----------+--------------------+--------------------+------------------+-----------------+\n",
      "|Superintendência ...| Plataforma Web|    CO| GO|            Goiânia|   F|entre 31 a 40 anos|        2024|           1|   15/01/2024|         null|  31/01/2024| 16/01/2024|      2024-03-02|    09/02/2024|                  15|          null|             Saneago|   Agua e Saneamento|  Água, Energia, Gás|       Água e Esgoto|Cobrança / Contes...|Cobrança de tarif...|  Não comprei / con...|               S|         N|Finalizada não av...|        Não Avaliada|              null|     Improcedente|\n",
      "|Fundação de Prote...| Plataforma Web|    SE| SP|          São Paulo|   M|entre 31 a 40 anos|        2024|           1|   15/01/2024|   09/02/2024|  08/02/2024| 24/01/2024|      2024-03-01|    09/02/2024|                  15|            10|                Puma|Vestuário, Calçad...|     Demais Produtos|Vestuário e Artig...|   Atendimento / SAC|Dificuldade de co...|              Internet|               S|         S|Finalizada não av...|        Não Avaliada|              null|     Improcedente|\n",
      "|Superintendência ...| Plataforma Web|    CO| GO|            Goiânia|   M|entre 31 a 40 anos|        2024|           1|   15/01/2024|         null|  31/01/2024| 16/01/2024|      2024-03-02|    09/02/2024|                  15|          null|             Saneago|   Agua e Saneamento|  Água, Energia, Gás|       Água e Esgoto|Cobrança / Contes...|Cobrança de tarif...|              Telefone|               S|         N|Finalizada não av...|        Não Avaliada|              null|     Improcedente|\n",
      "|Programa Estadual...| Plataforma Web|    NE| PB|    Catolé do Rocha|   F|   mais de 70 anos|        2024|           1|   15/01/2024|   09/02/2024|  02/02/2024| 18/01/2024|      2024-03-01|    09/02/2024|                  15|            10|          Banco Pan |Bancos, Financeir...|Serviços Financeiros|Crédito Consignad...|Cobrança / Contes...|Cobrança por serv...|  Não comprei / con...|               N|         S|Finalizada não av...|        Não Avaliada|              null|     Improcedente|\n",
      "|Programa Estadual...| Plataforma Web|    NE| PB|    Catolé do Rocha|   F|   mais de 70 anos|        2024|           1|   15/01/2024|   09/02/2024|  02/02/2024| 18/01/2024|      2024-03-01|    09/02/2024|                  15|            10|           Banco Bmg|Bancos, Financeir...|Serviços Financeiros|Crédito Consignad...|Cobrança / Contes...|Cobrança por serv...|  Não comprei / con...|               N|         S|Finalizada não av...|        Não Avaliada|              null|     Improcedente|\n",
      "|Fundação de Prote...| Plataforma Web|    SE| SP|São José dos Campos|   F|entre 41 a 50 anos|        2024|           1|   15/01/2024|         null|  08/02/2024| 25/01/2024|      2024-03-01|    08/02/2024|                  14|          null|Magazine Luiza - ...|              Varejo|     Demais Produtos|   Móveis e Colchões|Cobrança / Contes...|Dificuldade / atr...|           Loja física|               S|         N|Finalizada não av...|        Não Avaliada|              null|     Improcedente|\n",
      "|Superintendência ...| Plataforma Web|    CO| GO|           Goiatuba|   F|entre 21 a 30 anos|        2024|           1|   16/01/2024|   09/02/2024|  31/01/2024| 17/01/2024|      2024-03-01|    09/02/2024|                  14|            10|Banco BV (antigo ...|Bancos, Financeir...|Serviços Financeiros|Crédito Pessoal e...|Cobrança / Contes...|Cobrança indevida...|              Internet|               S|         S|Finalizada não av...|        Não Avaliada|              null|     Improcedente|\n",
      "|Fundação de Prote...| Plataforma Web|    SE| SP|             Osasco|   F|entre 31 a 40 anos|        2024|           1|   16/01/2024|   09/02/2024|  05/02/2024| 22/01/2024|      2024-03-01|    09/02/2024|                  14|            10|   Vivo - Telefônica|Operadoras de Tel...|    Telecomunicações|Telefonia Móvel P...|Dados Pessoais e ...|Vazamento de dado...|              Telefone|               N|         S|Finalizada não av...|        Não Avaliada|              null|     Improcedente|\n",
      "|Fundação de Prote...| Plataforma Web|    SE| SP|    Itaquaquecetuba|   M|entre 21 a 30 anos|        2024|           1|   17/01/2024|   09/02/2024|  07/02/2024| 24/01/2024|      2024-03-01|    10/02/2024|                  14|             9|       Claro Celular|Operadoras de Tel...|    Telecomunicações|Telefonia Móvel P...|          Informação|Informações incom...|  Não comprei / con...|               S|         S|Finalizada não av...|        Não Avaliada|              null|     Improcedente|\n",
      "|Programa Estadual...| Plataforma Web|    NE| PB|        João Pessoa|   F|entre 41 a 50 anos|        2024|           1|   17/01/2024|   09/02/2024|  06/02/2024| 22/01/2024|      2024-03-01|    11/02/2024|                  15|             8|           Fast Shop|              Varejo|Produtos Eletrodo...|Refrigerador / fr...|   Atendimento / SAC|Dificuldade de co...|           Loja física|               S|         S|Finalizada não av...|        Não Avaliada|              null|     Improcedente|\n",
      "+--------------------+---------------+------+---+-------------------+----+------------------+------------+------------+-------------+-------------+------------+-----------+----------------+--------------+--------------------+--------------+--------------------+--------------------+--------------------+--------------------+--------------------+--------------------+----------------------+----------------+----------+--------------------+--------------------+------------------+-----------------+\n",
      "only showing top 10 rows\n",
      "\n"
     ]
    }
   ],
   "source": [
    "df.show(10)"
   ]
  },
  {
   "cell_type": "code",
   "execution_count": 2,
   "id": "605760ea-0058-4c65-979c-56b8fdca9e5a",
   "metadata": {
    "tags": []
   },
   "outputs": [],
   "source": [
    "anoMes = 202312"
   ]
  },
  {
   "cell_type": "code",
   "execution_count": 3,
   "id": "55dff20f-5a99-436d-a7b9-eff9cc7be7f6",
   "metadata": {
    "tags": []
   },
   "outputs": [],
   "source": [
    "def qualifyTypeColumn(df, columns, expressions, withColumn):\n",
    "    for column, expression in zip(columns, expressions):\n",
    "        if withColumn:\n",
    "            df = df.withColumn(column, expression)\n",
    "        else:\n",
    "            df = df.withColumnRenamed(column, expression)\n",
    "    return df"
   ]
  },
  {
   "cell_type": "code",
   "execution_count": null,
   "id": "f837e5a8-914f-4ace-8d73-95cf63f0a3bc",
   "metadata": {
    "tags": []
   },
   "outputs": [],
   "source": [
    "consumidor = spark.read.parquet(\"hdfs://namenode:9000/data/consumidor/landing/*.parquet\")"
   ]
  },
  {
   "cell_type": "code",
   "execution_count": 21,
   "id": "f6d263bd-201b-49d9-807a-acbbdad5d8cf",
   "metadata": {
    "tags": []
   },
   "outputs": [],
   "source": [
    "columns = ['dataAbertura', 'dataResposta', 'dataAnalise', 'dataRecusa', 'prazoResposta', 'procurouEmpresa', 'respondida']"
   ]
  },
  {
   "cell_type": "code",
   "execution_count": 23,
   "id": "8ebb8c72-9de1-453a-b9cb-5016067fe0a6",
   "metadata": {
    "tags": []
   },
   "outputs": [],
   "source": [
    "expressions = [ from_unixtime(unix_timestamp(col('dataAbertura'), 'dd/MM/yyyy')).cast(DateType())\n",
    "               , from_unixtime(unix_timestamp(col('dataResposta'), 'dd/MM/yyyy')).cast(DateType()) \n",
    "               , from_unixtime(unix_timestamp(col('dataAnalise'), 'dd/MM/yyyy')).cast(DateType()) \n",
    "               , from_unixtime(unix_timestamp(col('dataRecusa'), 'dd/MM/yyyy')).cast(DateType())               \n",
    "               , from_unixtime(unix_timestamp(col('prazoResposta'), 'dd/MM/yyyy')).cast(DateType())\n",
    "               , when(col('procurouEmpresa') == 'S', lit(1)).otherwise(lit(0)).cast(BooleanType())\n",
    "               , when(col('respondida') == 'S', lit(1)).otherwise(lit(0)).cast(BooleanType())\n",
    "              ]"
   ]
  },
  {
   "cell_type": "code",
   "execution_count": 26,
   "id": "5b57327a-be05-4e2d-941c-df8fa7025bdb",
   "metadata": {
    "tags": []
   },
   "outputs": [],
   "source": [
    "consumidor = qualifyTypeColumn(consumidor, columns, expressions, True)"
   ]
  },
  {
   "cell_type": "code",
   "execution_count": 29,
   "id": "1167571a-a1d0-456c-86a8-5270a5533f1f",
   "metadata": {
    "tags": []
   },
   "outputs": [
    {
     "name": "stderr",
     "output_type": "stream",
     "text": [
      "                                                                                \r"
     ]
    }
   ],
   "source": [
    "consumidor.write.partitionBy('datRefCarga').format(\"delta\").mode(\"append\").save(\"hdfs://namenode:9000/data/consumidor/bronze\")"
   ]
  },
  {
   "cell_type": "code",
   "execution_count": 4,
   "id": "fe7f0bc0-8ff0-4b95-a2c0-4efff0c270d2",
   "metadata": {},
   "outputs": [
    {
     "name": "stderr",
     "output_type": "stream",
     "text": [
      "                                                                                \r"
     ]
    }
   ],
   "source": [
    "df = spark.read.parquet(\"hdfs://namenode:9000/data/consumidor/bronze/\")"
   ]
  },
  {
   "cell_type": "code",
   "execution_count": 6,
   "id": "79e5c7a2",
   "metadata": {},
   "outputs": [
    {
     "name": "stdout",
     "output_type": "stream",
     "text": [
      "+------+\n",
      "|regiao|\n",
      "+------+\n",
      "|    NE|\n",
      "|    S |\n",
      "|    SE|\n",
      "|    N |\n",
      "|    CO|\n",
      "+------+\n",
      "\n"
     ]
    }
   ],
   "source": [
    "df.select('regiao').distinct().show()\n"
   ]
  },
  {
   "cell_type": "code",
   "execution_count": null,
   "id": "2135635b",
   "metadata": {},
   "outputs": [],
   "source": []
  }
 ],
 "metadata": {
  "kernelspec": {
   "display_name": "base",
   "language": "python",
   "name": "python3"
  },
  "language_info": {
   "codemirror_mode": {
    "name": "ipython",
    "version": 3
   },
   "file_extension": ".py",
   "mimetype": "text/x-python",
   "name": "python",
   "nbconvert_exporter": "python",
   "pygments_lexer": "ipython3",
   "version": "3.8.19"
  }
 },
 "nbformat": 4,
 "nbformat_minor": 5
}
