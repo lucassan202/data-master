{
 "cells": [
  {
   "cell_type": "code",
   "execution_count": 2,
   "id": "c89bfafd-17ba-4d92-8143-0fc5b6bb696b",
   "metadata": {
    "tags": []
   },
   "outputs": [
    {
     "name": "stderr",
     "output_type": "stream",
     "text": [
      "24/06/05 20:31:01 WARN Utils: Your hostname, besgam-Aspire-E1-471 resolves to a loopback address: 127.0.1.1; using 192.168.0.16 instead (on interface wlp9s0)\n",
      "24/06/05 20:31:01 WARN Utils: Set SPARK_LOCAL_IP if you need to bind to another address\n",
      "WARNING: An illegal reflective access operation has occurred\n",
      "WARNING: Illegal reflective access by org.apache.spark.unsafe.Platform (file:/home/besgam/anaconda3/lib/python3.8/site-packages/pyspark/jars/spark-unsafe_2.12-3.0.0.jar) to constructor java.nio.DirectByteBuffer(long,int)\n",
      "WARNING: Please consider reporting this to the maintainers of org.apache.spark.unsafe.Platform\n",
      "WARNING: Use --illegal-access=warn to enable warnings of further illegal reflective access operations\n",
      "WARNING: All illegal access operations will be denied in a future release\n",
      "24/06/05 20:31:02 WARN NativeCodeLoader: Unable to load native-hadoop library for your platform... using builtin-java classes where applicable\n",
      "Using Spark's default log4j profile: org/apache/spark/log4j-defaults.properties\n",
      "Setting default log level to \"WARN\".\n",
      "To adjust logging level use sc.setLogLevel(newLevel). For SparkR, use setLogLevel(newLevel).\n"
     ]
    }
   ],
   "source": [
    "from pyspark import SparkContext\n",
    "from pyspark.streaming import StreamingContext\n",
    "from pytrends.request import TrendReq\n",
    "\n",
    "# Create a local StreamingContext with two working thread and batch interval of 1 second\n",
    "sc = SparkContext(\"local[2]\", \"NetworkWordCount\")\n",
    "ssc = StreamingContext(sc, 10)"
   ]
  },
  {
   "cell_type": "code",
   "execution_count": 3,
   "id": "59296bd7-3c22-4e3b-a389-fd4a0a72f21d",
   "metadata": {
    "tags": []
   },
   "outputs": [],
   "source": [
    "pytrends = TrendReq(hl='pt-BR', tz=-300)"
   ]
  },
  {
   "cell_type": "code",
   "execution_count": 4,
   "id": "77657bd6-799f-400e-aedf-83381b96b565",
   "metadata": {
    "tags": []
   },
   "outputs": [],
   "source": [
    "kw_list = [\"Santander\"]\n",
    "pytrends.build_payload(kw_list, timeframe='now 1-H', geo='BR')"
   ]
  },
  {
   "cell_type": "code",
   "execution_count": 13,
   "id": "671f318f-27c5-4ee0-ba61-08422227f347",
   "metadata": {
    "tags": []
   },
   "outputs": [
    {
     "data": {
      "text/plain": [
       "'Santander'"
      ]
     },
     "execution_count": 13,
     "metadata": {},
     "output_type": "execute_result"
    }
   ],
   "source": [
    "kw_list[0]"
   ]
  },
  {
   "cell_type": "code",
   "execution_count": 8,
   "id": "ab628dab-0875-4607-9642-889f4976d4c1",
   "metadata": {
    "tags": []
   },
   "outputs": [],
   "source": [
    "df = pytrends.related_queries()"
   ]
  },
  {
   "cell_type": "code",
   "execution_count": 12,
   "id": "81f6bd80-9f01-4c22-a487-fffce4322a80",
   "metadata": {
    "tags": []
   },
   "outputs": [
    {
     "data": {
      "text/html": [
       "<div>\n",
       "<style scoped>\n",
       "    .dataframe tbody tr th:only-of-type {\n",
       "        vertical-align: middle;\n",
       "    }\n",
       "\n",
       "    .dataframe tbody tr th {\n",
       "        vertical-align: top;\n",
       "    }\n",
       "\n",
       "    .dataframe thead th {\n",
       "        text-align: right;\n",
       "    }\n",
       "</style>\n",
       "<table border=\"1\" class=\"dataframe\">\n",
       "  <thead>\n",
       "    <tr style=\"text-align: right;\">\n",
       "      <th></th>\n",
       "      <th>query</th>\n",
       "      <th>value</th>\n",
       "    </tr>\n",
       "  </thead>\n",
       "  <tbody>\n",
       "    <tr>\n",
       "      <th>0</th>\n",
       "      <td>banco santander</td>\n",
       "      <td>100</td>\n",
       "    </tr>\n",
       "    <tr>\n",
       "      <th>1</th>\n",
       "      <td>cartão santander</td>\n",
       "      <td>61</td>\n",
       "    </tr>\n",
       "    <tr>\n",
       "      <th>2</th>\n",
       "      <td>santander financiamentos</td>\n",
       "      <td>41</td>\n",
       "    </tr>\n",
       "    <tr>\n",
       "      <th>3</th>\n",
       "      <td>santander internet banking</td>\n",
       "      <td>37</td>\n",
       "    </tr>\n",
       "    <tr>\n",
       "      <th>4</th>\n",
       "      <td>santander banking</td>\n",
       "      <td>37</td>\n",
       "    </tr>\n",
       "    <tr>\n",
       "      <th>5</th>\n",
       "      <td>santander empresas</td>\n",
       "      <td>16</td>\n",
       "    </tr>\n",
       "    <tr>\n",
       "      <th>6</th>\n",
       "      <td>santander sx</td>\n",
       "      <td>10</td>\n",
       "    </tr>\n",
       "    <tr>\n",
       "      <th>7</th>\n",
       "      <td>consorcio santander</td>\n",
       "      <td>9</td>\n",
       "    </tr>\n",
       "    <tr>\n",
       "      <th>8</th>\n",
       "      <td>santander trabalhe conosco</td>\n",
       "      <td>5</td>\n",
       "    </tr>\n",
       "    <tr>\n",
       "      <th>9</th>\n",
       "      <td>serasa score</td>\n",
       "      <td>2</td>\n",
       "    </tr>\n",
       "  </tbody>\n",
       "</table>\n",
       "</div>"
      ],
      "text/plain": [
       "                        query  value\n",
       "0             banco santander    100\n",
       "1            cartão santander     61\n",
       "2    santander financiamentos     41\n",
       "3  santander internet banking     37\n",
       "4           santander banking     37\n",
       "5          santander empresas     16\n",
       "6                santander sx     10\n",
       "7         consorcio santander      9\n",
       "8  santander trabalhe conosco      5\n",
       "9                serasa score      2"
      ]
     },
     "execution_count": 12,
     "metadata": {},
     "output_type": "execute_result"
    }
   ],
   "source": [
    "df['Santander']['top']"
   ]
  },
  {
   "cell_type": "code",
   "execution_count": null,
   "id": "a73d5ce1-3698-44b3-a4d8-7e42f8e789ef",
   "metadata": {
    "tags": []
   },
   "outputs": [],
   "source": [
    "lines = ssc.socketTextStream()"
   ]
  },
  {
   "cell_type": "code",
   "execution_count": null,
   "id": "2f6f1563-9b05-4d4d-bd52-b5125153da99",
   "metadata": {
    "tags": []
   },
   "outputs": [],
   "source": [
    "lines.pprint()"
   ]
  },
  {
   "cell_type": "code",
   "execution_count": null,
   "id": "7981a052-17c3-4417-ab85-b23d89acf901",
   "metadata": {
    "tags": []
   },
   "outputs": [],
   "source": [
    "ssc.start()             # Start the computation\n",
    "ssc.awaitTermination()  # Wait for the computation to terminate"
   ]
  },
  {
   "cell_type": "code",
   "execution_count": null,
   "id": "cdb8357c-96f5-46c3-bac1-9f0df5032687",
   "metadata": {},
   "outputs": [],
   "source": []
  }
 ],
 "metadata": {
  "kernelspec": {
   "display_name": "Python 3 (ipykernel)",
   "language": "python",
   "name": "python3"
  },
  "language_info": {
   "codemirror_mode": {
    "name": "ipython",
    "version": 3
   },
   "file_extension": ".py",
   "mimetype": "text/x-python",
   "name": "python",
   "nbconvert_exporter": "python",
   "pygments_lexer": "ipython3",
   "version": "3.8.19"
  }
 },
 "nbformat": 4,
 "nbformat_minor": 5
}
