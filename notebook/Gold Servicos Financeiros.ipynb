{
 "cells": [
  {
   "cell_type": "code",
   "execution_count": 2,
   "id": "2b116e76-9b27-4f96-8093-91ccfd9d3054",
   "metadata": {
    "tags": []
   },
   "outputs": [],
   "source": [
    "from pyspark.sql import SparkSession\n",
    "from pyspark.sql.functions import *\n",
    "from pyspark.sql.types import *\n",
    "\n",
    "spark = SparkSession.builder.appName(\"Ingesta Gold\") \\\n",
    "    .master(\"spark://localhost:7077\")\\\n",
    "    .config(\"spark.sql.sources.partitionOverwriteMode\", \"dynamic\")\\\n",
    "    .config(\"hive.exec.dynamic.partition.mode\", \"nonstrict\") \\\n",
    "    .config(\"hive.metastore.uris\", \"thrift://localhost:9083\") \\\n",
    "    .enableHiveSupport() \\\n",
    "    .getOrCreate()"
   ]
  },
  {
   "cell_type": "code",
   "execution_count": 5,
   "id": "ca346fd9",
   "metadata": {},
   "outputs": [],
   "source": [
    "df = spark.read.parquet('hdfs://namenode:9000/data/consumidor/strem_reclamacoes/date_ingest=2024-10-21')"
   ]
  },
  {
   "cell_type": "code",
   "execution_count": 6,
   "id": "bebdf44b",
   "metadata": {},
   "outputs": [
    {
     "name": "stdout",
     "output_type": "stream",
     "text": [
      "+--------------------+-------------+-------------+------------+--------------+---+--------------------+--------------------+------+--------------------+\n",
      "|         nomeEmpresa|       status|tempoResposta|dataOcorrido|        Cidade| UF|              Relato|            Resposta|  Nota|          Comentario|\n",
      "+--------------------+-------------+-------------+------------+--------------+---+--------------------+--------------------+------+--------------------+\n",
      "|               Cemig|    Resolvido| no mesmo dia|  19/10/2024|Belo Horizonte| MG|Sou obrigado a pa...|Ola, Vania santos...|Nota 5|          Muito bom.|\n",
      "|               Cemig|    Resolvido| no mesmo dia|  19/10/2024|Belo Horizonte| MG|Olá tenho interes...|Olá Ana Paula, Bo...|Nota 5|<não há comentári...|\n",
      "|               Cemig|    Resolvido| no mesmo dia|  19/10/2024|       Ibirité| MG|Olá tenho interes...|Olá Gabriel, Bom ...|Nota 5|<não há comentári...|\n",
      "|               Cemig|    Resolvido| no mesmo dia|  19/10/2024|       Ibirité| MG|Olá tenho interes...|Olá Pablio, Bom d...|Nota 5|<não há comentári...|\n",
      "|Latam Airlines (Tam)|    Resolvido| no mesmo dia|  19/10/2024|        Tucumã| PA|Prezados, fiz a c...|Olá, Informamos q...|Nota 5|<não há comentári...|\n",
      "|               Cemig|    Resolvido| no mesmo dia|  19/10/2024|Belo Horizonte| MG|Olá, queria mais ...|Olá Vania, Bom di...|Nota 5|<não há comentári...|\n",
      "|               Cemig|    Resolvido| no mesmo dia|  19/10/2024|Belo Horizonte| MG|Qual a documentaç...|Olá, Vania Bom di...|Nota 5|<não há comentári...|\n",
      "|               Cemig|    Resolvido| no mesmo dia|  19/10/2024|Belo Horizonte| MG|Olá, queria mais ...|Olá Ana Paula, Bo...|Nota 5|<não há comentári...|\n",
      "|               Cemig|    Resolvido| no mesmo dia|  19/10/2024|       Ibirité| MG|Olá, queria mais ...|Olá Gabriel, Bom ...|Nota 5|<não há comentári...|\n",
      "|               Cemig|    Resolvido| no mesmo dia|  19/10/2024|       Ibirité| MG|Olá, queria mais ...|Olá Pablio, Bom d...|Nota 5|<não há comentári...|\n",
      "|        Águas do Rio|Não Resolvido|1 dias depois|  19/10/2024|        Maricá| RJ|De forma resumida...|Prezado Consumido...|Nota 1|Não houve qualque...|\n",
      "|     Serasa Experian|Não Resolvido|1 dias depois|  18/10/2024| Montes Claros| MG|Solicito limpeza ...|Oi, KAIO. Tudo be...|Nota 5|<não há comentári...|\n",
      "|     Serasa Experian|Não Resolvido|1 dias depois|  18/10/2024|         Cotia| SP|Meu nome foi cons...|Oi, Gabriel. Tudo...|Nota 1|Eles querem que e...|\n",
      "|Latam Airlines (Tam)|    Resolvido|1 dias depois|  18/10/2024|     São Paulo| SP|Prezados. Realiza...|Prezado Rodrigo, ...|Nota 5|<não há comentári...|\n",
      "| Hurb - Hotel Urbano|Não Resolvido|1 dias depois|  18/10/2024|     São Paulo| SP|Realizei a compra...|Olá, viajante! Tu...|Nota 1|Reclamação soment...|\n",
      "|     Serasa Experian|    Resolvido|1 dias depois|  18/10/2024|  Ponta Grossa| PR|Restrição do meu ...|Oi, ANDERSON. Tud...|Nota 5|<não há comentári...|\n",
      "|     Serasa Experian|Não Resolvido|1 dias depois|  18/10/2024|        Osasco| SP|Conforme, decisão...|Oi, DOUGLAS. Tudo...|Nota 1|Conforme, decisão...|\n",
      "| Hurb - Hotel Urbano|Não Resolvido|1 dias depois|  18/10/2024|      Contagem| MG|Venho por meio de...|Olá, viajante! Tu...|Nota 1|<não há comentári...|\n",
      "|                 Tim|    Resolvido|1 dias depois|  18/10/2024|     Nova Lima| MG|Contratei com a o...|Prezada Rogeria, ...|Nota 5|Esta avaliação co...|\n",
      "|     Serasa Experian|    Resolvido|1 dias depois|  18/10/2024|     Rio Verde| GO|Venho por meio de...|Oi, ADRIANO. Tudo...|Nota 5|Problema Resolvid...|\n",
      "+--------------------+-------------+-------------+------------+--------------+---+--------------------+--------------------+------+--------------------+\n",
      "only showing top 20 rows\n",
      "\n"
     ]
    }
   ],
   "source": [
    "df.show()"
   ]
  },
  {
   "cell_type": "code",
   "execution_count": 7,
   "id": "d66c30c0",
   "metadata": {},
   "outputs": [
    {
     "data": {
      "text/plain": [
       "50"
      ]
     },
     "execution_count": 7,
     "metadata": {},
     "output_type": "execute_result"
    }
   ],
   "source": [
    "df.count()"
   ]
  },
  {
   "cell_type": "code",
   "execution_count": 2,
   "id": "e1802247",
   "metadata": {},
   "outputs": [
    {
     "name": "stderr",
     "output_type": "stream",
     "text": [
      "                                                                                \r"
     ]
    }
   ],
   "source": [
    "df_delta = DeltaTable.forPath(spark, 'hdfs://namenode:9000/data/consumidor/silver')\n",
    "\n",
    "#df_delta.delete(f\"datRefCarga = '{partition}'\")"
   ]
  },
  {
   "cell_type": "code",
   "execution_count": 12,
   "id": "5d536446",
   "metadata": {},
   "outputs": [],
   "source": [
    "df_delta.delete(f\"datRefCarga = '2024-06'\")"
   ]
  },
  {
   "cell_type": "code",
   "execution_count": 2,
   "id": "71bc57d9",
   "metadata": {},
   "outputs": [
    {
     "name": "stderr",
     "output_type": "stream",
     "text": [
      "                                                                                \r"
     ]
    }
   ],
   "source": [
    "consumidor = spark.read.format('delta').load(\"hdfs://namenode:9000/data/consumidor/bronze/\")#.where(f\"datRefCarga={anoMes}\")"
   ]
  },
  {
   "cell_type": "code",
   "execution_count": null,
   "id": "668cef20",
   "metadata": {},
   "outputs": [],
   "source": [
    "consumidor"
   ]
  },
  {
   "cell_type": "code",
   "execution_count": 4,
   "id": "4f7511b2",
   "metadata": {},
   "outputs": [],
   "source": [
    "spark.conf.set(\"spark.sql.sources.partitionOverwriteMode\", \"dynamic\")\n",
    "spark.conf.set(\"hive.exec.dynamic.partition.mode\", \"nonstrict\")"
   ]
  },
  {
   "cell_type": "code",
   "execution_count": 2,
   "id": "4efae64f",
   "metadata": {},
   "outputs": [
    {
     "name": "stdout",
     "output_type": "stream",
     "text": [
      "+------------+\n",
      "|   namespace|\n",
      "+------------+\n",
      "|b_consumidor|\n",
      "|     default|\n",
      "|g_consumidor|\n",
      "|s_consumidor|\n",
      "+------------+\n",
      "\n"
     ]
    }
   ],
   "source": [
    "spark.sql(\"show databases\").show()"
   ]
  },
  {
   "cell_type": "code",
   "execution_count": 2,
   "id": "4ec49fec",
   "metadata": {},
   "outputs": [
    {
     "name": "stdout",
     "output_type": "stream",
     "text": [
      "+------------+----------+-----------+\n",
      "|database    |tableName |isTemporary|\n",
      "+------------+----------+-----------+\n",
      "|b_consumidor|consumidor|false      |\n",
      "+------------+----------+-----------+\n",
      "\n"
     ]
    }
   ],
   "source": [
    "spark.sql(\"show tables in b_consumidor\").show(10, False)"
   ]
  },
  {
   "cell_type": "code",
   "execution_count": 3,
   "id": "5732e0fc",
   "metadata": {},
   "outputs": [
    {
     "name": "stderr",
     "output_type": "stream",
     "text": [
      "24/10/08 19:37:25 WARN package: Truncated the string representation of a plan since it was too large. This behavior can be adjusted by setting 'spark.sql.debug.maxToStringFields'.\n",
      "24/10/08 19:37:26 WARN SessionState: METASTORE_FILTER_HOOK will be ignored, since hive.security.authorization.manager is set to instance of HiveAuthorizerFactory.\n"
     ]
    },
    {
     "name": "stdout",
     "output_type": "stream",
     "text": [
      "+------+-----------+------+---+------+----+-----------+-----------+-----------+------------+------------+-----------+----------+---------------+-------------+------------------+-------------+------------+---------------+----+-------+-------------+--------+-------------+---------------+----------+--------+-------------------+--------------+-------------+-----------+\n",
      "|gestor|canalorigem|regiao| uf|cidade|sexo|faixaetaria|anoabertura|mesabertura|dataabertura|dataresposta|dataanalise|datarecusa|datafinalizacao|prazoresposta|prazoanalisegestor|temporesposta|nomefantasia|segmentomercado|area|assunto|grupoproblema|problema|comocontratou|procurouempresa|respondida|situacao|avaliacaoreclamacao|notaconsumidor|analiserecusa|datrefcarga|\n",
      "+------+-----------+------+---+------+----+-----------+-----------+-----------+------------+------------+-----------+----------+---------------+-------------+------------------+-------------+------------+---------------+----+-------+-------------+--------+-------------+---------------+----------+--------+-------------------+--------------+-------------+-----------+\n",
      "+------+-----------+------+---+------+----+-----------+-----------+-----------+------------+------------+-----------+----------+---------------+-------------+------------------+-------------+------------+---------------+----+-------+-------------+--------+-------------+---------------+----------+--------+-------------------+--------------+-------------+-----------+\n",
      "\n"
     ]
    }
   ],
   "source": [
    "spark.sql(\"select * from b_consumidor.consumidor limit 10\").show()"
   ]
  },
  {
   "cell_type": "code",
   "execution_count": 63,
   "id": "a21d3e12-7b93-4589-a408-0d0798ee0829",
   "metadata": {
    "tags": []
   },
   "outputs": [],
   "source": [
    "anoMes = \"'2024-06'\""
   ]
  },
  {
   "cell_type": "code",
   "execution_count": 16,
   "id": "40a35d26-05db-4a0e-97bd-b6dd62b3e187",
   "metadata": {
    "tags": []
   },
   "outputs": [],
   "source": [
    "consumidor = spark.read.format('delta').load(\"hdfs://namenode:9000/data/consumidor/silver\").where(f\"datRefCarga={anoMes}\")"
   ]
  },
  {
   "cell_type": "code",
   "execution_count": 17,
   "id": "d5c82a6a",
   "metadata": {},
   "outputs": [],
   "source": [
    "consumidor = consumidor.groupBy(col('nomefantasia'), concat(lit('Brasil - '), col('uf')).alias('uf'), col('datRefCarga'))\\\n",
    "                                .agg(count(col('nomefantasia')).alias('qtdReclamcoesUf'))"
   ]
  },
  {
   "cell_type": "code",
   "execution_count": 19,
   "id": "560603bd",
   "metadata": {},
   "outputs": [
    {
     "name": "stderr",
     "output_type": "stream",
     "text": [
      "                                                                                \r"
     ]
    }
   ],
   "source": [
    "consumidor.write.partitionBy('datRefCarga').format(\"delta\").mode(\"append\").save(\"hdfs://namenode:9000/data/gold/reclamacaouf/\")"
   ]
  },
  {
   "cell_type": "code",
   "execution_count": 18,
   "id": "03cfee08",
   "metadata": {},
   "outputs": [
    {
     "name": "stderr",
     "output_type": "stream",
     "text": [
      "[Stage 13:==============>                                           (2 + 6) / 8]\r"
     ]
    },
    {
     "name": "stdout",
     "output_type": "stream",
     "text": [
      "+--------------------+-----------+-----------+---------------+\n",
      "|        nomefantasia|         uf|datRefCarga|qtdReclamcoesUf|\n",
      "+--------------------+-----------+-----------+---------------+\n",
      "|     Banco Santander|Brasil - MS|    2023-08|             32|\n",
      "|         Banco Modal|Brasil - PR|    2023-08|              5|\n",
      "|Banco Santander C...|Brasil - AC|    2023-08|              2|\n",
      "|         Banco Digio|Brasil - CE|    2023-10|             11|\n",
      "|     Banco do Brasil|Brasil - MT|    2023-10|             90|\n",
      "|           Banco PSA|Brasil - PR|    2023-10|              2|\n",
      "|         Banco Honda|Brasil - TO|    2023-10|              1|\n",
      "|         BancoSeguro|Brasil - SP|    2024-04|             10|\n",
      "|       Banco Crefisa|Brasil - CE|    2024-04|              2|\n",
      "|Banco Mercantil d...|Brasil - PE|    2024-04|              5|\n",
      "+--------------------+-----------+-----------+---------------+\n",
      "only showing top 10 rows\n",
      "\n"
     ]
    },
    {
     "name": "stderr",
     "output_type": "stream",
     "text": [
      "                                                                                \r"
     ]
    }
   ],
   "source": [
    "consumidor.show(10)"
   ]
  },
  {
   "cell_type": "code",
   "execution_count": 89,
   "id": "45566259-e0a7-4fdd-9642-de8a519d10fb",
   "metadata": {
    "tags": []
   },
   "outputs": [],
   "source": [
    "df =  consumidor.groupBy(col('nomefantasia'), col('datRefCarga'))\\\n",
    "          .agg(count(col('nomefantasia')).alias('qtdReclamcoes'))\\\n",
    "          .orderBy(col('qtdReclamcoes'), ascending=False)\\\n",
    "          .limit(10)"
   ]
  },
  {
   "cell_type": "code",
   "execution_count": 83,
   "id": "8bbad35e",
   "metadata": {},
   "outputs": [],
   "source": [
    "reclamacaotopten = DeltaTable.forPath(spark, \"hdfs://namenode:9000/data/gold/reclamacaotopten/\")"
   ]
  },
  {
   "cell_type": "code",
   "execution_count": 93,
   "id": "98a0f88a",
   "metadata": {},
   "outputs": [
    {
     "data": {
      "text/plain": [
       "\"'2024-06'\""
      ]
     },
     "execution_count": 93,
     "metadata": {},
     "output_type": "execute_result"
    }
   ],
   "source": [
    "anoMes"
   ]
  },
  {
   "cell_type": "code",
   "execution_count": 92,
   "id": "5f7f80ee",
   "metadata": {},
   "outputs": [],
   "source": [
    "reclamacaotopten.delete(\"datRefCarga = '{anoMes}'\")"
   ]
  },
  {
   "cell_type": "code",
   "execution_count": 91,
   "id": "46db7895-a94e-4800-bb94-55b2df18fb76",
   "metadata": {},
   "outputs": [],
   "source": [
    "df.write.partitionBy('datRefCarga').format(\"delta\").mode(\"append\").save(\"hdfs://namenode:9000/data/gold/reclamacaotopten/\")"
   ]
  },
  {
   "cell_type": "code",
   "execution_count": 11,
   "id": "e0bd1aa7-eb63-4749-a938-b6706b77cf58",
   "metadata": {
    "tags": []
   },
   "outputs": [],
   "source": [
    "df = consumidor.groupBy(col('nomefantasia'), col('grupoProblema'),col('datRefCarga'))\\\n",
    "          .agg(count(col('nomefantasia')).alias('qtdReclamcoes'))"
   ]
  },
  {
   "cell_type": "code",
   "execution_count": 12,
   "id": "b13965c6-3f56-44a6-8dc7-5b423ca0c328",
   "metadata": {
    "tags": []
   },
   "outputs": [
    {
     "name": "stderr",
     "output_type": "stream",
     "text": [
      "                                                                                \r"
     ]
    }
   ],
   "source": [
    "df.write.partitionBy('datRefCarga').format(\"delta\").mode(\"append\").save(\"hdfs://namenode:9000/data/gold/grupoproblema/\")"
   ]
  },
  {
   "cell_type": "code",
   "execution_count": 94,
   "id": "35b9469a-4688-4309-b57f-20ab7b083406",
   "metadata": {},
   "outputs": [],
   "source": [
    "consumidor = spark.read.format('delta').load(\"hdfs://namenode:9000/data/gold/reclamacaotopten/\").where(f\"datRefCarga={anoMes}\")"
   ]
  },
  {
   "cell_type": "code",
   "execution_count": 95,
   "id": "8ccb84cf",
   "metadata": {},
   "outputs": [
    {
     "name": "stdout",
     "output_type": "stream",
     "text": [
      "+--------------------+-----------+-------------+\n",
      "|        nomefantasia|datRefCarga|qtdReclamcoes|\n",
      "+--------------------+-----------+-------------+\n",
      "|          Banco Pan |    2024-06|         1208|\n",
      "|           Banco Bmg|    2024-06|         1080|\n",
      "|     Banco Santander|    2024-06|          988|\n",
      "|     Banco do Brasil|    2024-06|          886|\n",
      "| Banco Itaú Unibanco|    2024-06|          672|\n",
      "|      Banco Bradesco|    2024-06|          655|\n",
      "|Banco BV (antigo ...|    2024-06|          462|\n",
      "|Banco Inter (Banc...|    2024-06|          428|\n",
      "|      Banco Daycoval|    2024-06|          281|\n",
      "|Banco C6 Consigna...|    2024-06|          264|\n",
      "+--------------------+-----------+-------------+\n",
      "\n"
     ]
    },
    {
     "name": "stderr",
     "output_type": "stream",
     "text": [
      "24/08/08 20:38:23 ERROR StandaloneSchedulerBackend: Application has been killed. Reason: Master removed our application: KILLED\n",
      "24/08/08 20:38:23 ERROR Inbox: Ignoring error\n",
      "org.apache.spark.SparkException: Exiting due to error from cluster scheduler: Master removed our application: KILLED\n",
      "\tat org.apache.spark.scheduler.TaskSchedulerImpl.error(TaskSchedulerImpl.scala:716)\n",
      "\tat org.apache.spark.scheduler.cluster.StandaloneSchedulerBackend.dead(StandaloneSchedulerBackend.scala:152)\n",
      "\tat org.apache.spark.deploy.client.StandaloneAppClient$ClientEndpoint.markDead(StandaloneAppClient.scala:258)\n",
      "\tat org.apache.spark.deploy.client.StandaloneAppClient$ClientEndpoint$$anonfun$receive$1.applyOrElse(StandaloneAppClient.scala:168)\n",
      "\tat org.apache.spark.rpc.netty.Inbox.$anonfun$process$1(Inbox.scala:115)\n",
      "\tat org.apache.spark.rpc.netty.Inbox.safelyCall(Inbox.scala:203)\n",
      "\tat org.apache.spark.rpc.netty.Inbox.process(Inbox.scala:100)\n",
      "\tat org.apache.spark.rpc.netty.MessageLoop.org$apache$spark$rpc$netty$MessageLoop$$receiveLoop(MessageLoop.scala:75)\n",
      "\tat org.apache.spark.rpc.netty.MessageLoop$$anon$1.run(MessageLoop.scala:41)\n",
      "\tat java.base/java.util.concurrent.ThreadPoolExecutor.runWorker(ThreadPoolExecutor.java:1128)\n",
      "\tat java.base/java.util.concurrent.ThreadPoolExecutor$Worker.run(ThreadPoolExecutor.java:628)\n",
      "\tat java.base/java.lang.Thread.run(Thread.java:829)\n"
     ]
    }
   ],
   "source": [
    "consumidor.show()"
   ]
  },
  {
   "cell_type": "code",
   "execution_count": null,
   "id": "5fac08b9",
   "metadata": {},
   "outputs": [],
   "source": []
  }
 ],
 "metadata": {
  "kernelspec": {
   "display_name": "data-master",
   "language": "python",
   "name": "python3"
  },
  "language_info": {
   "codemirror_mode": {
    "name": "ipython",
    "version": 3
   },
   "file_extension": ".py",
   "mimetype": "text/x-python",
   "name": "python",
   "nbconvert_exporter": "python",
   "pygments_lexer": "ipython3",
   "version": "3.7.16"
  }
 },
 "nbformat": 4,
 "nbformat_minor": 5
}
