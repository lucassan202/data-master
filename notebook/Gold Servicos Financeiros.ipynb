{
 "cells": [
  {
   "cell_type": "code",
   "execution_count": 1,
   "id": "2b116e76-9b27-4f96-8093-91ccfd9d3054",
   "metadata": {
    "tags": []
   },
   "outputs": [
    {
     "name": "stderr",
     "output_type": "stream",
     "text": [
      "Warning: Ignoring non-Spark config property: hive.exe.dynamic.partition.mode\n",
      "24/07/04 21:29:59 WARN Utils: Your hostname, besgam-Aspire-E1-471 resolves to a loopback address: 127.0.1.1; using 192.168.0.16 instead (on interface wlp9s0)\n",
      "24/07/04 21:29:59 WARN Utils: Set SPARK_LOCAL_IP if you need to bind to another address\n",
      "WARNING: An illegal reflective access operation has occurred\n",
      "WARNING: Illegal reflective access by org.apache.spark.unsafe.Platform (file:/home/besgam/anaconda3/lib/python3.8/site-packages/pyspark/jars/spark-unsafe_2.12-3.0.0.jar) to constructor java.nio.DirectByteBuffer(long,int)\n",
      "WARNING: Please consider reporting this to the maintainers of org.apache.spark.unsafe.Platform\n",
      "WARNING: Use --illegal-access=warn to enable warnings of further illegal reflective access operations\n",
      "WARNING: All illegal access operations will be denied in a future release\n",
      "Ivy Default Cache set to: /home/besgam/.ivy2/cache\n",
      "The jars for the packages stored in: /home/besgam/.ivy2/jars\n",
      ":: loading settings :: url = jar:file:/home/besgam/anaconda3/lib/python3.8/site-packages/pyspark/jars/ivy-2.4.0.jar!/org/apache/ivy/core/settings/ivysettings.xml\n",
      "io.delta#delta-core_2.12 added as a dependency\n",
      ":: resolving dependencies :: org.apache.spark#spark-submit-parent-13ee751a-617a-442d-848a-e39986336c84;1.0\n",
      "\tconfs: [default]\n",
      "\tfound io.delta#delta-core_2.12;0.8.0 in central\n",
      "\tfound org.antlr#antlr4;4.7 in central\n",
      "\tfound org.antlr#antlr4-runtime;4.7 in central\n",
      "\tfound org.antlr#antlr-runtime;3.5.2 in central\n",
      "\tfound org.antlr#ST4;4.0.8 in central\n",
      "\tfound org.abego.treelayout#org.abego.treelayout.core;1.0.3 in central\n",
      "\tfound org.glassfish#javax.json;1.0.4 in central\n",
      "\tfound com.ibm.icu#icu4j;58.2 in central\n",
      ":: resolution report :: resolve 561ms :: artifacts dl 18ms\n",
      "\t:: modules in use:\n",
      "\tcom.ibm.icu#icu4j;58.2 from central in [default]\n",
      "\tio.delta#delta-core_2.12;0.8.0 from central in [default]\n",
      "\torg.abego.treelayout#org.abego.treelayout.core;1.0.3 from central in [default]\n",
      "\torg.antlr#ST4;4.0.8 from central in [default]\n",
      "\torg.antlr#antlr-runtime;3.5.2 from central in [default]\n",
      "\torg.antlr#antlr4;4.7 from central in [default]\n",
      "\torg.antlr#antlr4-runtime;4.7 from central in [default]\n",
      "\torg.glassfish#javax.json;1.0.4 from central in [default]\n",
      "\t---------------------------------------------------------------------\n",
      "\t|                  |            modules            ||   artifacts   |\n",
      "\t|       conf       | number| search|dwnlded|evicted|| number|dwnlded|\n",
      "\t---------------------------------------------------------------------\n",
      "\t|      default     |   8   |   0   |   0   |   0   ||   8   |   0   |\n",
      "\t---------------------------------------------------------------------\n",
      ":: retrieving :: org.apache.spark#spark-submit-parent-13ee751a-617a-442d-848a-e39986336c84\n",
      "\tconfs: [default]\n",
      "\t0 artifacts copied, 8 already retrieved (0kB/11ms)\n",
      "24/07/04 21:30:01 WARN NativeCodeLoader: Unable to load native-hadoop library for your platform... using builtin-java classes where applicable\n",
      "Using Spark's default log4j profile: org/apache/spark/log4j-defaults.properties\n",
      "Setting default log level to \"WARN\".\n",
      "To adjust logging level use sc.setLogLevel(newLevel). For SparkR, use setLogLevel(newLevel).\n",
      "24/07/04 21:30:02 WARN Utils: Service 'SparkUI' could not bind on port 4040. Attempting port 4041.\n"
     ]
    }
   ],
   "source": [
    "from pyspark.sql import SparkSession\n",
    "from pyspark.sql.functions import *\n",
    "from pyspark.sql.types import *\n",
    "\n",
    "spark = SparkSession.builder.appName(\"Ingesta Gold\") \\\n",
    "    .master(\"spark://localhost:7077\")\\\n",
    "    .config(\"spark.jars.packages\", \"io.delta:delta-core_2.12:0.8.0\") \\\n",
    "    .config(\"spark.sql.extensions\", \"io.delta.sql.DeltaSparkSessionExtension\") \\\n",
    "    .config(\"spark.sql.catalog.spark_catalog\", \"org.apache.spark.sql.delta.catalog.DeltaCatalog\") \\\n",
    "    .config(\"spark.sql.sources.partitionOverwriteMode\", \"dynamic\")\\\n",
    "    .config(\"hive.exe.dynamic.partition.mode\", \"nonstrict\") \\\n",
    "    .getOrCreate()\n",
    "\n",
    "from delta.tables import *"
   ]
  },
  {
   "cell_type": "code",
   "execution_count": 22,
   "id": "a21d3e12-7b93-4589-a408-0d0798ee0829",
   "metadata": {
    "tags": []
   },
   "outputs": [],
   "source": [
    "anoMes = \"'2023-12'\""
   ]
  },
  {
   "cell_type": "code",
   "execution_count": 26,
   "id": "40a35d26-05db-4a0e-97bd-b6dd62b3e187",
   "metadata": {
    "tags": []
   },
   "outputs": [],
   "source": [
    "consumidor = spark.read.format('delta').load(\"hdfs://namenode:9000/data/consumidor/silver\").where(f\"datRefCarga={anoMes}\")"
   ]
  },
  {
   "cell_type": "code",
   "execution_count": 24,
   "id": "45566259-e0a7-4fdd-9642-de8a519d10fb",
   "metadata": {
    "tags": []
   },
   "outputs": [],
   "source": [
    "df = consumidor.groupBy(col('nomefantasia'), col('datRefCarga'))\\\n",
    "          .agg(count(col('nomefantasia')).alias('qtdReclamcoes'))\\\n",
    "          .orderBy(col('qtdReclamcoes'), ascending=False)\\\n",
    "          .limit(10)"
   ]
  },
  {
   "cell_type": "code",
   "execution_count": 25,
   "id": "46db7895-a94e-4800-bb94-55b2df18fb76",
   "metadata": {},
   "outputs": [
    {
     "name": "stderr",
     "output_type": "stream",
     "text": [
      "                                                                                \r"
     ]
    }
   ],
   "source": [
    "df.write.partitionBy('datRefCarga').format(\"delta\").mode(\"append\").save(\"hdfs://namenode:9000/data/gold/reclamacaotopten/\")"
   ]
  },
  {
   "cell_type": "code",
   "execution_count": 27,
   "id": "e0bd1aa7-eb63-4749-a938-b6706b77cf58",
   "metadata": {
    "tags": []
   },
   "outputs": [],
   "source": [
    "df = consumidor.groupBy(col('nomefantasia'), col('grupoProblema'),col('datRefCarga'))\\\n",
    "          .agg(count(col('nomefantasia')).alias('qtdReclamcoes'))"
   ]
  },
  {
   "cell_type": "code",
   "execution_count": 28,
   "id": "b13965c6-3f56-44a6-8dc7-5b423ca0c328",
   "metadata": {
    "tags": []
   },
   "outputs": [
    {
     "name": "stderr",
     "output_type": "stream",
     "text": [
      "                                                                                \r"
     ]
    }
   ],
   "source": [
    "df.write.partitionBy('datRefCarga').format(\"delta\").mode(\"append\").save(\"hdfs://namenode:9000/data/gold/grupoproblema/\")"
   ]
  },
  {
   "cell_type": "code",
   "execution_count": null,
   "id": "35b9469a-4688-4309-b57f-20ab7b083406",
   "metadata": {},
   "outputs": [],
   "source": []
  }
 ],
 "metadata": {
  "kernelspec": {
   "display_name": "Python 3 (ipykernel)",
   "language": "python",
   "name": "python3"
  },
  "language_info": {
   "codemirror_mode": {
    "name": "ipython",
    "version": 3
   },
   "file_extension": ".py",
   "mimetype": "text/x-python",
   "name": "python",
   "nbconvert_exporter": "python",
   "pygments_lexer": "ipython3",
   "version": "3.8.19"
  }
 },
 "nbformat": 4,
 "nbformat_minor": 5
}
