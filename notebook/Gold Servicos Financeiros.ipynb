{
 "cells": [
  {
   "cell_type": "code",
   "execution_count": 1,
   "id": "2b116e76-9b27-4f96-8093-91ccfd9d3054",
   "metadata": {
    "tags": []
   },
   "outputs": [
    {
     "name": "stderr",
     "output_type": "stream",
     "text": [
      "24/10/25 12:26:43 WARN Utils: Your hostname, besgam-Aspire-E1-471 resolves to a loopback address: 127.0.1.1; using 192.168.0.21 instead (on interface wlp9s0)\n",
      "24/10/25 12:26:43 WARN Utils: Set SPARK_LOCAL_IP if you need to bind to another address\n",
      "WARNING: An illegal reflective access operation has occurred\n",
      "WARNING: Illegal reflective access by org.apache.spark.unsafe.Platform (file:/home/besgam/anaconda3/lib/python3.8/site-packages/pyspark/jars/spark-unsafe_2.12-3.0.0.jar) to constructor java.nio.DirectByteBuffer(long,int)\n",
      "WARNING: Please consider reporting this to the maintainers of org.apache.spark.unsafe.Platform\n",
      "WARNING: Use --illegal-access=warn to enable warnings of further illegal reflective access operations\n",
      "WARNING: All illegal access operations will be denied in a future release\n",
      "24/10/25 12:26:44 WARN NativeCodeLoader: Unable to load native-hadoop library for your platform... using builtin-java classes where applicable\n",
      "Using Spark's default log4j profile: org/apache/spark/log4j-defaults.properties\n",
      "Setting default log level to \"WARN\".\n",
      "To adjust logging level use sc.setLogLevel(newLevel). For SparkR, use setLogLevel(newLevel).\n"
     ]
    }
   ],
   "source": [
    "from pyspark.sql import SparkSession\n",
    "from pyspark.sql.functions import *\n",
    "from pyspark.sql.types import *\n",
    "\n",
    "spark = SparkSession.builder.appName(\"Ingesta Gold\") \\\n",
    "    .master(\"spark://localhost:7077\")\\\n",
    "    .getOrCreate()"
   ]
  },
  {
   "cell_type": "code",
   "execution_count": 2,
   "id": "ca346fd9",
   "metadata": {},
   "outputs": [
    {
     "name": "stderr",
     "output_type": "stream",
     "text": [
      "                                                                                \r"
     ]
    }
   ],
   "source": [
    "df = spark.read.parquet('hdfs://namenode:9000/data/consumidor/strem_reclamacoes/date_ingest=2024-10-25')"
   ]
  },
  {
   "cell_type": "code",
   "execution_count": 4,
   "id": "bebdf44b",
   "metadata": {},
   "outputs": [
    {
     "name": "stdout",
     "output_type": "stream",
     "text": [
      "+--------------------+-------------+-------------+------------+------------------+---+--------------------+--------------------+------+--------------------+\n",
      "|         nomeEmpresa|       status|tempoResposta|dataOcorrido|            Cidade| UF|              Relato|            Resposta|  Nota|          Comentario|\n",
      "+--------------------+-------------+-------------+------------+------------------+---+--------------------+--------------------+------+--------------------+\n",
      "|        Casa & Vídeo|Não Resolvido| no mesmo dia|  24/10/2024|    Rio de Janeiro| RJ|Fiz o pedido de u...|Boa tarde, Carlos...|Nota 3|<não há comentári...|\n",
      "|     Serasa Experian|Não Resolvido| no mesmo dia|  24/10/2024|    Belo Horizonte| MG|Eles exibem minha...|Oi, LUCAS. Tudo b...|Nota 1|Não resolveram na...|\n",
      "|Latam Airlines (Tam)|    Resolvido| no mesmo dia|  24/10/2024|        Imperatriz| MA|Prezado(a), como ...|Olá, Informamos q...|Nota 5|Tudo resolvido!! ...|\n",
      "|Equatorial Maranh...|    Resolvido| no mesmo dia|  24/10/2024|          São Luís| MA|A unidade 3015744...|Prezada Sra. Cons...|Nota 1|Embora resolvido ...|\n",
      "|     Serasa Experian|    Resolvido| no mesmo dia|  24/10/2024|         São Paulo| SP|Estou sendo cobra...|Oi, Cleber. Tudo ...|Nota 5|Excelente atendim...|\n",
      "|     Serasa Experian|Não Resolvido| no mesmo dia|  24/10/2024|São João de Meriti| RJ|Retirar meu nome ...|Oi, MARCELO. Tudo...|Nota 1|Boa tarde Não fui...|\n",
      "|     Serasa Experian|    Resolvido| no mesmo dia|  24/10/2024|  São José da Lapa| MG|Em (data) verifiq...|Oi, LORRAN. Tudo ...|Nota 5|<não há comentári...|\n",
      "|     Serasa Experian|Não Resolvido| no mesmo dia|  24/10/2024|           Lucélia| SP|LEMBRANDO NOVAMEN...|Oi, Alexandre. Tu...|Nota 1|Continua a 85% se...|\n",
      "|Fundação Habitaci...|Não Resolvido| no mesmo dia|  24/10/2024|             Caicó| RN|Senhores, peço aj...|Brasília-DF, 24 d...|Nota 1|<não há comentári...|\n",
      "|     Serasa Experian|Não Resolvido| no mesmo dia|  24/10/2024|             Belém| PA|SOLICITO A RETIRT...|Oi, RAIMUNDO. Tud...|Nota 2|<não há comentári...|\n",
      "|          Air Europa|Não Resolvido| no mesmo dia|  24/10/2024|         Nova Lima| MG|Gostaria de manif...|Olá João Paulo Me...|Nota 1|Estou extremament...|\n",
      "|               Cemig|    Resolvido| no mesmo dia|  24/10/2024|          Contagem| MG|Onde posso solici...|Olá Marcos, Boa t...|Nota 5|<não há comentári...|\n",
      "|               Cemig|    Resolvido| no mesmo dia|  24/10/2024|          Contagem| MG|Qual a documentaç...|Olá, Marcos Bom d...|Nota 5|<não há comentári...|\n",
      "|            Creditas|    Resolvido| no mesmo dia|  24/10/2024|         São Paulo| SP|Tenho um contrato...|Olá, boa tarde! S...|Nota 1|Juros imposto é m...|\n",
      "|               Cemig|    Resolvido| no mesmo dia|  24/10/2024|          Contagem| MG|Como faço o reset...|Olá, Marcos! Bom ...|Nota 5|<não há comentári...|\n",
      "| Hurb - Hotel Urbano|Não Resolvido| no mesmo dia|  24/10/2024|         São Paulo| SP|Fiz a compra de u...|Olá Viajante, tud...|Nota 1|A resposta do HOT...|\n",
      "|               Cemig|    Resolvido| no mesmo dia|  24/10/2024|          Contagem| MG|Estou sendo cobra...|Olá Marcos, Bom d...|Nota 5|<não há comentári...|\n",
      "|               Cemig|    Resolvido| no mesmo dia|  24/10/2024|    Belo Horizonte| MG|Estou sem acesso ...|Olá, Vania! Bom d...|Nota 5|<não há comentári...|\n",
      "|        Banco Semear|    Resolvido| no mesmo dia|  24/10/2024|          Mongaguá| SP|Nao foi eu que so...|Oi, Danielly, boa...|Nota 2|mara era essa emp...|\n",
      "|     Giga Mais Fibra|    Resolvido| no mesmo dia|  24/10/2024|          Brasília| DF|Eu contratei a gi...|Prezado Alexandre...|Nota 4|O senhor Josué en...|\n",
      "+--------------------+-------------+-------------+------------+------------------+---+--------------------+--------------------+------+--------------------+\n",
      "only showing top 20 rows\n",
      "\n"
     ]
    }
   ],
   "source": [
    "df.show()"
   ]
  },
  {
   "cell_type": "code",
   "execution_count": 5,
   "id": "d66c30c0",
   "metadata": {},
   "outputs": [
    {
     "data": {
      "text/plain": [
       "110"
      ]
     },
     "execution_count": 5,
     "metadata": {},
     "output_type": "execute_result"
    }
   ],
   "source": [
    "df.count()"
   ]
  },
  {
   "cell_type": "code",
   "execution_count": 8,
   "id": "fb6b64b1",
   "metadata": {},
   "outputs": [
    {
     "name": "stdout",
     "output_type": "stream",
     "text": [
      "root\n",
      " |-- nomeEmpresa: string (nullable = true)\n",
      " |-- status: string (nullable = true)\n",
      " |-- tempoResposta: string (nullable = true)\n",
      " |-- dataOcorrido: string (nullable = true)\n",
      " |-- Cidade: string (nullable = true)\n",
      " |-- UF: string (nullable = true)\n",
      " |-- Relato: string (nullable = true)\n",
      " |-- Resposta: string (nullable = true)\n",
      " |-- Nota: string (nullable = true)\n",
      " |-- Comentario: string (nullable = true)\n",
      " |-- date_ingest: date (nullable = true)\n",
      "\n"
     ]
    }
   ],
   "source": [
    "df.printSchema()"
   ]
  },
  {
   "cell_type": "code",
   "execution_count": 2,
   "id": "e1802247",
   "metadata": {},
   "outputs": [
    {
     "name": "stderr",
     "output_type": "stream",
     "text": [
      "                                                                                \r"
     ]
    }
   ],
   "source": [
    "df_delta = DeltaTable.forPath(spark, 'hdfs://namenode:9000/data/consumidor/silver')\n",
    "\n",
    "#df_delta.delete(f\"datRefCarga = '{partition}'\")"
   ]
  },
  {
   "cell_type": "code",
   "execution_count": 12,
   "id": "5d536446",
   "metadata": {},
   "outputs": [],
   "source": [
    "df_delta.delete(f\"datRefCarga = '2024-06'\")"
   ]
  },
  {
   "cell_type": "code",
   "execution_count": 2,
   "id": "71bc57d9",
   "metadata": {},
   "outputs": [
    {
     "name": "stderr",
     "output_type": "stream",
     "text": [
      "                                                                                \r"
     ]
    }
   ],
   "source": [
    "consumidor = spark.read.format('delta').load(\"hdfs://namenode:9000/data/consumidor/bronze/\")#.where(f\"datRefCarga={anoMes}\")"
   ]
  },
  {
   "cell_type": "code",
   "execution_count": null,
   "id": "668cef20",
   "metadata": {},
   "outputs": [],
   "source": [
    "consumidor"
   ]
  },
  {
   "cell_type": "code",
   "execution_count": 4,
   "id": "4f7511b2",
   "metadata": {},
   "outputs": [],
   "source": [
    "spark.conf.set(\"spark.sql.sources.partitionOverwriteMode\", \"dynamic\")\n",
    "spark.conf.set(\"hive.exec.dynamic.partition.mode\", \"nonstrict\")"
   ]
  },
  {
   "cell_type": "code",
   "execution_count": 2,
   "id": "4efae64f",
   "metadata": {},
   "outputs": [
    {
     "name": "stdout",
     "output_type": "stream",
     "text": [
      "+------------+\n",
      "|   namespace|\n",
      "+------------+\n",
      "|b_consumidor|\n",
      "|     default|\n",
      "|g_consumidor|\n",
      "|s_consumidor|\n",
      "+------------+\n",
      "\n"
     ]
    }
   ],
   "source": [
    "spark.sql(\"show databases\").show()"
   ]
  },
  {
   "cell_type": "code",
   "execution_count": 2,
   "id": "4ec49fec",
   "metadata": {},
   "outputs": [
    {
     "name": "stdout",
     "output_type": "stream",
     "text": [
      "+------------+----------+-----------+\n",
      "|database    |tableName |isTemporary|\n",
      "+------------+----------+-----------+\n",
      "|b_consumidor|consumidor|false      |\n",
      "+------------+----------+-----------+\n",
      "\n"
     ]
    }
   ],
   "source": [
    "spark.sql(\"show tables in b_consumidor\").show(10, False)"
   ]
  },
  {
   "cell_type": "code",
   "execution_count": 3,
   "id": "5732e0fc",
   "metadata": {},
   "outputs": [
    {
     "name": "stderr",
     "output_type": "stream",
     "text": [
      "24/10/08 19:37:25 WARN package: Truncated the string representation of a plan since it was too large. This behavior can be adjusted by setting 'spark.sql.debug.maxToStringFields'.\n",
      "24/10/08 19:37:26 WARN SessionState: METASTORE_FILTER_HOOK will be ignored, since hive.security.authorization.manager is set to instance of HiveAuthorizerFactory.\n"
     ]
    },
    {
     "name": "stdout",
     "output_type": "stream",
     "text": [
      "+------+-----------+------+---+------+----+-----------+-----------+-----------+------------+------------+-----------+----------+---------------+-------------+------------------+-------------+------------+---------------+----+-------+-------------+--------+-------------+---------------+----------+--------+-------------------+--------------+-------------+-----------+\n",
      "|gestor|canalorigem|regiao| uf|cidade|sexo|faixaetaria|anoabertura|mesabertura|dataabertura|dataresposta|dataanalise|datarecusa|datafinalizacao|prazoresposta|prazoanalisegestor|temporesposta|nomefantasia|segmentomercado|area|assunto|grupoproblema|problema|comocontratou|procurouempresa|respondida|situacao|avaliacaoreclamacao|notaconsumidor|analiserecusa|datrefcarga|\n",
      "+------+-----------+------+---+------+----+-----------+-----------+-----------+------------+------------+-----------+----------+---------------+-------------+------------------+-------------+------------+---------------+----+-------+-------------+--------+-------------+---------------+----------+--------+-------------------+--------------+-------------+-----------+\n",
      "+------+-----------+------+---+------+----+-----------+-----------+-----------+------------+------------+-----------+----------+---------------+-------------+------------------+-------------+------------+---------------+----+-------+-------------+--------+-------------+---------------+----------+--------+-------------------+--------------+-------------+-----------+\n",
      "\n"
     ]
    }
   ],
   "source": [
    "spark.sql(\"select * from b_consumidor.consumidor limit 10\").show()"
   ]
  },
  {
   "cell_type": "code",
   "execution_count": 63,
   "id": "a21d3e12-7b93-4589-a408-0d0798ee0829",
   "metadata": {
    "tags": []
   },
   "outputs": [],
   "source": [
    "anoMes = \"'2024-06'\""
   ]
  },
  {
   "cell_type": "code",
   "execution_count": 16,
   "id": "40a35d26-05db-4a0e-97bd-b6dd62b3e187",
   "metadata": {
    "tags": []
   },
   "outputs": [],
   "source": [
    "consumidor = spark.read.format('delta').load(\"hdfs://namenode:9000/data/consumidor/silver\").where(f\"datRefCarga={anoMes}\")"
   ]
  },
  {
   "cell_type": "code",
   "execution_count": 17,
   "id": "d5c82a6a",
   "metadata": {},
   "outputs": [],
   "source": [
    "consumidor = consumidor.groupBy(col('nomefantasia'), concat(lit('Brasil - '), col('uf')).alias('uf'), col('datRefCarga'))\\\n",
    "                                .agg(count(col('nomefantasia')).alias('qtdReclamcoesUf'))"
   ]
  },
  {
   "cell_type": "code",
   "execution_count": 19,
   "id": "560603bd",
   "metadata": {},
   "outputs": [
    {
     "name": "stderr",
     "output_type": "stream",
     "text": [
      "                                                                                \r"
     ]
    }
   ],
   "source": [
    "consumidor.write.partitionBy('datRefCarga').format(\"delta\").mode(\"append\").save(\"hdfs://namenode:9000/data/gold/reclamacaouf/\")"
   ]
  },
  {
   "cell_type": "code",
   "execution_count": 18,
   "id": "03cfee08",
   "metadata": {},
   "outputs": [
    {
     "name": "stderr",
     "output_type": "stream",
     "text": [
      "[Stage 13:==============>                                           (2 + 6) / 8]\r"
     ]
    },
    {
     "name": "stdout",
     "output_type": "stream",
     "text": [
      "+--------------------+-----------+-----------+---------------+\n",
      "|        nomefantasia|         uf|datRefCarga|qtdReclamcoesUf|\n",
      "+--------------------+-----------+-----------+---------------+\n",
      "|     Banco Santander|Brasil - MS|    2023-08|             32|\n",
      "|         Banco Modal|Brasil - PR|    2023-08|              5|\n",
      "|Banco Santander C...|Brasil - AC|    2023-08|              2|\n",
      "|         Banco Digio|Brasil - CE|    2023-10|             11|\n",
      "|     Banco do Brasil|Brasil - MT|    2023-10|             90|\n",
      "|           Banco PSA|Brasil - PR|    2023-10|              2|\n",
      "|         Banco Honda|Brasil - TO|    2023-10|              1|\n",
      "|         BancoSeguro|Brasil - SP|    2024-04|             10|\n",
      "|       Banco Crefisa|Brasil - CE|    2024-04|              2|\n",
      "|Banco Mercantil d...|Brasil - PE|    2024-04|              5|\n",
      "+--------------------+-----------+-----------+---------------+\n",
      "only showing top 10 rows\n",
      "\n"
     ]
    },
    {
     "name": "stderr",
     "output_type": "stream",
     "text": [
      "                                                                                \r"
     ]
    }
   ],
   "source": [
    "consumidor.show(10)"
   ]
  },
  {
   "cell_type": "code",
   "execution_count": 89,
   "id": "45566259-e0a7-4fdd-9642-de8a519d10fb",
   "metadata": {
    "tags": []
   },
   "outputs": [],
   "source": [
    "df =  consumidor.groupBy(col('nomefantasia'), col('datRefCarga'))\\\n",
    "          .agg(count(col('nomefantasia')).alias('qtdReclamcoes'))\\\n",
    "          .orderBy(col('qtdReclamcoes'), ascending=False)\\\n",
    "          .limit(10)"
   ]
  },
  {
   "cell_type": "code",
   "execution_count": 83,
   "id": "8bbad35e",
   "metadata": {},
   "outputs": [],
   "source": [
    "reclamacaotopten = DeltaTable.forPath(spark, \"hdfs://namenode:9000/data/gold/reclamacaotopten/\")"
   ]
  },
  {
   "cell_type": "code",
   "execution_count": 93,
   "id": "98a0f88a",
   "metadata": {},
   "outputs": [
    {
     "data": {
      "text/plain": [
       "\"'2024-06'\""
      ]
     },
     "execution_count": 93,
     "metadata": {},
     "output_type": "execute_result"
    }
   ],
   "source": [
    "anoMes"
   ]
  },
  {
   "cell_type": "code",
   "execution_count": 92,
   "id": "5f7f80ee",
   "metadata": {},
   "outputs": [],
   "source": [
    "reclamacaotopten.delete(\"datRefCarga = '{anoMes}'\")"
   ]
  },
  {
   "cell_type": "code",
   "execution_count": 91,
   "id": "46db7895-a94e-4800-bb94-55b2df18fb76",
   "metadata": {},
   "outputs": [],
   "source": [
    "df.write.partitionBy('datRefCarga').format(\"delta\").mode(\"append\").save(\"hdfs://namenode:9000/data/gold/reclamacaotopten/\")"
   ]
  },
  {
   "cell_type": "code",
   "execution_count": 11,
   "id": "e0bd1aa7-eb63-4749-a938-b6706b77cf58",
   "metadata": {
    "tags": []
   },
   "outputs": [],
   "source": [
    "df = consumidor.groupBy(col('nomefantasia'), col('grupoProblema'),col('datRefCarga'))\\\n",
    "          .agg(count(col('nomefantasia')).alias('qtdReclamcoes'))"
   ]
  },
  {
   "cell_type": "code",
   "execution_count": 12,
   "id": "b13965c6-3f56-44a6-8dc7-5b423ca0c328",
   "metadata": {
    "tags": []
   },
   "outputs": [
    {
     "name": "stderr",
     "output_type": "stream",
     "text": [
      "                                                                                \r"
     ]
    }
   ],
   "source": [
    "df.write.partitionBy('datRefCarga').format(\"delta\").mode(\"append\").save(\"hdfs://namenode:9000/data/gold/grupoproblema/\")"
   ]
  },
  {
   "cell_type": "code",
   "execution_count": 94,
   "id": "35b9469a-4688-4309-b57f-20ab7b083406",
   "metadata": {},
   "outputs": [],
   "source": [
    "consumidor = spark.read.format('delta').load(\"hdfs://namenode:9000/data/gold/reclamacaotopten/\").where(f\"datRefCarga={anoMes}\")"
   ]
  },
  {
   "cell_type": "code",
   "execution_count": 95,
   "id": "8ccb84cf",
   "metadata": {},
   "outputs": [
    {
     "name": "stdout",
     "output_type": "stream",
     "text": [
      "+--------------------+-----------+-------------+\n",
      "|        nomefantasia|datRefCarga|qtdReclamcoes|\n",
      "+--------------------+-----------+-------------+\n",
      "|          Banco Pan |    2024-06|         1208|\n",
      "|           Banco Bmg|    2024-06|         1080|\n",
      "|     Banco Santander|    2024-06|          988|\n",
      "|     Banco do Brasil|    2024-06|          886|\n",
      "| Banco Itaú Unibanco|    2024-06|          672|\n",
      "|      Banco Bradesco|    2024-06|          655|\n",
      "|Banco BV (antigo ...|    2024-06|          462|\n",
      "|Banco Inter (Banc...|    2024-06|          428|\n",
      "|      Banco Daycoval|    2024-06|          281|\n",
      "|Banco C6 Consigna...|    2024-06|          264|\n",
      "+--------------------+-----------+-------------+\n",
      "\n"
     ]
    },
    {
     "name": "stderr",
     "output_type": "stream",
     "text": [
      "24/08/08 20:38:23 ERROR StandaloneSchedulerBackend: Application has been killed. Reason: Master removed our application: KILLED\n",
      "24/08/08 20:38:23 ERROR Inbox: Ignoring error\n",
      "org.apache.spark.SparkException: Exiting due to error from cluster scheduler: Master removed our application: KILLED\n",
      "\tat org.apache.spark.scheduler.TaskSchedulerImpl.error(TaskSchedulerImpl.scala:716)\n",
      "\tat org.apache.spark.scheduler.cluster.StandaloneSchedulerBackend.dead(StandaloneSchedulerBackend.scala:152)\n",
      "\tat org.apache.spark.deploy.client.StandaloneAppClient$ClientEndpoint.markDead(StandaloneAppClient.scala:258)\n",
      "\tat org.apache.spark.deploy.client.StandaloneAppClient$ClientEndpoint$$anonfun$receive$1.applyOrElse(StandaloneAppClient.scala:168)\n",
      "\tat org.apache.spark.rpc.netty.Inbox.$anonfun$process$1(Inbox.scala:115)\n",
      "\tat org.apache.spark.rpc.netty.Inbox.safelyCall(Inbox.scala:203)\n",
      "\tat org.apache.spark.rpc.netty.Inbox.process(Inbox.scala:100)\n",
      "\tat org.apache.spark.rpc.netty.MessageLoop.org$apache$spark$rpc$netty$MessageLoop$$receiveLoop(MessageLoop.scala:75)\n",
      "\tat org.apache.spark.rpc.netty.MessageLoop$$anon$1.run(MessageLoop.scala:41)\n",
      "\tat java.base/java.util.concurrent.ThreadPoolExecutor.runWorker(ThreadPoolExecutor.java:1128)\n",
      "\tat java.base/java.util.concurrent.ThreadPoolExecutor$Worker.run(ThreadPoolExecutor.java:628)\n",
      "\tat java.base/java.lang.Thread.run(Thread.java:829)\n"
     ]
    }
   ],
   "source": [
    "consumidor.show()"
   ]
  },
  {
   "cell_type": "code",
   "execution_count": null,
   "id": "5fac08b9",
   "metadata": {},
   "outputs": [],
   "source": []
  }
 ],
 "metadata": {
  "kernelspec": {
   "display_name": "base",
   "language": "python",
   "name": "python3"
  },
  "language_info": {
   "codemirror_mode": {
    "name": "ipython",
    "version": 3
   },
   "file_extension": ".py",
   "mimetype": "text/x-python",
   "name": "python",
   "nbconvert_exporter": "python",
   "pygments_lexer": "ipython3",
   "version": "3.8.19"
  }
 },
 "nbformat": 4,
 "nbformat_minor": 5
}
