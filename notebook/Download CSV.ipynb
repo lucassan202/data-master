{
 "cells": [
  {
   "cell_type": "code",
   "execution_count": 17,
   "id": "96fa6c05-6870-447a-9d78-1e3894d6ee69",
   "metadata": {
    "tags": []
   },
   "outputs": [],
   "source": [
    "import requests\n",
    "from urllib.request import urlopen\n",
    "from bs4 import BeautifulSoup"
   ]
  },
  {
   "cell_type": "code",
   "execution_count": 32,
   "id": "20f5aa50-7945-439b-b08c-dff75cf26032",
   "metadata": {
    "tags": []
   },
   "outputs": [],
   "source": [
    "def download_csv(url, destinationPath):\n",
    "    response = requests.get(url)\n",
    "    response.raise_for_status()\n",
    "    \n",
    "    with open(destinationPath, 'wb') as file:\n",
    "        file.write(response.content)"
   ]
  },
  {
   "cell_type": "code",
   "execution_count": 34,
   "id": "8b0e7ce4-2c9b-4438-90a6-5bbaa5d808d2",
   "metadata": {
    "tags": []
   },
   "outputs": [],
   "source": [
    "destinationPath = \"/home/besgam/Projetos/data-master/consumidor/csv\""
   ]
  },
  {
   "cell_type": "code",
   "execution_count": 20,
   "id": "68074576",
   "metadata": {},
   "outputs": [],
   "source": [
    "html = urlopen(\"https://dados.mj.gov.br/dataset/reclamacoes-do-consumidor-gov-br\")\n",
    "bs = BeautifulSoup(html, 'html.parser')"
   ]
  },
  {
   "cell_type": "code",
   "execution_count": 21,
   "id": "571a963c",
   "metadata": {},
   "outputs": [],
   "source": [
    "linhas = bs.find_all('a', {'class':'resource-url-analytics'})"
   ]
  },
  {
   "cell_type": "code",
   "execution_count": 22,
   "id": "a5a90861",
   "metadata": {},
   "outputs": [],
   "source": [
    "links = []"
   ]
  },
  {
   "cell_type": "code",
   "execution_count": 23,
   "id": "4862c592",
   "metadata": {},
   "outputs": [],
   "source": [
    "for link in linhas:\n",
    "    links.append(link.get('href'))"
   ]
  },
  {
   "cell_type": "code",
   "execution_count": null,
   "id": "8e7030b2",
   "metadata": {},
   "outputs": [],
   "source": [
    "for url in links:\n",
    "    if '2023-03' in url:                               \n",
    "        download_csv(url, \"{}/{}v\".format(destinationPath, url[url.rfind(\"/\")+1: -1]))"
   ]
  },
  {
   "cell_type": "code",
   "execution_count": null,
   "id": "35f5233b",
   "metadata": {},
   "outputs": [],
   "source": []
  }
 ],
 "metadata": {
  "kernelspec": {
   "display_name": "base",
   "language": "python",
   "name": "python3"
  },
  "language_info": {
   "codemirror_mode": {
    "name": "ipython",
    "version": 3
   },
   "file_extension": ".py",
   "mimetype": "text/x-python",
   "name": "python",
   "nbconvert_exporter": "python",
   "pygments_lexer": "ipython3",
   "version": "3.8.19"
  }
 },
 "nbformat": 4,
 "nbformat_minor": 5
}
