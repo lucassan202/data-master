{
 "cells": [
  {
   "cell_type": "code",
   "execution_count": 75,
   "id": "96fa6c05-6870-447a-9d78-1e3894d6ee69",
   "metadata": {
    "tags": []
   },
   "outputs": [],
   "source": [
    "import requests"
   ]
  },
  {
   "cell_type": "code",
   "execution_count": 77,
   "id": "20f5aa50-7945-439b-b08c-dff75cf26032",
   "metadata": {
    "tags": []
   },
   "outputs": [],
   "source": [
    "def download_csv(url, destinationPath):\n",
    "    response = requests.get(url)\n",
    "    response.raise_for_status()\n",
    "    \n",
    "    with open(destinationPath, 'wb') as file:\n",
    "        file.write(response.content)"
   ]
  },
  {
   "cell_type": "code",
   "execution_count": 79,
   "id": "370f5b8e-76f1-4ecc-9f61-c42868273823",
   "metadata": {
    "tags": []
   },
   "outputs": [],
   "source": [
    "url = \"https://dados.mj.gov.br/dataset/0182f1bf-e73d-42b1-ae8c-fa94d9ce9451/resource/ea6a3096-191f-46ad-8a0c-2bd6e67ddcd5/download/basecompleta2024-05.csv\""
   ]
  },
  {
   "cell_type": "code",
   "execution_count": 81,
   "id": "8b0e7ce4-2c9b-4438-90a6-5bbaa5d808d2",
   "metadata": {
    "tags": []
   },
   "outputs": [],
   "source": [
    "destinationPath = \"/home/besgam/consumidor/{}v\".format(url[url.rfind(\"/\")+1: -1])"
   ]
  },
  {
   "cell_type": "code",
   "execution_count": 87,
   "id": "a8aa2f07-1d70-473c-b8f9-2ca20cf69a6f",
   "metadata": {
    "tags": []
   },
   "outputs": [],
   "source": [
    "download_csv(url, destinationPath)"
   ]
  },
  {
   "cell_type": "code",
   "execution_count": null,
   "id": "fd13e135-0034-4885-903d-fffb58a7354c",
   "metadata": {},
   "outputs": [],
   "source": []
  }
 ],
 "metadata": {
  "kernelspec": {
   "display_name": "Python 3 (ipykernel)",
   "language": "python",
   "name": "python3"
  },
  "language_info": {
   "codemirror_mode": {
    "name": "ipython",
    "version": 3
   },
   "file_extension": ".py",
   "mimetype": "text/x-python",
   "name": "python",
   "nbconvert_exporter": "python",
   "pygments_lexer": "ipython3",
   "version": "3.8.19"
  }
 },
 "nbformat": 4,
 "nbformat_minor": 5
}
