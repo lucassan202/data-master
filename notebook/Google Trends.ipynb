{
 "cells": [
  {
   "cell_type": "code",
   "execution_count": 7,
   "id": "10ebee29-2da7-4235-b415-fabb7070f429",
   "metadata": {
    "tags": []
   },
   "outputs": [],
   "source": [
    "import os"
   ]
  },
  {
   "cell_type": "code",
   "execution_count": 9,
   "id": "b219ea8f-e7d1-49dd-be7a-95c23f69e580",
   "metadata": {
    "tags": []
   },
   "outputs": [
    {
     "data": {
      "text/plain": [
       "'/home/besgam/anaconda3/bin'"
      ]
     },
     "execution_count": 9,
     "metadata": {},
     "output_type": "execute_result"
    }
   ],
   "source": [
    "os.environ[\"SPARK_HOME\"]"
   ]
  },
  {
   "cell_type": "code",
   "execution_count": 3,
   "id": "8de88b94-0a2c-4b52-a339-0b788564cd93",
   "metadata": {
    "tags": []
   },
   "outputs": [],
   "source": [
    "os.environ[\"SPARK_HOME\"] = \"/home/besgam/anaconda3/bin\"\n",
    "os.environ[\"PYSPARK_PYTHON\"]=\"/home/besgam/anaconda3/bin/python3.8\""
   ]
  },
  {
   "cell_type": "code",
   "execution_count": null,
   "id": "ec7ec38f-8c78-4cf7-acc4-272a91fd00c7",
   "metadata": {
    "tags": []
   },
   "outputs": [],
   "source": [
    "from pyspark.sql import SparkSession\n",
    "from pyspark.sql.functions import *\n",
    "from pyspark.sql.types import *\n",
    "from pytrends.request import TrendReq\n",
    "\n",
    "spark = SparkSession.builder.appName(\"Google Trends\") \\\n",
    "    .master(\"spark://localhost:7077\")\\\n",
    "    .config(\"spark.jars.packages\", \"io.delta:delta-core_2.12:0.8.0\") \\\n",
    "    .config(\"spark.sql.extensions\", \"io.delta.sql.DeltaSparkSessionExtension\") \\\n",
    "    .config(\"spark.sql.catalog.spark_catalog\", \"org.apache.spark.sql.delta.catalog.DeltaCatalog\") \\\n",
    "    .config(\"spark.sql.sources.partitionOverwriteMode\", \"dynamic\")\\\n",
    "    .config(\"hive.exe.dynamic.partition.mode\", \"nonstrict\") \\\n",
    "    .getOrCreate()\n",
    "\n",
    "from delta.tables import *"
   ]
  },
  {
   "cell_type": "code",
   "execution_count": null,
   "id": "9d402394-6c16-4dfd-bf2a-dc070930452b",
   "metadata": {
    "tags": []
   },
   "outputs": [],
   "source": [
    "pytrends = TrendReq(hl='pt-BR', tz=-300)"
   ]
  },
  {
   "cell_type": "code",
   "execution_count": null,
   "id": "578cbbd4-c5d4-4822-b77b-d3aa86da2a12",
   "metadata": {
    "tags": []
   },
   "outputs": [],
   "source": [
    "kw_list = [\"Santander\", \"Banco\"]\n",
    "pytrends.build_payload(kw_list, timeframe='now 1-H', geo='BR')"
   ]
  },
  {
   "cell_type": "code",
   "execution_count": null,
   "id": "de17260c-3e68-4031-b6ef-52c7f6cdf714",
   "metadata": {
    "tags": []
   },
   "outputs": [],
   "source": [
    "df = pytrends.related_queries()"
   ]
  },
  {
   "cell_type": "code",
   "execution_count": null,
   "id": "025bd71b-9cc2-4159-b1f3-be9f5e3f716c",
   "metadata": {
    "tags": []
   },
   "outputs": [],
   "source": [
    "mySchema = StructType([ StructField(\"query\", StringType(), True)\\\n",
    "                       ,StructField(\"value\", IntegerType(), True)])"
   ]
  },
  {
   "cell_type": "code",
   "execution_count": null,
   "id": "93705f72-1741-42da-8bd7-1166f7242333",
   "metadata": {
    "tags": []
   },
   "outputs": [],
   "source": [
    "csvDF = spark \\\n",
    "    .readStream \\\n",
    "    .format(\"csv\")\n",
    "    .option(\"sep\", \",\") \\\n",
    "    .schema(mySchema) \\\n",
    "    .load()"
   ]
  },
  {
   "cell_type": "code",
   "execution_count": null,
   "id": "fa7defe0-c2c1-406f-8157-c8db12b15aef",
   "metadata": {
    "tags": []
   },
   "outputs": [],
   "source": [
    "sparkDF2 = spark.createDataFrame(df['Santander']['top'],schema=mySchema)"
   ]
  },
  {
   "cell_type": "code",
   "execution_count": null,
   "id": "e45f0d2e-b367-4758-a8b3-d667c67f401c",
   "metadata": {
    "tags": []
   },
   "outputs": [],
   "source": [
    "sparkDF2.show(100,False)"
   ]
  },
  {
   "cell_type": "code",
   "execution_count": 33,
   "id": "2f26f8b9-e5af-4194-907e-8d642cbe54ba",
   "metadata": {
    "tags": []
   },
   "outputs": [
    {
     "data": {
      "text/plain": [
       "pyspark.sql.dataframe.DataFrame"
      ]
     },
     "execution_count": 33,
     "metadata": {},
     "output_type": "execute_result"
    }
   ],
   "source": [
    "type(sparkDF2)"
   ]
  },
  {
   "cell_type": "code",
   "execution_count": null,
   "id": "fac9e109-0ae0-4754-aab0-1993c46f72c3",
   "metadata": {
    "tags": []
   },
   "outputs": [],
   "source": [
    "sparkDF2.writeStream \\\n",
    "    .outputMode(\"complete\") \\\n",
    "    .format(\"console\") \\\n",
    "    .start()\n",
    "\n",
    "query.awaitTermination()"
   ]
  },
  {
   "cell_type": "code",
   "execution_count": 31,
   "id": "091e3ed6-92bb-411a-9a61-41186f4cbfba",
   "metadata": {
    "tags": []
   },
   "outputs": [],
   "source": [
    "df['Santander']['rising']"
   ]
  }
 ],
 "metadata": {
  "kernelspec": {
   "display_name": "Python 3 (ipykernel)",
   "language": "python",
   "name": "python3"
  },
  "language_info": {
   "codemirror_mode": {
    "name": "ipython",
    "version": 3
   },
   "file_extension": ".py",
   "mimetype": "text/x-python",
   "name": "python",
   "nbconvert_exporter": "python",
   "pygments_lexer": "ipython3",
   "version": "3.8.19"
  }
 },
 "nbformat": 4,
 "nbformat_minor": 5
}
