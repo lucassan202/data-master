{
 "cells": [
  {
   "cell_type": "code",
   "execution_count": 1,
   "id": "d1558e9c-d941-4858-80bf-566c1955e388",
   "metadata": {
    "tags": []
   },
   "outputs": [
    {
     "name": "stderr",
     "output_type": "stream",
     "text": [
      "Warning: Ignoring non-Spark config property: hive.exe.dynamic.partition.mode\n",
      "24/07/04 19:51:55 WARN Utils: Your hostname, besgam-Aspire-E1-471 resolves to a loopback address: 127.0.1.1; using 192.168.0.16 instead (on interface wlp9s0)\n",
      "24/07/04 19:51:55 WARN Utils: Set SPARK_LOCAL_IP if you need to bind to another address\n",
      "WARNING: An illegal reflective access operation has occurred\n",
      "WARNING: Illegal reflective access by org.apache.spark.unsafe.Platform (file:/home/besgam/anaconda3/lib/python3.8/site-packages/pyspark/jars/spark-unsafe_2.12-3.0.0.jar) to constructor java.nio.DirectByteBuffer(long,int)\n",
      "WARNING: Please consider reporting this to the maintainers of org.apache.spark.unsafe.Platform\n",
      "WARNING: Use --illegal-access=warn to enable warnings of further illegal reflective access operations\n",
      "WARNING: All illegal access operations will be denied in a future release\n",
      "Ivy Default Cache set to: /home/besgam/.ivy2/cache\n",
      "The jars for the packages stored in: /home/besgam/.ivy2/jars\n",
      ":: loading settings :: url = jar:file:/home/besgam/anaconda3/lib/python3.8/site-packages/pyspark/jars/ivy-2.4.0.jar!/org/apache/ivy/core/settings/ivysettings.xml\n",
      "io.delta#delta-core_2.12 added as a dependency\n",
      ":: resolving dependencies :: org.apache.spark#spark-submit-parent-1fe27dac-7a69-4673-90b7-c88418ed1d31;1.0\n",
      "\tconfs: [default]\n",
      "\tfound io.delta#delta-core_2.12;0.8.0 in central\n",
      "\tfound org.antlr#antlr4;4.7 in central\n",
      "\tfound org.antlr#antlr4-runtime;4.7 in central\n",
      "\tfound org.antlr#antlr-runtime;3.5.2 in central\n",
      "\tfound org.antlr#ST4;4.0.8 in central\n",
      "\tfound org.abego.treelayout#org.abego.treelayout.core;1.0.3 in central\n",
      "\tfound org.glassfish#javax.json;1.0.4 in central\n",
      "\tfound com.ibm.icu#icu4j;58.2 in central\n",
      ":: resolution report :: resolve 492ms :: artifacts dl 16ms\n",
      "\t:: modules in use:\n",
      "\tcom.ibm.icu#icu4j;58.2 from central in [default]\n",
      "\tio.delta#delta-core_2.12;0.8.0 from central in [default]\n",
      "\torg.abego.treelayout#org.abego.treelayout.core;1.0.3 from central in [default]\n",
      "\torg.antlr#ST4;4.0.8 from central in [default]\n",
      "\torg.antlr#antlr-runtime;3.5.2 from central in [default]\n",
      "\torg.antlr#antlr4;4.7 from central in [default]\n",
      "\torg.antlr#antlr4-runtime;4.7 from central in [default]\n",
      "\torg.glassfish#javax.json;1.0.4 from central in [default]\n",
      "\t---------------------------------------------------------------------\n",
      "\t|                  |            modules            ||   artifacts   |\n",
      "\t|       conf       | number| search|dwnlded|evicted|| number|dwnlded|\n",
      "\t---------------------------------------------------------------------\n",
      "\t|      default     |   8   |   0   |   0   |   0   ||   8   |   0   |\n",
      "\t---------------------------------------------------------------------\n",
      ":: retrieving :: org.apache.spark#spark-submit-parent-1fe27dac-7a69-4673-90b7-c88418ed1d31\n",
      "\tconfs: [default]\n",
      "\t0 artifacts copied, 8 already retrieved (0kB/11ms)\n",
      "24/07/04 19:51:57 WARN NativeCodeLoader: Unable to load native-hadoop library for your platform... using builtin-java classes where applicable\n",
      "Using Spark's default log4j profile: org/apache/spark/log4j-defaults.properties\n",
      "Setting default log level to \"WARN\".\n",
      "To adjust logging level use sc.setLogLevel(newLevel). For SparkR, use setLogLevel(newLevel).\n"
     ]
    }
   ],
   "source": [
    "from pyspark.sql import SparkSession\n",
    "from pyspark.sql.functions import *\n",
    "from pyspark.sql.types import *\n",
    "\n",
    "spark = SparkSession.builder.appName(\"Download CSV\") \\\n",
    "    .master(\"local[*]\")\\\n",
    "    .config(\"spark.jars.packages\", \"io.delta:delta-core_2.12:0.8.0\") \\\n",
    "    .config(\"spark.sql.extensions\", \"io.delta.sql.DeltaSparkSessionExtension\") \\\n",
    "    .config(\"spark.sql.catalog.spark_catalog\", \"org.apache.spark.sql.delta.catalog.DeltaCatalog\") \\\n",
    "    .config(\"spark.sql.sources.partitionOverwriteMode\", \"dynamic\")\\\n",
    "    .config(\"hive.exe.dynamic.partition.mode\", \"nonstrict\") \\\n",
    "    .getOrCreate()\n"
   ]
  },
  {
   "cell_type": "code",
   "execution_count": 2,
   "id": "f16914e2-8b48-4601-9d27-867972705906",
   "metadata": {
    "tags": []
   },
   "outputs": [],
   "source": [
    "from pyspark.sql.types import StructType\n",
    "from pyspark.sql.functions import *"
   ]
  },
  {
   "cell_type": "code",
   "execution_count": 3,
   "id": "bb8e8ca9-0303-42fb-a6ee-0ef4c3be600c",
   "metadata": {
    "tags": []
   },
   "outputs": [],
   "source": [
    "Schema = StructType() \\\n",
    "\t.add('gestor', 'string') \\\n",
    "    .add('canalOrigem', 'string') \\\n",
    "    .add('regiao', 'string') \\\n",
    "    .add('uf', 'string') \\\n",
    "    .add('cidade', 'string') \\\n",
    "    .add('sexo', 'string') \\\n",
    "    .add('faixaEtaria', 'string') \\\n",
    "    .add('anoAbertura', 'integer') \\\n",
    "    .add('mesAbertura', 'integer') \\\n",
    "    .add('dataAbertura', 'string') \\\n",
    "    .add('dataResposta', 'string') \\\n",
    "    .add('dataAnalise', 'string') \\\n",
    "    .add('dataRecusa', 'string') \\\n",
    "    .add('dataFinalizacao', 'date') \\\n",
    "    .add('prazoResposta', 'string') \\\n",
    "    .add('prazoAnaliseGestor', 'integer') \\\n",
    "    .add('tempoResposta', 'integer') \\\n",
    "    .add('nomeFantasia', 'string') \\\n",
    "    .add('segmentoMercado', 'string') \\\n",
    "    .add('area', 'string') \\\n",
    "    .add('assunto', 'string') \\\n",
    "    .add('grupoProblema', 'string') \\\n",
    "    .add('problema', 'string') \\\n",
    "    .add('comoContratou', 'string') \\\n",
    "    .add('procurouEmpresa', 'string') \\\n",
    "    .add('respondida', 'string') \\\n",
    "    .add('situacao', 'string') \\\n",
    "    .add('avaliacaoReclamacao', 'string') \\\n",
    "    .add('notaConsumidor', 'integer') \\\n",
    "    .add('analiseRecusa', 'string')"
   ]
  },
  {
   "cell_type": "code",
   "execution_count": 4,
   "id": "eeac7481-29f3-48c3-a1fa-6a31f94ec79c",
   "metadata": {},
   "outputs": [],
   "source": [
    "inputDF = spark \\\n",
    "          .readStream \\\n",
    "          .option(\"maxFilesPerTrigger\", 1) \\\n",
    "          .option(\"header\", True) \\\n",
    "          .option(\"sep\", \";\") \\\n",
    "          .schema(Schema) \\\n",
    "          .csv(\"/home/besgam/consumidor/basecompleta*.csv\") \\\n",
    "          .withColumn(\"datRefCarga\", lit(substring(col('datafinalizacao'),1,7)))"
   ]
  },
  {
   "cell_type": "code",
   "execution_count": 5,
   "id": "423c027b-7ede-430a-b17e-86e2e55000e6",
   "metadata": {
    "tags": []
   },
   "outputs": [
    {
     "name": "stderr",
     "output_type": "stream",
     "text": [
      "24/07/04 19:55:07 WARN package: Truncated the string representation of a plan since it was too large. This behavior can be adjusted by setting 'spark.sql.debug.maxToStringFields'.\n",
      "24/07/04 19:55:10 WARN CSVHeaderChecker: CSV header does not conform to the schema.\n",
      " Header: Gestor, Canal de Origem, Região, UF, Cidade, Sexo, Faixa Etária, Ano Abertura, Mês Abertura, Data Abertura, Data Resposta, Data Análise, Data Recusa, Data Finalização, Prazo Resposta, Prazo Analise Gestor, Tempo Resposta, Nome Fantasia, Segmento de Mercado, Área, Assunto, Grupo Problema, Problema, Como Comprou Contratou, Procurou Empresa, Respondida, Situação, Avaliação Reclamação, Nota do Consumidor, Análise da Recusa\n",
      " Schema: gestor, canalOrigem, regiao, uf, cidade, sexo, faixaEtaria, anoAbertura, mesAbertura, dataAbertura, dataResposta, dataAnalise, dataRecusa, dataFinalizacao, prazoResposta, prazoAnaliseGestor, tempoResposta, nomeFantasia, segmentoMercado, area, assunto, grupoProblema, problema, comoContratou, procurouEmpresa, respondida, situacao, avaliacaoReclamacao, notaConsumidor, analiseRecusa\n",
      "Expected: canalOrigem but found: Canal de Origem\n",
      "CSV file: file:///home/besgam/consumidor/basecompleta2024-04.csv\n",
      "24/07/04 19:55:13 WARN MemoryManager: Total allocation exceeds 95,00% (1.020.054.720 bytes) of heap memory\n",
      "Scaling row group sizes to 95,00% for 8 writers\n",
      "24/07/04 19:55:22 WARN CSVHeaderChecker: CSV header does not conform to the schema.\n",
      " Header: Gestor, Canal de Origem, Região, UF, Cidade, Sexo, Faixa Etária, Ano Abertura, Mês Abertura, Data Abertura, Data Resposta, Data Análise, Data Recusa, Data Finalização, Prazo Resposta, Prazo Analise Gestor, Tempo Resposta, Nome Fantasia, Segmento de Mercado, Área, Assunto, Grupo Problema, Problema, Como Comprou Contratou, Procurou Empresa, Respondida, Situação, Avaliação Reclamação, Nota do Consumidor, Análise da Recusa\n",
      " Schema: gestor, canalOrigem, regiao, uf, cidade, sexo, faixaEtaria, anoAbertura, mesAbertura, dataAbertura, dataResposta, dataAnalise, dataRecusa, dataFinalizacao, prazoResposta, prazoAnaliseGestor, tempoResposta, nomeFantasia, segmentoMercado, area, assunto, grupoProblema, problema, comoContratou, procurouEmpresa, respondida, situacao, avaliacaoReclamacao, notaConsumidor, analiseRecusa\n",
      "Expected: canalOrigem but found: Canal de Origem\n",
      "CSV file: file:///home/besgam/consumidor/basecompleta2024-05.csv\n",
      "24/07/04 19:55:27 WARN CSVHeaderChecker: CSV header does not conform to the schema.\n",
      " Header: Gestor, Canal de Origem, Região, UF, Cidade, Sexo, Faixa Etária, Ano Abertura, Mês Abertura, Data Abertura, Data Resposta, Data Análise, Data Recusa, Data Finalização, Prazo Resposta, Prazo Analise Gestor, Tempo Resposta, Nome Fantasia, Segmento de Mercado, Área, Assunto, Grupo Problema, Problema, Como Comprou Contratou, Procurou Empresa, Respondida, Situação, Avaliação Reclamação, Nota do Consumidor, Análise da Recusa\n",
      " Schema: gestor, canalOrigem, regiao, uf, cidade, sexo, faixaEtaria, anoAbertura, mesAbertura, dataAbertura, dataResposta, dataAnalise, dataRecusa, dataFinalizacao, prazoResposta, prazoAnaliseGestor, tempoResposta, nomeFantasia, segmentoMercado, area, assunto, grupoProblema, problema, comoContratou, procurouEmpresa, respondida, situacao, avaliacaoReclamacao, notaConsumidor, analiseRecusa\n",
      "Expected: canalOrigem but found: Canal de Origem\n",
      "CSV file: file:///home/besgam/consumidor/basecompleta2024-03.csv\n",
      "24/07/04 19:55:31 WARN CSVHeaderChecker: CSV header does not conform to the schema.\n",
      " Header: Gestor, Canal de Origem, Região, UF, Cidade, Sexo, Faixa Etária, Ano Abertura, Mês Abertura, Data Abertura, Data Resposta, Data Análise, Data Recusa, Data Finalização, Prazo Resposta, Prazo Analise Gestor, Tempo Resposta, Nome Fantasia, Segmento de Mercado, Área, Assunto, Grupo Problema, Problema, Como Comprou Contratou, Procurou Empresa, Respondida, Situação, Avaliação Reclamação, Nota do Consumidor, Análise da Recusa\n",
      " Schema: gestor, canalOrigem, regiao, uf, cidade, sexo, faixaEtaria, anoAbertura, mesAbertura, dataAbertura, dataResposta, dataAnalise, dataRecusa, dataFinalizacao, prazoResposta, prazoAnaliseGestor, tempoResposta, nomeFantasia, segmentoMercado, area, assunto, grupoProblema, problema, comoContratou, procurouEmpresa, respondida, situacao, avaliacaoReclamacao, notaConsumidor, analiseRecusa\n",
      "Expected: canalOrigem but found: Canal de Origem\n",
      "CSV file: file:///home/besgam/consumidor/basecompleta2024-02.csv\n",
      "24/07/04 19:55:36 WARN CSVHeaderChecker: CSV header does not conform to the schema.\n",
      " Header: Gestor, Canal de Origem, Região, UF, Cidade, Sexo, Faixa Etária, Ano Abertura, Mês Abertura, Data Abertura, Data Resposta, Data Análise, Data Recusa, Data Finalização, Prazo Resposta, Prazo Analise Gestor, Tempo Resposta, Nome Fantasia, Segmento de Mercado, Área, Assunto, Grupo Problema, Problema, Como Comprou Contratou, Procurou Empresa, Respondida, Situação, Avaliação Reclamação, Nota do Consumidor, Análise da Recusa\n",
      " Schema: gestor, canalOrigem, regiao, uf, cidade, sexo, faixaEtaria, anoAbertura, mesAbertura, dataAbertura, dataResposta, dataAnalise, dataRecusa, dataFinalizacao, prazoResposta, prazoAnaliseGestor, tempoResposta, nomeFantasia, segmentoMercado, area, assunto, grupoProblema, problema, comoContratou, procurouEmpresa, respondida, situacao, avaliacaoReclamacao, notaConsumidor, analiseRecusa\n",
      "Expected: canalOrigem but found: Canal de Origem\n",
      "CSV file: file:///home/besgam/consumidor/basecompleta2024-01.csv\n",
      "24/07/04 19:55:36 WARN MemoryManager: Total allocation exceeds 95,00% (1.020.054.720 bytes) of heap memory\n",
      "Scaling row group sizes to 95,00% for 8 writers\n",
      "24/07/04 19:55:37 WARN DFSClient: Caught exception                  (1 + 7) / 8]\n",
      "java.lang.InterruptedException\n",
      "\tat java.base/java.lang.Object.wait(Native Method)\n",
      "\tat java.base/java.lang.Thread.join(Thread.java:1300)\n",
      "\tat java.base/java.lang.Thread.join(Thread.java:1375)\n",
      "\tat org.apache.hadoop.hdfs.DFSOutputStream$DataStreamer.closeResponder(DFSOutputStream.java:716)\n",
      "\tat org.apache.hadoop.hdfs.DFSOutputStream$DataStreamer.endBlock(DFSOutputStream.java:476)\n",
      "\tat org.apache.hadoop.hdfs.DFSOutputStream$DataStreamer.run(DFSOutputStream.java:652)\n",
      "24/07/04 19:55:40 WARN CSVHeaderChecker: CSV header does not conform to the schema.\n",
      " Header: Gestor, Canal de Origem, Região, UF, Cidade, Sexo, Faixa Etária, Ano Abertura, Mês Abertura, Data Abertura, Data Resposta, Data Análise, Data Recusa, Data Finalização, Prazo Resposta, Prazo Analise Gestor, Tempo Resposta, Nome Fantasia, Segmento de Mercado, Área, Assunto, Grupo Problema, Problema, Como Comprou Contratou, Procurou Empresa, Respondida, Situação, Avaliação Reclamação, Nota do Consumidor, Análise da Recusa\n",
      " Schema: gestor, canalOrigem, regiao, uf, cidade, sexo, faixaEtaria, anoAbertura, mesAbertura, dataAbertura, dataResposta, dataAnalise, dataRecusa, dataFinalizacao, prazoResposta, prazoAnaliseGestor, tempoResposta, nomeFantasia, segmentoMercado, area, assunto, grupoProblema, problema, comoContratou, procurouEmpresa, respondida, situacao, avaliacaoReclamacao, notaConsumidor, analiseRecusa\n",
      "Expected: canalOrigem but found: Canal de Origem\n",
      "CSV file: file:///home/besgam/consumidor/basecompleta2023-12.csv\n",
      "                                                                                \r"
     ]
    }
   ],
   "source": [
    "query = inputDF.writeStream \\\n",
    "                .partitionBy('datRefCarga') \\\n",
    "                .format(\"delta\") \\\n",
    "                .option(\"path\", \"hdfs://namenode:9000/data/consumidor/bronze\") \\\n",
    "                .option(\"checkpointLocation\", \"hdfs://namenode:9000/tmp/checkpoint\") \\\n",
    "                .start()"
   ]
  },
  {
   "cell_type": "code",
   "execution_count": null,
   "id": "6381934b-a872-45a4-84ec-ee09acaf6ba8",
   "metadata": {
    "tags": []
   },
   "outputs": [],
   "source": [
    "query.awaitTermination()"
   ]
  }
 ],
 "metadata": {
  "kernelspec": {
   "display_name": "Python 3 (ipykernel)",
   "language": "python",
   "name": "python3"
  },
  "language_info": {
   "codemirror_mode": {
    "name": "ipython",
    "version": 3
   },
   "file_extension": ".py",
   "mimetype": "text/x-python",
   "name": "python",
   "nbconvert_exporter": "python",
   "pygments_lexer": "ipython3",
   "version": "3.8.19"
  }
 },
 "nbformat": 4,
 "nbformat_minor": 5
}
